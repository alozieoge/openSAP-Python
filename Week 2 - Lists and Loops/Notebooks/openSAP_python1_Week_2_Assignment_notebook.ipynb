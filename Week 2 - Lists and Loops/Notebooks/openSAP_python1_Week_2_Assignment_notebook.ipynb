{
 "cells": [
  {
   "cell_type": "markdown",
   "id": "7dad59f9",
   "metadata": {},
   "source": [
    "## Exercise 1\n",
    "\n",
    "Below you find a code snippet to create a Python list containing the titles of all Star Wars movies. The list contains:\n",
    "\n",
    "A list containing the titles of the prequel trilogy: The Phantom Menace, Attack of the Clones, Revenge of the Sith\n",
    "A list containing the titles of the original trilogy: A New Hope, The Empire Strikes Back, Return of the Jedi,\n",
    "A list containing the titles of the sequel trilogy: The Force Awakens, The Last Jedi, The Rise of Skywalker\n",
    "    \n",
    "Write a program that asks the user for a number of the trilogy (1, 2 or 3) and the number of the film in this trilogy (1, 2 or 3). Print the title of the film corresponding to the user selection."
   ]
  },
  {
   "cell_type": "code",
   "execution_count": 1,
   "id": "b6a1c246",
   "metadata": {},
   "outputs": [],
   "source": [
    "star_wars_movies = [\n",
    "    [\"The Phantom Menace\", \"Attack of the Clones\", \"Revenge of the Sith\"],\n",
    "    [\"A New Hope\", \"The Empire Strikes Back\", \"Return of the Jedi\"],\n",
    "    [\"The Force Awakens\", \"The Last Jedi\", \"The Rise of Skywalker\"],\n",
    "]"
   ]
  },
  {
   "cell_type": "code",
   "execution_count": 2,
   "id": "692ed4f1",
   "metadata": {},
   "outputs": [
    {
     "name": "stdout",
     "output_type": "stream",
     "text": [
      "Please enter a number of the trilogy (1, 2 or 3): 2\n",
      "Please enter the number of a film in this trilogy (1, 2 or 3): 3\n",
      "The title of the film is: Return of the Jedi\n"
     ]
    }
   ],
   "source": [
    "trilogy_num = int(input(\"Please enter a number of the trilogy (1, 2 or 3): \"))\n",
    "film_num = int(input(\"Please enter the number of a film in this trilogy (1, 2 or 3): \"))\n",
    "film_title = star_wars_movies[trilogy_num - 1][film_num - 1]\n",
    "\n",
    "print(\"The title of the film is:\", film_title)"
   ]
  },
  {
   "cell_type": "markdown",
   "id": "ee4e8e11",
   "metadata": {},
   "source": [
    "## Exercise 2\n",
    "\n",
    "Your are given the following list containing stock symbols, their current price as well as the absolute price change of the previous day:\n",
    "\n",
    "`stocks = [[\"SAP\", 106, -3.0], [\"AAPL\", 165, 1.25], [\"TSLA\", 860, 54.2], [\"ORCL\", 76, -0.25], [\"ZM\", 114, 6.2]]`\n",
    "\n",
    "As you plan to take some of the profits, write a program that creates a list of all the stock symbols with a change of more than +5 percent. The list should be named sell_list. The list should only contain the stock symbol, not the price or the absolute change. Print the resulting list."
   ]
  },
  {
   "cell_type": "code",
   "execution_count": 2,
   "id": "6a2f6a25",
   "metadata": {},
   "outputs": [
    {
     "name": "stdout",
     "output_type": "stream",
     "text": [
      "['TSLA', 'ZM']\n"
     ]
    }
   ],
   "source": [
    "stocks = [[\"SAP\", 106, -3.0], [\"AAPL\", 165, 1.25], [\"TSLA\", 860, 54.2], [\"ORCL\", 76, -0.25], [\"ZM\", 114, 6.2]] \n",
    "\n",
    "sell_list = []\n",
    "for stock in stocks:\n",
    "    if abs(stock[2]) > 5.0:\n",
    "        sell_list.append(stock[0])\n",
    "print(sell_list)"
   ]
  },
  {
   "cell_type": "markdown",
   "id": "f1cf74b0",
   "metadata": {},
   "source": [
    "## Exercise 3"
   ]
  },
  {
   "cell_type": "markdown",
   "id": "680ae63a",
   "metadata": {},
   "source": [
    "Write a program that lets the user input a two-dimensional matrix (**Hint**: you could use a list of lists to store the matrix). \n",
    "\n",
    "The program should first ask the user how many rows and columns the matrix should contain. Next, the program should ask the user for the elements of the matrix. \n",
    "\n",
    "Your program should read the values from the user row by row. If, for example, the matrix has the dimension 2 by 3, the values should be read as follows:\n",
    "\n",
    "- First row, first value\n",
    "- First row, second value\n",
    "- First row, third value\n",
    "- Second row, first value\n",
    "- Second row, second value\n",
    "- Second row, third value\n",
    "\n",
    "Finally, the program should calculate and print the sums of the values in each row."
   ]
  },
  {
   "cell_type": "markdown",
   "id": "98e761c7",
   "metadata": {},
   "source": [
    "Below is an example execution of the program:\n",
    "\n",
    "`\n",
    "Please enter the number of rows in the matrix: 2\n",
    "Please enter the number of columns in the matrix: 3\n",
    "Enter the matrix values:\n",
    "Value: 1\n",
    "Value: 2\n",
    "Value: 3\n",
    "Value: 4\n",
    "Value: 5\n",
    "Value: 6\n",
    "Sum of row: 6\n",
    "Sum of row: 15\n",
    "`"
   ]
  },
  {
   "cell_type": "code",
   "execution_count": 9,
   "id": "546c8112",
   "metadata": {},
   "outputs": [
    {
     "name": "stdout",
     "output_type": "stream",
     "text": [
      "Please enter the number of rows? 2\n",
      "Please enter the number of columns? 3\n",
      "Enter the matrix values:\n",
      "Value: 1\n",
      "Value: 2\n",
      "Value: 3\n",
      "Value: 4\n",
      "Value: 5\n",
      "Value: 6\n",
      "[[1, 2, 3], [4, 5, 6]]\n",
      "Sum of row:  6\n",
      "Sum of row:  15\n"
     ]
    }
   ],
   "source": [
    "rows = int(input(\"Please enter the number of rows in the matrix? \"))\n",
    "columns = int(input(\"Please enter the number of columns in the matrix? \"))\n",
    "\n",
    "print(\"Enter the matrix values:\")\n",
    "\n",
    "matrix = []\n",
    "\n",
    "for row in range(rows):\n",
    "    matrix.append([])\n",
    "    for col in range(columns):\n",
    "        value = int(input(\"Value: \"))\n",
    "        matrix[row].append(value)\n",
    "\n",
    "# print(matrix)\n",
    "sum_matrix = []\n",
    "for row in range(rows):\n",
    "    print(\"Sum of row: \", sum(matrix[row]))"
   ]
  },
  {
   "cell_type": "markdown",
   "id": "9e0bdd02",
   "metadata": {},
   "source": [
    "## Assignment"
   ]
  },
  {
   "cell_type": "code",
   "execution_count": 10,
   "id": "8281b3f3",
   "metadata": {},
   "outputs": [
    {
     "name": "stdout",
     "output_type": "stream",
     "text": [
      "[]\n"
     ]
    }
   ],
   "source": [
    "list1 = []\n",
    "list1 *= 3\n",
    "print(list1)"
   ]
  },
  {
   "cell_type": "code",
   "execution_count": 11,
   "id": "f75a5c27",
   "metadata": {},
   "outputs": [],
   "source": [
    "list1 = list(range(2, 10, 2))\n",
    "list2 = list(range(1, 5, 1))"
   ]
  },
  {
   "cell_type": "code",
   "execution_count": 13,
   "id": "67a69cff",
   "metadata": {},
   "outputs": [
    {
     "name": "stdout",
     "output_type": "stream",
     "text": [
      "[2, 4, 6, 8, 1, 2, 3, 4]\n"
     ]
    },
    {
     "ename": "TypeError",
     "evalue": "can't multiply sequence by non-int of type 'list'",
     "output_type": "error",
     "traceback": [
      "\u001b[1;31m---------------------------------------------------------------------------\u001b[0m",
      "\u001b[1;31mTypeError\u001b[0m                                 Traceback (most recent call last)",
      "Input \u001b[1;32mIn [13]\u001b[0m, in \u001b[0;36m<cell line: 2>\u001b[1;34m()\u001b[0m\n\u001b[0;32m      1\u001b[0m \u001b[38;5;28mprint\u001b[39m(list1 \u001b[38;5;241m+\u001b[39m list2)\n\u001b[1;32m----> 2\u001b[0m \u001b[38;5;28mprint\u001b[39m(\u001b[43mlist1\u001b[49m\u001b[43m \u001b[49m\u001b[38;5;241;43m*\u001b[39;49m\u001b[43m \u001b[49m\u001b[43mlist2\u001b[49m)\n",
      "\u001b[1;31mTypeError\u001b[0m: can't multiply sequence by non-int of type 'list'"
     ]
    }
   ],
   "source": [
    "print(list1 + list2)\n",
    "print(list1 * list2)"
   ]
  },
  {
   "cell_type": "code",
   "execution_count": 15,
   "id": "4a5c7ca1",
   "metadata": {},
   "outputs": [
    {
     "data": {
      "text/plain": [
       "2"
      ]
     },
     "execution_count": 15,
     "metadata": {},
     "output_type": "execute_result"
    }
   ],
   "source": [
    "list1[-0]"
   ]
  },
  {
   "cell_type": "code",
   "execution_count": 17,
   "id": "15da31f9",
   "metadata": {},
   "outputs": [
    {
     "name": "stdout",
     "output_type": "stream",
     "text": [
      "24\n"
     ]
    }
   ],
   "source": [
    "x = 1\n",
    "list1 = [1, 2, 3, 4]\n",
    "for i in list1:\n",
    "    x *= i\n",
    "print(x)"
   ]
  },
  {
   "cell_type": "code",
   "execution_count": 18,
   "id": "b6957f46",
   "metadata": {},
   "outputs": [],
   "source": [
    "list1 = []\n",
    "for i in list1:\n",
    "    print(i)"
   ]
  },
  {
   "cell_type": "code",
   "execution_count": 20,
   "id": "bb24e1f6",
   "metadata": {},
   "outputs": [
    {
     "name": "stdout",
     "output_type": "stream",
     "text": [
      "[10, 9, 8, 7, 6, 5, 4, 3, 2]\n"
     ]
    }
   ],
   "source": [
    "print(list(range(10,1,-1)))"
   ]
  },
  {
   "cell_type": "code",
   "execution_count": 21,
   "id": "bbb1410f",
   "metadata": {},
   "outputs": [
    {
     "name": "stdout",
     "output_type": "stream",
     "text": [
      "[]\n"
     ]
    }
   ],
   "source": [
    "print(list(range(10,-1)))"
   ]
  },
  {
   "cell_type": "code",
   "execution_count": 22,
   "id": "46efec1a",
   "metadata": {},
   "outputs": [
    {
     "name": "stdout",
     "output_type": "stream",
     "text": [
      "[0, 2, 4]\n"
     ]
    }
   ],
   "source": [
    "list1 = list(range(5))\n",
    "list2 = [x for x in list1 if x % 2 == 0]\n",
    "print(list2)"
   ]
  },
  {
   "cell_type": "code",
   "execution_count": 23,
   "id": "f098b06b",
   "metadata": {},
   "outputs": [
    {
     "name": "stdout",
     "output_type": "stream",
     "text": [
      "['Liverpool', 'Chelsea']\n"
     ]
    }
   ],
   "source": [
    "champions = [[\"Liverpool\", 6], \n",
    "             [\"Chelsea\", 2], \n",
    "             [\"Manchester\", 0]]\n",
    "list2 = [x[0] for x in champions if x[1] > 0]\n",
    "print(list2)"
   ]
  },
  {
   "cell_type": "markdown",
   "id": "c3564b11",
   "metadata": {},
   "source": [
    "In this exercise you are going to simulate a sales and operations planning using the zero stock level strategy. Write a Python program that asks the user to enter the following data:\n",
    "\n",
    "- An initial stock level for a product\n",
    "- The number of month(s) to plan\n",
    "- The planned sales quantity for each month\n",
    "\n",
    "Based on this data, calculate the required production quantity as follows:\n",
    "\n",
    "- If the sales quantity is smaller than the stock level of the previous month, the production quantity is 0\n",
    "- If the sales quantity is larger than the stock level of the previous month, the production quantity is this difference"
   ]
  },
  {
   "cell_type": "markdown",
   "id": "80dc1996",
   "metadata": {},
   "source": [
    "Below is an example execution of the program:\n",
    "    \n",
    "`Please enter an initial stock level: 500\n",
    "Please enter the number of month to plan: 5\n",
    "Please enter the planned sales quantity: 300\n",
    "Please enter the planned sales quantity: 250\n",
    "Please enter the planned sales quantity: 200\n",
    "Please enter the planned sales quantity: 400\n",
    "Please enter the planned sales quantity: 100`\n",
    "\n",
    "`The resulting production quantities are:\n",
    "Production quantity month 1 - 0\n",
    "Production quantity month 2 - 50\n",
    "Production quantity month 3 - 200\n",
    "Production quantity month 4 - 400\n",
    "Production quantity month 5 - 100`"
   ]
  },
  {
   "cell_type": "markdown",
   "id": "bf6d4d0f",
   "metadata": {},
   "source": [
    "Why are those production quantities calculated? The initial stock level is 500. In the first month 300 pieces are sold. Therefore, nothing needs to be produced and the resulting stock is 200 (= 500 - 300). In the second month 250 pieces are sold. The stock level after the previous month is 200. Therefore 50 pieces need to be produced. The resulting stock level is 0 (= 200 + 50 - 250). In the third month 200 pieces are sold. The stock level after the previous month is 0. Therefore 200 pieces need to be produced. The resulting stock level is 0 (= 200 - 200)."
   ]
  },
  {
   "cell_type": "code",
   "execution_count": 8,
   "id": "dbba0ea1",
   "metadata": {},
   "outputs": [
    {
     "name": "stdout",
     "output_type": "stream",
     "text": [
      "Please enter an initial stock level: 500\n",
      "Please enter the number of months to plan: 5\n",
      "Please enter the planned sales quantity: 300\n",
      "Please enter the planned sales quantity: 250\n",
      "Please enter the planned sales quantity: 200\n",
      "Please enter the planned sales quantity: 400\n",
      "Please enter the planned sales quantity: 100\n",
      "\n",
      "The resulting production quantities are:\n",
      "Production quantity month 0 - 0\n",
      "Production quantity month 1 - 50\n",
      "Production quantity month 2 - 200\n",
      "Production quantity month 3 - 400\n",
      "Production quantity month 4 - 100\n"
     ]
    }
   ],
   "source": [
    "stock = int(input(\"Please enter an initial stock level: \"))\n",
    "months = int(input(\"Please enter the number of months to plan: \"))\n",
    "sales = []\n",
    "for month in range(months):\n",
    "    sale = int(input(\"Please enter the planned sales quantity: \"))\n",
    "    sales.append(sale)\n",
    "print(\"\\nThe resulting production quantities are:\")\n",
    "production = 0\n",
    "for month in range(months):\n",
    "    if sales[month] < stock:\n",
    "        production = 0\n",
    "    else:\n",
    "        production = sales[month] - stock\n",
    "        stock += production\n",
    "    stock -= sales[month]\n",
    "    print(\"Production quantity month\", month, \"-\", production)"
   ]
  },
  {
   "cell_type": "code",
   "execution_count": 2,
   "id": "8f9026bd",
   "metadata": {},
   "outputs": [
    {
     "name": "stdout",
     "output_type": "stream",
     "text": [
      "[300, 250, 200, 400, 100]\n"
     ]
    }
   ],
   "source": [
    "print(sales)"
   ]
  },
  {
   "cell_type": "code",
   "execution_count": 3,
   "id": "a584ded2",
   "metadata": {},
   "outputs": [
    {
     "data": {
      "text/plain": [
       "500"
      ]
     },
     "execution_count": 3,
     "metadata": {},
     "output_type": "execute_result"
    }
   ],
   "source": [
    "stock"
   ]
  },
  {
   "cell_type": "markdown",
   "id": "01da8862",
   "metadata": {},
   "source": [
    "### Feedback"
   ]
  },
  {
   "cell_type": "code",
   "execution_count": 9,
   "id": "04b2ddb6",
   "metadata": {},
   "outputs": [
    {
     "name": "stdout",
     "output_type": "stream",
     "text": [
      "Please insert the initial stock level: 500\n",
      "Please insert the number of months to plan: 5\n",
      "Please insert the planned sales quantity: 300\n",
      "Please enter the planned sales quantity: 250\n"
     ]
    }
   ],
   "source": [
    "#final graded exercise week 2\n",
    "initial_stock_level = int(input(\"Please insert the initial stock level: \"))\n",
    "months = int(input(\"Please insert the number of months to plan: \"))\n",
    "planned_sales = int(input(\"Please insert the planned sales quantity: \"))\n",
    "\n",
    "#need to calculate the required production quantity\n",
    "months = [range(months +1)]\n",
    "for i in months:\n",
    "    planned_sales = int(input(\"Please enter the planned sales quantity: \"))\n",
    "    if planned_sales < initial_stock_level:\n",
    "        production_quantity = 0\n",
    "    else:\n",
    "        production_quantity = planned_sales \n",
    "        print(\"Production quantity month\", i, \": \", production_quantity)"
   ]
  },
  {
   "cell_type": "markdown",
   "id": "b7f2a9b4",
   "metadata": {},
   "source": [
    "## Bonus Exercise"
   ]
  },
  {
   "cell_type": "markdown",
   "id": "3e9221e9",
   "metadata": {},
   "source": [
    "Write a Python program that prints the numbers from 1 to 100. If the number is dividable by 3 print Fizz, if the number is dividable by 5 print Buzz instead of the number. If the number is dividable by 3 and 5 print FizzBuzz."
   ]
  },
  {
   "cell_type": "code",
   "execution_count": 10,
   "id": "eceecafb",
   "metadata": {
    "scrolled": true
   },
   "outputs": [
    {
     "name": "stdout",
     "output_type": "stream",
     "text": [
      "1\n",
      "2\n",
      "Fizz\n",
      "4\n",
      "Buzz\n",
      "Fizz\n",
      "7\n",
      "8\n",
      "Fizz\n",
      "Buzz\n",
      "11\n",
      "Fizz\n",
      "13\n",
      "14\n",
      "FizzBuzz\n",
      "16\n",
      "17\n",
      "Fizz\n",
      "19\n",
      "Buzz\n",
      "Fizz\n",
      "22\n",
      "23\n",
      "Fizz\n",
      "Buzz\n",
      "26\n",
      "Fizz\n",
      "28\n",
      "29\n",
      "FizzBuzz\n",
      "31\n",
      "32\n",
      "Fizz\n",
      "34\n",
      "Buzz\n",
      "Fizz\n",
      "37\n",
      "38\n",
      "Fizz\n",
      "Buzz\n",
      "41\n",
      "Fizz\n",
      "43\n",
      "44\n",
      "FizzBuzz\n",
      "46\n",
      "47\n",
      "Fizz\n",
      "49\n",
      "Buzz\n",
      "Fizz\n",
      "52\n",
      "53\n",
      "Fizz\n",
      "Buzz\n",
      "56\n",
      "Fizz\n",
      "58\n",
      "59\n",
      "FizzBuzz\n",
      "61\n",
      "62\n",
      "Fizz\n",
      "64\n",
      "Buzz\n",
      "Fizz\n",
      "67\n",
      "68\n",
      "Fizz\n",
      "Buzz\n",
      "71\n",
      "Fizz\n",
      "73\n",
      "74\n",
      "FizzBuzz\n",
      "76\n",
      "77\n",
      "Fizz\n",
      "79\n",
      "Buzz\n",
      "Fizz\n",
      "82\n",
      "83\n",
      "Fizz\n",
      "Buzz\n",
      "86\n",
      "Fizz\n",
      "88\n",
      "89\n",
      "FizzBuzz\n",
      "91\n",
      "92\n",
      "Fizz\n",
      "94\n",
      "Buzz\n",
      "Fizz\n",
      "97\n",
      "98\n",
      "Fizz\n"
     ]
    }
   ],
   "source": [
    "for i in range(1, 100):\n",
    "    if i % 3 == 0 and i % 5 == 0:\n",
    "        print(\"FizzBuzz\")\n",
    "    elif i % 3 == 0:\n",
    "        print(\"Fizz\")\n",
    "    elif i % 5 == 0:\n",
    "        print(\"Buzz\")\n",
    "    else:\n",
    "        print(i)"
   ]
  },
  {
   "cell_type": "code",
   "execution_count": 11,
   "id": "bb0e1917",
   "metadata": {},
   "outputs": [
    {
     "name": "stdout",
     "output_type": "stream",
     "text": [
      "1\n",
      "2\n",
      "Fizz\n",
      "4\n",
      "Buzz\n",
      "Fizz\n",
      "7\n",
      "8\n",
      "Fizz\n",
      "Buzz\n",
      "11\n",
      "Fizz\n",
      "13\n",
      "14\n",
      "FizzBuzz\n",
      "16\n",
      "17\n",
      "Fizz\n",
      "19\n",
      "Buzz\n",
      "Fizz\n",
      "22\n",
      "23\n",
      "Fizz\n",
      "Buzz\n",
      "26\n",
      "Fizz\n",
      "28\n",
      "29\n",
      "FizzBuzz\n",
      "31\n",
      "32\n",
      "Fizz\n",
      "34\n",
      "Buzz\n",
      "Fizz\n",
      "37\n",
      "38\n",
      "Fizz\n",
      "Buzz\n",
      "41\n",
      "Fizz\n",
      "43\n",
      "44\n",
      "FizzBuzz\n",
      "46\n",
      "47\n",
      "Fizz\n",
      "49\n",
      "Buzz\n",
      "Fizz\n",
      "52\n",
      "53\n",
      "Fizz\n",
      "Buzz\n",
      "56\n",
      "Fizz\n",
      "58\n",
      "59\n",
      "FizzBuzz\n",
      "61\n",
      "62\n",
      "Fizz\n",
      "64\n",
      "Buzz\n",
      "Fizz\n",
      "67\n",
      "68\n",
      "Fizz\n",
      "Buzz\n",
      "71\n",
      "Fizz\n",
      "73\n",
      "74\n",
      "FizzBuzz\n",
      "76\n",
      "77\n",
      "Fizz\n",
      "79\n",
      "Buzz\n",
      "Fizz\n",
      "82\n",
      "83\n",
      "Fizz\n",
      "Buzz\n",
      "86\n",
      "Fizz\n",
      "88\n",
      "89\n",
      "FizzBuzz\n",
      "91\n",
      "92\n",
      "Fizz\n",
      "94\n",
      "Buzz\n",
      "Fizz\n",
      "97\n",
      "98\n",
      "Fizz\n",
      "Buzz\n"
     ]
    },
    {
     "data": {
      "text/plain": [
       "[None,\n",
       " None,\n",
       " None,\n",
       " None,\n",
       " None,\n",
       " None,\n",
       " None,\n",
       " None,\n",
       " None,\n",
       " None,\n",
       " None,\n",
       " None,\n",
       " None,\n",
       " None,\n",
       " None,\n",
       " None,\n",
       " None,\n",
       " None,\n",
       " None,\n",
       " None,\n",
       " None,\n",
       " None,\n",
       " None,\n",
       " None,\n",
       " None,\n",
       " None,\n",
       " None,\n",
       " None,\n",
       " None,\n",
       " None,\n",
       " None,\n",
       " None,\n",
       " None,\n",
       " None,\n",
       " None,\n",
       " None,\n",
       " None,\n",
       " None,\n",
       " None,\n",
       " None,\n",
       " None,\n",
       " None,\n",
       " None,\n",
       " None,\n",
       " None,\n",
       " None,\n",
       " None,\n",
       " None,\n",
       " None,\n",
       " None,\n",
       " None,\n",
       " None,\n",
       " None,\n",
       " None,\n",
       " None,\n",
       " None,\n",
       " None,\n",
       " None,\n",
       " None,\n",
       " None,\n",
       " None,\n",
       " None,\n",
       " None,\n",
       " None,\n",
       " None,\n",
       " None,\n",
       " None,\n",
       " None,\n",
       " None,\n",
       " None,\n",
       " None,\n",
       " None,\n",
       " None,\n",
       " None,\n",
       " None,\n",
       " None,\n",
       " None,\n",
       " None,\n",
       " None,\n",
       " None,\n",
       " None,\n",
       " None,\n",
       " None,\n",
       " None,\n",
       " None,\n",
       " None,\n",
       " None,\n",
       " None,\n",
       " None,\n",
       " None,\n",
       " None,\n",
       " None,\n",
       " None,\n",
       " None,\n",
       " None,\n",
       " None,\n",
       " None,\n",
       " None,\n",
       " None,\n",
       " None]"
      ]
     },
     "execution_count": 11,
     "metadata": {},
     "output_type": "execute_result"
    }
   ],
   "source": [
    "[print(\"FizzBuzz\") if i % 3 == 0 and i % 5 == 0 else print(\"Fizz\") if i % 3 == 0 else print(\"Buzz\") if i % 5 ==0 else print(i) for i in range(1, 101)]"
   ]
  },
  {
   "cell_type": "code",
   "execution_count": null,
   "id": "5e303638",
   "metadata": {},
   "outputs": [],
   "source": []
  }
 ],
 "metadata": {
  "kernelspec": {
   "display_name": "Python 3 (ipykernel)",
   "language": "python",
   "name": "python3"
  },
  "language_info": {
   "codemirror_mode": {
    "name": "ipython",
    "version": 3
   },
   "file_extension": ".py",
   "mimetype": "text/x-python",
   "name": "python",
   "nbconvert_exporter": "python",
   "pygments_lexer": "ipython3",
   "version": "3.10.4"
  },
  "varInspector": {
   "cols": {
    "lenName": 16,
    "lenType": 16,
    "lenVar": 40
   },
   "kernels_config": {
    "python": {
     "delete_cmd_postfix": "",
     "delete_cmd_prefix": "del ",
     "library": "var_list.py",
     "varRefreshCmd": "print(var_dic_list())"
    },
    "r": {
     "delete_cmd_postfix": ") ",
     "delete_cmd_prefix": "rm(",
     "library": "var_list.r",
     "varRefreshCmd": "cat(var_dic_list()) "
    }
   },
   "types_to_exclude": [
    "module",
    "function",
    "builtin_function_or_method",
    "instance",
    "_Feature"
   ],
   "window_display": false
  }
 },
 "nbformat": 4,
 "nbformat_minor": 5
}
