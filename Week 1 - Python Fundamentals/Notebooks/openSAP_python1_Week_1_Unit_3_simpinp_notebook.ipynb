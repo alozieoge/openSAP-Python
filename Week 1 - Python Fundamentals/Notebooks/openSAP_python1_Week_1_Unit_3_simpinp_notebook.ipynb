{
 "cells": [
  {
   "cell_type": "markdown",
   "metadata": {},
   "source": [
    "# Inputs and outputs\n",
    "## Outputs\n",
    "\n",
    "When a cell of a Jupyter Notebook is executed, the return value (the result) of the last statement is printed below the cell. However,\n",
    "if the last statement does not have a return value (e.g. assigning a value to a variable does not have one), there will be no\n",
    "output. \n",
    "\n",
    "Thus, working with this kind of output has two drawbacks: First, only the result of the last statement is given as output. Second, if the last statement does not have a return value, there is no output at all!\n",
    "\n",
    "Using the Python function `print()`, it is possible overcome these drawbacks. The argument within the paranthesis will be printed as output below the cell. (There will be a complete chapter about functions. Just briefly: A function consists of a function name (here *print*) followed by a pair of paranthesis. Within these paranthesis there can be one or several arguments, which are separated by commas.)"
   ]
  },
  {
   "cell_type": "code",
   "execution_count": 1,
   "metadata": {},
   "outputs": [
    {
     "name": "stdout",
     "output_type": "stream",
     "text": [
      "Hello\n",
      "42\n",
      "Joey\n"
     ]
    }
   ],
   "source": [
    "print(\"Hello\")\n",
    "print(42)\n",
    "\n",
    "name = \"Joey\"\n",
    "print(name)"
   ]
  },
  {
   "cell_type": "markdown",
   "metadata": {},
   "source": [
    "The desired output is passed to the `print()` function as an argument. It is also possible to provide multiple parameters to\n",
    "the `print` function. In this case the parameters must be separated by a comma (`,`)."
   ]
  },
  {
   "cell_type": "code",
   "execution_count": 3,
   "metadata": {},
   "outputs": [
    {
     "name": "stdout",
     "output_type": "stream",
     "text": [
      "My name is: Joey Ramone\n"
     ]
    }
   ],
   "source": [
    "name = \"Joey\"\n",
    "lastname = \"Ramone\"\n",
    "\n",
    "print(\"My name is:\", name, lastname)"
   ]
  },
  {
   "cell_type": "markdown",
   "metadata": {},
   "source": [
    "# Inputs\n",
    "Remember the exercise to calculate the surface area and volume of a cuboid? Calculating the values for a new cuboid has\n",
    "been quite tedious so far.\n",
    "\n",
    "Each time you need to:\n",
    "- Go to the cell of the notebook and change the Python program\n",
    "- Execute the cell again\n",
    "\n",
    "It would be much better if the program asked for the data to be processed as *input*. The Python program should be\n",
    "independent of specific values. The specific values should be provided as input to the program. This is the classic\n",
    "structure of a program according to the IPO principle: input → processing → output"
   ]
  },
  {
   "cell_type": "markdown",
   "metadata": {},
   "source": [
    "### The `input()` function\n",
    "\n",
    "The `input()` function can be used to read input from the user. A typical call of the function `input()` is:\n",
    "\n",
    "```python\n",
    "i = input(\"Please enter a number:\")\n",
    "print(i)\n",
    "```"
   ]
  },
  {
   "cell_type": "code",
   "execution_count": 4,
   "metadata": {},
   "outputs": [
    {
     "name": "stdout",
     "output_type": "stream",
     "text": [
      "Please insert a number: 69\n",
      "69\n"
     ]
    }
   ],
   "source": [
    "i = input(\"Please insert a number: \")\n",
    "print(i)"
   ]
  },
  {
   "cell_type": "markdown",
   "metadata": {},
   "source": [
    "The function `input()` first outputs the given argument *(\"Please ...\")*. After that, the function waits for an input\n",
    "from the user. The user enters a value and finishes the input with the return key (enter key). The entered value is\n",
    "assigned to the variable `i`."
   ]
  },
  {
   "cell_type": "markdown",
   "metadata": {},
   "source": [
    "### Exercise\n",
    "Write a program that uses `input()` to retrieve values for first name, last name, and email address. Output the entered\n",
    "values afterwards."
   ]
  },
  {
   "cell_type": "code",
   "execution_count": 5,
   "metadata": {},
   "outputs": [
    {
     "name": "stdout",
     "output_type": "stream",
     "text": [
      "Please enter your first name: Ogechukwu\n",
      "Please enter your last name: Alozie\n",
      "Please enter your email address: o.g.alozie@gmail.com\n",
      "First name: Ogechukwu\n",
      "Last name: Alozie\n",
      "Email address: o.g.alozie@gmail.com\n"
     ]
    }
   ],
   "source": [
    "first_name = input(\"Please enter your first name: \")\n",
    "last_name = input(\"Please enter your last name: \")\n",
    "email_address = input(\"Please enter your email address: \")\n",
    "\n",
    "print(\"First name:\", first_name)\n",
    "print(\"Last name:\", last_name)\n",
    "print(\"Email address:\", email_address)"
   ]
  },
  {
   "cell_type": "markdown",
   "metadata": {},
   "source": [
    "### Exercise 2\n",
    "\n",
    "Write a program that uses `input()` to accept two numbers from a user and output the sum and the product of both numbers.\n",
    "\n",
    "Expected form of the output:\n",
    "The sum is 30.\n",
    "The product is 225."
   ]
  },
  {
   "cell_type": "code",
   "execution_count": 9,
   "metadata": {},
   "outputs": [
    {
     "name": "stdout",
     "output_type": "stream",
     "text": [
      "Please enter a number: 40\n",
      "Please enter another number: 2\n",
      "The sum is 42\n",
      "The product is 80\n"
     ]
    }
   ],
   "source": [
    "first_number = int(input(\"Please enter a number: \"))\n",
    "second_number = int(input(\"Please enter another number: \"))\n",
    "sum_numbers = first_number + second_number\n",
    "product_numbers = first_number * second_number\n",
    "\n",
    "print(\"The sum is\", sum_numbers) \n",
    "print(\"The product is\", product_numbers)"
   ]
  },
  {
   "cell_type": "code",
   "execution_count": null,
   "metadata": {},
   "outputs": [],
   "source": []
  }
 ],
 "metadata": {
  "file_extension": ".py",
  "interpreter": {
   "hash": "ac59ebe37160ed0dfa835113d9b8498d9f09ceb179beaac4002f036b9467c963"
  },
  "kernelspec": {
   "display_name": "Python 3 (ipykernel)",
   "language": "python",
   "name": "python3"
  },
  "language_info": {
   "codemirror_mode": {
    "name": "ipython",
    "version": 3
   },
   "file_extension": ".py",
   "mimetype": "text/x-python",
   "name": "python",
   "nbconvert_exporter": "python",
   "pygments_lexer": "ipython3",
   "version": "3.10.4"
  },
  "mimetype": "text/x-python",
  "name": "python",
  "npconvert_exporter": "python",
  "pygments_lexer": "ipython3",
  "varInspector": {
   "cols": {
    "lenName": 16,
    "lenType": 16,
    "lenVar": 40
   },
   "kernels_config": {
    "python": {
     "delete_cmd_postfix": "",
     "delete_cmd_prefix": "del ",
     "library": "var_list.py",
     "varRefreshCmd": "print(var_dic_list())"
    },
    "r": {
     "delete_cmd_postfix": ") ",
     "delete_cmd_prefix": "rm(",
     "library": "var_list.r",
     "varRefreshCmd": "cat(var_dic_list()) "
    }
   },
   "types_to_exclude": [
    "module",
    "function",
    "builtin_function_or_method",
    "instance",
    "_Feature"
   ],
   "window_display": false
  },
  "version": 3
 },
 "nbformat": 4,
 "nbformat_minor": 2
}
