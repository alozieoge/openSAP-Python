{
 "cells": [
  {
   "cell_type": "markdown",
   "metadata": {},
   "source": [
    "# Conditional statements - part 1\n",
    "## Motivation\n",
    "\n",
    "All the previous programs  are based on a pure sequence of statements. After the start of the program the statements are\n",
    "executed step by step and the program ends afterwards. However, it is often necessary that parts of a program are\n",
    "only executed under certain conditions. For example, think of the following sentence and how it \n",
    "would be converted into a [pseudo code](https://de.wikipedia.org/wiki/Pseudocode) program:\n",
    "\n",
    "> If it rains tomorrow, I will clean up the basement. Then I will tidy the cupboards and sort the photos. Otherwise, I\n",
    "> will go swimming. In the evening I will go to the cinema with my wife.\n",
    "\n",
    "The textual description of the task is not precise. It is not exactly clear what is to be done.\n",
    "This is common for description in natural language. Often addition information is conveyed through the \n",
    "context of e.g. a conversation. What is probably meant in the previous example is the following:\n",
    "```\n",
    "   If it rains tomorrow, I will:\n",
    "      - clean up the basement\n",
    "      - tidy the cupboards\n",
    "      - sort the photos\n",
    "   Otherwise (so if it doesn't rain), I will:\n",
    "      go swimming.\n",
    "\n",
    "   In the evening I will go to the cinema with my wife.\n",
    "```\n",
    "So, depending on the weather either one or the other path of the pseudo code program is executed. This\n",
    "is illustrated in the following graphic:\n",
    "\n",
    "![img_conditionals.png](./img/img_conditionals.png)\n",
    "\n",
    "To enable this more complex workflow two things are required:\n",
    "\n",
    "- First, a construction that allows to split the workflow in different paths depending on a given condition.\n",
    "- Second, a specification of conditions."
   ]
  },
  {
   "cell_type": "markdown",
   "metadata": {},
   "source": [
    "## Conditions\n",
    "So, what is a condition? In the end, it is something that is either `True` or `False`, in other word, a condition always results in a boolean value. In principal, you could use `True` or `False`, when a condition is required. However, this  not flexible, i.e. `True` is always true. More sophisticated conditions can be expressed by comparing the content of variables with a given value. For example, there is an integer variable `age`. Then the value can be either equal to 18 or not equal. So checking for *is the value of age equal to 18* can either be `True` or `False`. There are a number of comparison operators, which can be used for both numerical data types and string data types. In the former case, the usual order of numbers is used, in the latter case, the alphabetic order is taken.\n",
    "\n",
    "## Comparison Operators\n",
    "\n",
    "In order to use decisions in programs a way to specify conditions is needed. To formulate condition the comparison\n",
    "operators can be used. The following table shows a selection of comparison operators available in Python. The result of\n",
    "a comparison using these operators is always a `Boolean` value. As already explained, the only possible `Boolean` values\n",
    "are `True` and `False`. For each comparison operator the table contain two example expressions that result in `True`\n",
    "and `False` respectively. \n",
    "\n",
    "| Operator | Explanation                          | Example True | Example False |\n",
    "| -------- | ------------------------------------ | ------------ | ------------- |\n",
    "| ==       | Check for equality                   | 2 == 2       | 2 == 3        |\n",
    "| !=       | Check for inequality                 | 2 != 3       | 2 != 2        |\n",
    "| <        | Check for \"smaller\"                  | 2 < 3        | 2 < 1         |\n",
    "| >        | Check for \"larger\"                   | 3 > 2        | 2 > 3         |\n",
    "| <=       | Check for \"less than or equal to\"    | 3 <= 3       | 3 <= 2        |\n",
    "| >=       | Check for \"greater than or equal to\" | 2 >= 2       | 2 >= 3        |\n",
    "\n",
    "## `=` vs. `==`\n",
    "It is important to emphasize the difference between `=` and `==`. If there is one equal sign, the statement is an *assignment*. A value is assigned to a variable. The assignment has no return value, it is neither true or false. If there are two equal signs, it is a comparison. The values on both sides of the `\"\"` are unchanged. However, the comparison leads to a value, namely `True` or `False`.\n",
    "\n",
    "## Complex Conditions\n",
    "What happens, if you want to check, if the variable `age` is greater than 18 but smaller than 30? In this case, you can build complex conditions using the boolean operators `and`, `or` and `not` (cf. the notebook about data types)."
   ]
  },
  {
   "cell_type": "markdown",
   "metadata": {},
   "source": [
    "## Exercise\n",
    "Familiarize yourself with the comparison operators. Also test more complex comparisons, such as:\n",
    "\n",
    "```python\n",
    "\"abc\" < \"abd\"\n",
    "\"abcd\" > \"abc\"\n",
    "2 == 2.0\n",
    "1 == True\n",
    "0 != True\n",
    "```"
   ]
  },
  {
   "cell_type": "code",
   "execution_count": 1,
   "metadata": {},
   "outputs": [
    {
     "data": {
      "text/plain": [
       "True"
      ]
     },
     "execution_count": 1,
     "metadata": {},
     "output_type": "execute_result"
    }
   ],
   "source": [
    "1 == True"
   ]
  },
  {
   "cell_type": "code",
   "execution_count": 5,
   "metadata": {},
   "outputs": [
    {
     "name": "stdout",
     "output_type": "stream",
     "text": [
      "True\n",
      "True\n",
      "True\n",
      "False\n",
      "False\n",
      "True\n"
     ]
    }
   ],
   "source": [
    "print(\"abc\" < \"abd\")\n",
    "print(\"abcd\" > \"abc\")\n",
    "print(2 == 2.0)\n",
    "print(2 == 2.00000001)\n",
    "print(0 == True)\n",
    "print(0 != True)"
   ]
  },
  {
   "cell_type": "code",
   "execution_count": 6,
   "metadata": {},
   "outputs": [
    {
     "data": {
      "text/plain": [
       "True"
      ]
     },
     "execution_count": 6,
     "metadata": {},
     "output_type": "execute_result"
    }
   ],
   "source": [
    "(1 < 0) or (1 == 0) or (1 > 0)"
   ]
  },
  {
   "cell_type": "code",
   "execution_count": 7,
   "metadata": {},
   "outputs": [
    {
     "data": {
      "text/plain": [
       "False"
      ]
     },
     "execution_count": 7,
     "metadata": {},
     "output_type": "execute_result"
    }
   ],
   "source": [
    "(1 < 0) and (1 == 0) and (1 > 0)"
   ]
  },
  {
   "cell_type": "markdown",
   "metadata": {},
   "source": [
    "# Conditional statements\n",
    "Using the conditional operators it is now possible to formulate conditional statements in Python.\n",
    "The syntax for conditional statements in Python is:\n",
    "\n",
    "```python\n",
    "if condition:\n",
    "   statement_a1\n",
    "   ...\n",
    "   statement_an\n",
    "else:\n",
    "   statement_b1\n",
    "   ...\n",
    "   statement_bm\n",
    "```\n",
    "\n",
    "The result of the condition can be either `True` or `False`. If the condition is `True` the statements `a1` to `an` are executed.\n",
    "If the condition is `False` the statements `b1` to `bm` are executed.\n",
    "Note, that the `else` branch is optional, i.e. an\n",
    "`if` condition can also be specified without an `else` alternative. If the condition then is not true (i.e. `false`),\n",
    "the statements of the `if` block are simply skipped."
   ]
  },
  {
   "cell_type": "code",
   "execution_count": 9,
   "metadata": {},
   "outputs": [
    {
     "name": "stdout",
     "output_type": "stream",
     "text": [
      "Please type a number: 69\n"
     ]
    }
   ],
   "source": [
    "number = int(input(\"Please type a number: \"))\n",
    "if number > 100:\n",
    "    print(number, \"is greater than 100!\")"
   ]
  },
  {
   "cell_type": "code",
   "execution_count": 12,
   "metadata": {},
   "outputs": [
    {
     "name": "stdout",
     "output_type": "stream",
     "text": [
      "Please type a number: 69\n",
      "69 is smaller or equals 100!\n"
     ]
    }
   ],
   "source": [
    "number = int(input(\"Please type a number: \"))\n",
    "if number > 100:\n",
    "    print(number, \"is greater than 100!\")\n",
    "else:\n",
    "    print(number, \"is smaller or equals 100!\")"
   ]
  },
  {
   "cell_type": "markdown",
   "metadata": {},
   "source": [
    "### Indentations mark the boundaries of code blocks\n",
    "\n",
    "Statements that belong together are called *code blocks*.\n",
    "As can be seen in the previous examples, Python does not use special characters or keywords to mark the\n",
    "beginning and the end of code blocks. Instead, indentation is used in Python. \n",
    "\n",
    "So indentation and spaces have a meaning in Python! Therefore, you must not indent arbitrarily within a program. Execute the code in the following two cells to see what happens."
   ]
  },
  {
   "cell_type": "code",
   "execution_count": 13,
   "metadata": {},
   "outputs": [
    {
     "ename": "IndentationError",
     "evalue": "unexpected indent (2362021268.py, line 2)",
     "output_type": "error",
     "traceback": [
      "\u001b[1;36m  Input \u001b[1;32mIn [13]\u001b[1;36m\u001b[0m\n\u001b[1;33m    b = 4\u001b[0m\n\u001b[1;37m    ^\u001b[0m\n\u001b[1;31mIndentationError\u001b[0m\u001b[1;31m:\u001b[0m unexpected indent\n"
     ]
    }
   ],
   "source": [
    "a = 3\n",
    "    b = 4\n",
    "print(a + b)"
   ]
  },
  {
   "cell_type": "code",
   "execution_count": 14,
   "metadata": {},
   "outputs": [
    {
     "name": "stdout",
     "output_type": "stream",
     "text": [
      "Number is greater than 0\n"
     ]
    }
   ],
   "source": [
    "number = 100\n",
    "if number > 0:\n",
    "    print(\"Number is greater than 0\")"
   ]
  },
  {
   "cell_type": "markdown",
   "metadata": {},
   "source": [
    "Let us challenge your understanding of code blocks in Python. Take a look at the following program. The last statement \n",
    "`print(\"Done\")` is not indented. What does this mean for the execution of the\n",
    "program? Change the program and indent the `print(\"Done\")`. How does the execution of the\n",
    "program change?"
   ]
  },
  {
   "cell_type": "code",
   "execution_count": 16,
   "metadata": {},
   "outputs": [
    {
     "name": "stdout",
     "output_type": "stream",
     "text": [
      "Please insert a number: 69\n",
      "69 is smaller or equals to 100!\n",
      "Done\n"
     ]
    }
   ],
   "source": [
    "number = int(input(\"Please insert a number: \"))\n",
    "if number > 100:\n",
    "    print(number, \"is greater than 100!\")\n",
    "else:\n",
    "    print(number, \"is smaller or equals to 100!\")\n",
    "print(\"Done\")"
   ]
  },
  {
   "cell_type": "markdown",
   "metadata": {},
   "source": [
    "### Exercise\n",
    "Write a conditional statement that asks for the user's name. Use the `input()` function. If his name is Harry or Harry Potter, then output \"Welcome to Gryffindor, Mr. Potter!\". Otherwise output \"Sorry, Hogwarts is full.\". "
   ]
  },
  {
   "cell_type": "code",
   "execution_count": 19,
   "metadata": {},
   "outputs": [
    {
     "name": "stdout",
     "output_type": "stream",
     "text": [
      "Please enter your name: harry\n",
      "Sorry, Hogwarts is full.\n"
     ]
    }
   ],
   "source": [
    "name = input(\"Please enter your name: \")\n",
    "if name == \"Harry\" or name == \"Harry Potter\":\n",
    "    print(\"Welcome to Gryffindor, Mr. Potter!\")\n",
    "else:\n",
    "    print(\"Sorry, Hogwarts is full.\")"
   ]
  },
  {
   "cell_type": "code",
   "execution_count": null,
   "metadata": {},
   "outputs": [],
   "source": []
  }
 ],
 "metadata": {
  "file_extension": ".py",
  "interpreter": {
   "hash": "ac59ebe37160ed0dfa835113d9b8498d9f09ceb179beaac4002f036b9467c963"
  },
  "kernelspec": {
   "display_name": "Python 3 (ipykernel)",
   "language": "python",
   "name": "python3"
  },
  "language_info": {
   "codemirror_mode": {
    "name": "ipython",
    "version": 3
   },
   "file_extension": ".py",
   "mimetype": "text/x-python",
   "name": "python",
   "nbconvert_exporter": "python",
   "pygments_lexer": "ipython3",
   "version": "3.10.4"
  },
  "mimetype": "text/x-python",
  "name": "python",
  "npconvert_exporter": "python",
  "pygments_lexer": "ipython3",
  "varInspector": {
   "cols": {
    "lenName": 16,
    "lenType": 16,
    "lenVar": 40
   },
   "kernels_config": {
    "python": {
     "delete_cmd_postfix": "",
     "delete_cmd_prefix": "del ",
     "library": "var_list.py",
     "varRefreshCmd": "print(var_dic_list())"
    },
    "r": {
     "delete_cmd_postfix": ") ",
     "delete_cmd_prefix": "rm(",
     "library": "var_list.r",
     "varRefreshCmd": "cat(var_dic_list()) "
    }
   },
   "types_to_exclude": [
    "module",
    "function",
    "builtin_function_or_method",
    "instance",
    "_Feature"
   ],
   "window_display": false
  },
  "version": 3
 },
 "nbformat": 4,
 "nbformat_minor": 2
}
