{
 "cells": [
  {
   "cell_type": "markdown",
   "id": "538f6167",
   "metadata": {},
   "source": [
    "## Assignment Week 1"
   ]
  },
  {
   "cell_type": "markdown",
   "id": "6f41dce1",
   "metadata": {},
   "source": [
    "### Assignment 1"
   ]
  },
  {
   "cell_type": "markdown",
   "id": "4287b68a",
   "metadata": {},
   "source": [
    "Triangles can be classified based on their angles.\n",
    "\n",
    "- A right triangle has one angle of 90°. \n",
    "- A obtuse triangle has one angle of more than 90°. \n",
    "- A triangle is acute if all three angles are less than 90°. \n",
    "\n",
    "Write a program that asks the user for the values of three angles in degrees. \n",
    "\n",
    "First check if the entered values are valid. The values are only valid if they are >0 and if their sum is 180°. \n",
    "\n",
    "If the entered values are valid, classify the triangle as right, acute or obtuse."
   ]
  },
  {
   "cell_type": "code",
   "execution_count": 1,
   "id": "c528ebd8",
   "metadata": {},
   "outputs": [],
   "source": [
    "# Below are two example executions of the program with invalid values:\n",
    "\n",
    "# Please enter the first angle: 60\n",
    "# Please enter the second angle: 60\n",
    "# Please enter the third angle: 100\n",
    "# The entered values are not valid.\n",
    "\n",
    "# Please enter the first angle: 200\n",
    "# Please enter the second angle: -10\n",
    "# Please enter the third angle: -10\n",
    "# Angles smaller than 0 are not valid.\n",
    "\n",
    "# Here is another example execution of the program:\n",
    "\n",
    "# Please enter the first angle: 60\n",
    "# Please enter the second angle: 30\n",
    "# Please enter the third angle: 90\n",
    "# The triangle is a right triangle."
   ]
  },
  {
   "cell_type": "code",
   "execution_count": null,
   "id": "0bace357",
   "metadata": {},
   "outputs": [],
   "source": [
    "angle_1 = int(input(\"Please enter the first angle: \"))\n",
    "angle_2 = int(input(\"Please enter the second angle: \"))\n",
    "angle_3 = int(input(\"Please enter the third angle: \"))\n",
    "\n",
    "sum_angles = angle_1 + angle_2 + angle_3\n",
    "\n",
    "if (angle_1 > 0) and (angle_2 > 0) and (angle_3 > 0) and (sum_angles == 180):\n",
    "    if (angle_1 == 90) or (angle_2 == 90) or (angle_3 == 90):\n",
    "        print(\"The triangle is a right triangle.\")\n",
    "    elif (angle_1 > 90) or (angle_2 > 90) or (angle_3 > 90):\n",
    "        print(\"The triangle is an obtuse triangle.\")\n",
    "    elif (angle_1 < 90) and (angle_2 < 90) and (angle_3 < 90):\n",
    "        print(\"The triangle is an acute triangle.\")\n",
    "else:\n",
    "    print(\"The entered values are not valid.\")"
   ]
  },
  {
   "cell_type": "markdown",
   "id": "6f36765e",
   "metadata": {},
   "source": [
    "### Bonus Assignment"
   ]
  },
  {
   "cell_type": "markdown",
   "id": "a48f46ed",
   "metadata": {},
   "source": [
    "A quadratic equation is an equation that can be written as\n",
    "\n",
    "$ax^2 + bx + c = 0$\n",
    "\n",
    "In this equation x represents an unknown number, and a, b, and c are representing known numbers. Possible solutions for a given quadratic equation can be calculated by the formula\n",
    "\n",
    "($x = \\frac{-b ± \\sqrt{b^2 - 4ac}}{2a}$)\n",
    "\n",
    "The expression $b^2 - 4ac$ is called the <b><span style=\"color: blue\">discriminant</span></b>. Using the discriminant makes it is easy to check the number of solutions for a given quadratic equation:\n",
    "\n",
    "- If the discriminant is 0, the quadratic equation has exactly one real solution.\n",
    "- If the discriminant is > 0, the quadratic equation has two real solutions.\n",
    "- If the discriminant is < 0, the quadratic equation has two complex solutions.\n",
    "\n",
    "Write a program that asks the user for the numbers $a$, $b$ and $c$. The program should then print out how many solutions the quadratic equation has."
   ]
  },
  {
   "cell_type": "code",
   "execution_count": null,
   "id": "60730fb7",
   "metadata": {},
   "outputs": [],
   "source": [
    "# Below is an example execution of the program:\n",
    "\n",
    "# Please enter the value of a: 4\n",
    "# Please enter the value of b: 2\n",
    "# Please enter the value of c: -2\n",
    "\n",
    "# The quadratic equation has 2 real solutions.\n",
    "# Here is an another example execution of the program:\n",
    "\n",
    "# Please enter the value of a: 1\n",
    "# Please enter the value of b: 2\n",
    "# Please enter the value of c: 3\n",
    "\n",
    "# The quadratic equation has 2 complex solutions.\n",
    "# And here is yet another example execution of the program:\n",
    "\n",
    "# Please enter the value of a: 1\n",
    "# Please enter the value of b: 2\n",
    "# Please enter the value of c: 1\n",
    "\n",
    "# The quadratic equation has 1 real solution."
   ]
  },
  {
   "cell_type": "code",
   "execution_count": null,
   "id": "9c484c1b",
   "metadata": {},
   "outputs": [],
   "source": [
    "a = int(input(\"Please enter the value of a: \"))\n",
    "b = int(input(\"Please enter the value of b: \"))\n",
    "c = int(input(\"Please enter the value of c: \"))\n",
    "\n",
    "discriminant = (b ** 2) - (4 * a * c)\n",
    "\n",
    "if discriminant == 0:\n",
    "    print(\"The quadratic equation has 1 real solution.\")\n",
    "elif discriminant > 0:\n",
    "    print(\"The quadratic equation has 2 real solutions.\")\n",
    "else:\n",
    "    print(\"The quadratic equation has 2 complex solutions.\")"
   ]
  }
 ],
 "metadata": {
  "kernelspec": {
   "display_name": "Python 3 (ipykernel)",
   "language": "python",
   "name": "python3"
  },
  "language_info": {
   "codemirror_mode": {
    "name": "ipython",
    "version": 3
   },
   "file_extension": ".py",
   "mimetype": "text/x-python",
   "name": "python",
   "nbconvert_exporter": "python",
   "pygments_lexer": "ipython3",
   "version": "3.10.4"
  },
  "varInspector": {
   "cols": {
    "lenName": 16,
    "lenType": 16,
    "lenVar": 40
   },
   "kernels_config": {
    "python": {
     "delete_cmd_postfix": "",
     "delete_cmd_prefix": "del ",
     "library": "var_list.py",
     "varRefreshCmd": "print(var_dic_list())"
    },
    "r": {
     "delete_cmd_postfix": ") ",
     "delete_cmd_prefix": "rm(",
     "library": "var_list.r",
     "varRefreshCmd": "cat(var_dic_list()) "
    }
   },
   "types_to_exclude": [
    "module",
    "function",
    "builtin_function_or_method",
    "instance",
    "_Feature"
   ],
   "window_display": false
  }
 },
 "nbformat": 4,
 "nbformat_minor": 5
}
