{
 "cells": [
  {
   "cell_type": "markdown",
   "metadata": {},
   "source": [
    "# Complex conditions\n",
    "As shown in the introduction to primitive data types, the operators *`and`*, *`or`* and *`not`* can be used to create\n",
    "complex expressions. Thus, these operators can be used to formulate complex conditions consisting of various\n",
    "comparisons. As always, parentheses can be used here for grouping and changing the order of evaluation. The conditions\n",
    "can be made arbitrarily complex, but will become more and more confusing with rising complexity."
   ]
  },
  {
   "cell_type": "code",
   "execution_count": 2,
   "metadata": {},
   "outputs": [
    {
     "name": "stdout",
     "output_type": "stream",
     "text": [
      "Please insert a number: 90\n",
      "90 can be divided by 3 and 5.\n"
     ]
    }
   ],
   "source": [
    "number = int(input(\"Please insert a number: \"))\n",
    "\n",
    "if (number % 3 == 0) and (number % 5 == 0):\n",
    "    print(number, \"can be divided by 3 and 5.\")"
   ]
  },
  {
   "cell_type": "code",
   "execution_count": 3,
   "metadata": {},
   "outputs": [
    {
     "name": "stdout",
     "output_type": "stream",
     "text": [
      "Wow, that was a complicated condition!\n",
      "This one was easier...\n"
     ]
    }
   ],
   "source": [
    "a = 5\n",
    "b = 8\n",
    "c = 10\n",
    "d = True\n",
    "e = False\n",
    "\n",
    "\n",
    "if a < 6 and b > 7 and c >= 10 and d and not e:\n",
    "    print(\"Wow, that was a complicated condition!\")\n",
    "\n",
    "if c == 7 or not e:\n",
    "    print(\"This one was easier...\")"
   ]
  },
  {
   "cell_type": "code",
   "execution_count": 4,
   "metadata": {},
   "outputs": [
    {
     "name": "stdout",
     "output_type": "stream",
     "text": [
      "True\n",
      "False\n"
     ]
    }
   ],
   "source": [
    "print(False and False or True)\n",
    "print(False and (False or True))"
   ]
  },
  {
   "cell_type": "markdown",
   "metadata": {},
   "source": [
    "# Checking input\n",
    "You can use `input()` to read input from the user. The output data type of this function is always `string`. With the\n",
    "help of the functions `int()`, `bool()`... you can convert the data type. So far we have often used the following\n",
    "statement. What happens if the entered value is not convertible to a number (e.g. when entering *twenty*)?"
   ]
  },
  {
   "cell_type": "code",
   "execution_count": 6,
   "metadata": {},
   "outputs": [
    {
     "name": "stdout",
     "output_type": "stream",
     "text": [
      "Please enter a number:two\n"
     ]
    },
    {
     "ename": "ValueError",
     "evalue": "invalid literal for int() with base 10: 'two'",
     "output_type": "error",
     "traceback": [
      "\u001b[1;31m---------------------------------------------------------------------------\u001b[0m",
      "\u001b[1;31mValueError\u001b[0m                                Traceback (most recent call last)",
      "Input \u001b[1;32mIn [6]\u001b[0m, in \u001b[0;36m<cell line: 1>\u001b[1;34m()\u001b[0m\n\u001b[1;32m----> 1\u001b[0m number \u001b[38;5;241m=\u001b[39m \u001b[38;5;28;43mint\u001b[39;49m\u001b[43m(\u001b[49m\u001b[38;5;28;43minput\u001b[39;49m\u001b[43m(\u001b[49m\u001b[38;5;124;43m\"\u001b[39;49m\u001b[38;5;124;43mPlease enter a number:\u001b[39;49m\u001b[38;5;124;43m\"\u001b[39;49m\u001b[43m)\u001b[49m\u001b[43m)\u001b[49m\n",
      "\u001b[1;31mValueError\u001b[0m: invalid literal for int() with base 10: 'two'"
     ]
    }
   ],
   "source": [
    "number = int(input(\"Please enter a number:\"))"
   ]
  },
  {
   "cell_type": "markdown",
   "metadata": {},
   "source": [
    "In order to prevent the program from being aborted and the error message from being shown, it must be checked whether\n",
    "the input can be converted into a certain data type. For this purpose Python provides several\n",
    "[`String` methods](https://docs.python.org/3/library/stdtypes.html#string-methods) including:\n",
    "- isdecimal()\n",
    "- isalpha()\n",
    "- isspace()\n",
    "\n",
    "All these *`.issomething()`* methods return a boolean value (`True` or `False`). Thus they can be used to check if a\n",
    "string can be converted."
   ]
  },
  {
   "cell_type": "code",
   "execution_count": 9,
   "metadata": {},
   "outputs": [
    {
     "name": "stdout",
     "output_type": "stream",
     "text": [
      "Please insert a number: 69\n",
      "Very nice, 69 is my favourite number.\n"
     ]
    }
   ],
   "source": [
    "number = input(\"Please insert a number: \")\n",
    "\n",
    "if number.isdigit():\n",
    "    number = int(number)\n",
    "    print(\"Very nice,\", number, \"is my favourite number.\")\n",
    "else:\n",
    "    print(\"Sorry, that was not a number!\")"
   ]
  },
  {
   "cell_type": "markdown",
   "metadata": {},
   "source": [
    "# Exercise 1\n",
    "Examine the following example (from the previous unit) and consider why the conditions were nested. Would it be possible\n",
    "to rewrite the program so that nesting is not necessary? Try it yourself..."
   ]
  },
  {
   "cell_type": "code",
   "execution_count": null,
   "metadata": {},
   "outputs": [],
   "source": [
    "temperature = int(input(\"Please insert the current temperature: \"))\n",
    "rain = True\n",
    "wind = False\n",
    "\n",
    "if temperature > 20:\n",
    "    print(\"It's warm\")\n",
    "    if rain:\n",
    "        print(\"Warm & raining: summer in Aachen\")\n",
    "        if wind:\n",
    "            print(\"It's warm, it rains and it's windy!\")\n",
    "        else:\n",
    "            print(\"Warm, raining, no wind at all\")\n",
    "    else:\n",
    "        print(\"Warm and dry, beautiful!\")\n",
    "        if wind:\n",
    "            print(\"Warm, dry and windy: Good weather for sailing\")\n",
    "        else:\n",
    "            print(\"Warm, dry, windless: Just lie in the sun\")\n",
    "else:\n",
    "    print(\"If it's cold, I don't care about rain and wind\")"
   ]
  },
  {
   "cell_type": "code",
   "execution_count": 15,
   "metadata": {},
   "outputs": [
    {
     "name": "stdout",
     "output_type": "stream",
     "text": [
      "Please insert the current temperature: 15\n",
      "If it's cold, I don't care about rain and wind\n"
     ]
    }
   ],
   "source": [
    "# Start your try here...\n",
    "temperature = int(input(\"Please insert the current temperature: \"))\n",
    "rain = False\n",
    "wind = False\n",
    "\n",
    "if (temperature > 20) and (rain == True) and (wind == True):\n",
    "    print(\"It's warm, it rains and it's windy!\")\n",
    "elif (temperature > 20) and (rain == True) and (wind == False):\n",
    "    print(\"Warm, raining, no wind at all\")\n",
    "elif (temperature > 20) and (rain == False) and (wind == True):\n",
    "    print(\"Warm, dry and windy: Good weather for sailing\")\n",
    "elif (temperature > 20) and (rain == False) and (wind == False):\n",
    "    print(\"Warm, dry, windless: Just lie in the sun\")\n",
    "else:\n",
    "    print(\"If it's cold, I don't care about rain and wind\")"
   ]
  },
  {
   "cell_type": "code",
   "execution_count": 16,
   "metadata": {},
   "outputs": [
    {
     "name": "stdout",
     "output_type": "stream",
     "text": [
      "Please insert the current temperature: 30\n",
      "Warm, dry, windless: Just lie in the sun\n"
     ]
    }
   ],
   "source": [
    "# Start your try here...\n",
    "temperature = int(input(\"Please insert the current temperature: \"))\n",
    "rain = False\n",
    "wind = False\n",
    "\n",
    "if (temperature > 20):\n",
    "    if (rain == True) and (wind == True):\n",
    "        print(\"It's warm, it rains and it's windy!\")\n",
    "        \n",
    "    if (rain == True) and (wind == False):\n",
    "        print(\"Warm, raining, no wind at all\")\n",
    "        \n",
    "    if (rain == False) and (wind == True):\n",
    "        print(\"Warm, dry and windy: Good weather for sailing\")\n",
    "        \n",
    "    if (temperature > 20) and (rain == False) and (wind == False):\n",
    "        print(\"Warm, dry, windless: Just lie in the sun\")\n",
    "        \n",
    "else:\n",
    "    print(\"If it's cold, I don't care about rain and wind\")"
   ]
  },
  {
   "cell_type": "markdown",
   "metadata": {},
   "source": [
    "# Exercise 2\n",
    "As is well known, a calendar year has 365 or 366 days. According to the Gregorian calendar, a year lasts exactly\n",
    "365.2425 days, i.e. 365 days, 5 hours, 49 minutes, 12 seconds or in other words: 31,556,952 seconds. So, roughly\n",
    "speaking, a year is 1/4 of a day longer than 365 days.\n",
    "\n",
    "To correct this difference, leap days have been introduced. Every four years the 29th of February is inserted as a leap\n",
    "day. However, with this we make a new small \"mistake\" because now we have a hundredth of a day too much. For this\n",
    "reason, every 100 years - namely, if the year number is divisible by 100 - a leap day is omitted. For example, the year\n",
    "1900 was not a leap year, although it was divisible by four.\n",
    "\n",
    "Albeit this is almost sufficient, we need another adjustment every 400 years, then a leap day is inserted, although the\n",
    "year number is divisible by hundred. According to this rule, the year 2000 was a leap year for example.\n",
    "\n",
    "With these information now write a Python program that calculates whether a given year is a leap year or not."
   ]
  },
  {
   "cell_type": "code",
   "execution_count": 37,
   "metadata": {
    "scrolled": true
   },
   "outputs": [
    {
     "name": "stdout",
     "output_type": "stream",
     "text": [
      "Please enter the year: two\n",
      "two is not a valid year!\n"
     ]
    }
   ],
   "source": [
    "year = input(\"Please enter a year: \")\n",
    "\n",
    "if year.isdigit():\n",
    "    year = int(year)\n",
    "    if (year % 4 == 0) and (year % 100 != 0) and (year % 400 == 0):\n",
    "        print(year, \"is a leap year!\")\n",
    "    elif (year % 4 == 0) and (year % 100 != 0) and (year % 400 != 0):\n",
    "        print(year, \"is a leap year!\")\n",
    "    elif (year % 4 == 0) and (year % 100 == 0) and (year % 400 == 0):\n",
    "        print(year, \"is a leap year!\")\n",
    "    elif (year % 4 == 0) and (year % 100 == 0) and (year % 400 != 0):\n",
    "        print(year, \"is not a leap year!\")\n",
    "    else:\n",
    "        print(year, \"is not a leap year!\")\n",
    "else:\n",
    "    print(year, \"is not a valid year!\")"
   ]
  },
  {
   "cell_type": "code",
   "execution_count": 41,
   "metadata": {},
   "outputs": [
    {
     "name": "stdout",
     "output_type": "stream",
     "text": [
      "Please enter a year: 2016\n",
      "The year 2016 is a leap year!\n"
     ]
    }
   ],
   "source": [
    "year = input(\"Please enter a year: \")\n",
    "\n",
    "if year.isdigit():\n",
    "    year = int(year)\n",
    "    if (year % 4 == 0) and ((year % 100 != 0) or (year % 400 == 0)):\n",
    "        print(\"The year\", year, \"is a leap year!\")\n",
    "    else:\n",
    "        print(\"The year\", year, \"is not a leap year!\")\n",
    "else:\n",
    "    print(year, \"is not a valid year!\")"
   ]
  },
  {
   "cell_type": "markdown",
   "metadata": {},
   "source": [
    "## Self-test"
   ]
  },
  {
   "cell_type": "code",
   "execution_count": 42,
   "metadata": {},
   "outputs": [
    {
     "name": "stdout",
     "output_type": "stream",
     "text": [
      "Enter a number: 105\n",
      "True\n"
     ]
    }
   ],
   "source": [
    "x = int(input(\"Enter a number: \"))\n",
    "\n",
    "if (x % 5 == 0) and (x % 7 == 0):\n",
    "    print(\"True\")\n",
    "else:\n",
    "    print(\"False\")"
   ]
  },
  {
   "cell_type": "markdown",
   "metadata": {},
   "source": [
    "## Assignment"
   ]
  },
  {
   "cell_type": "code",
   "execution_count": 43,
   "metadata": {},
   "outputs": [
    {
     "data": {
      "text/plain": [
       "2"
      ]
     },
     "execution_count": 43,
     "metadata": {},
     "output_type": "execute_result"
    }
   ],
   "source": [
    "9 //4"
   ]
  },
  {
   "cell_type": "code",
   "execution_count": 44,
   "metadata": {},
   "outputs": [
    {
     "data": {
      "text/plain": [
       "True"
      ]
     },
     "execution_count": 44,
     "metadata": {},
     "output_type": "execute_result"
    }
   ],
   "source": [
    "not(100 < 99)"
   ]
  },
  {
   "cell_type": "code",
   "execution_count": 45,
   "metadata": {},
   "outputs": [
    {
     "data": {
      "text/plain": [
       "True"
      ]
     },
     "execution_count": 45,
     "metadata": {},
     "output_type": "execute_result"
    }
   ],
   "source": [
    "(25 > 100) or (25 < 100)"
   ]
  },
  {
   "cell_type": "markdown",
   "metadata": {},
   "source": [
    "## Assignment Feedback"
   ]
  },
  {
   "cell_type": "code",
   "execution_count": 47,
   "metadata": {},
   "outputs": [
    {
     "name": "stdout",
     "output_type": "stream",
     "text": [
      "Please enter the first angle of the triangle 20\n",
      "Please enter the second angle of the triangle 40\n",
      "Please enter the third angle of the triangle 60\n",
      "The entered values are not valid\n"
     ]
    }
   ],
   "source": [
    "ang1 = int(input(\"Please enter the first angle of the triangle \"))\n",
    "ang2 = int(input(\"Please enter the second angle of the triangle \"))\n",
    "ang3 = int(input(\"Please enter the third angle of the triangle \"))\n",
    "lv_sum_check = bool(ang1 + ang2 + ang3 == 180)\n",
    "lv_angle_less_than_zero = bool((ang1 <= 0)or(ang2 <= 0)or(ang3 <= 0))\n",
    "if lv_sum_check and not lv_angle_less_than_zero:\n",
    "#Check for Right-angle\n",
    "    if(ang1 == 90 or ang2 == 90 or ang3 == 90):\n",
    "        print(\"The triangle is right angle\")\n",
    "#Check for Acute-angle \n",
    "    elif((ang1 < 90)and(ang1 < 90)and(ang1 < 90)):\n",
    "        print(\"The triangle is acute angle\")\n",
    "#Check for Obtuse-angle\n",
    "    else:\n",
    "        print(\"The triangle is obtuse angle\")\n",
    "elif lv_angle_less_than_zero:\n",
    "    print(\"Angles smaller than 0 are not valid.\")\n",
    "else:\n",
    "    print(\"The entered values are not valid\")"
   ]
  },
  {
   "cell_type": "code",
   "execution_count": 48,
   "metadata": {},
   "outputs": [
    {
     "name": "stdout",
     "output_type": "stream",
     "text": [
      "Please enter the value of a:1\n",
      "Please enter the value of b:2\n",
      "Please enter the value of c:1\n",
      "0.0\n",
      "The quadtratic equation has 2 real solutions\n"
     ]
    }
   ],
   "source": [
    "a = float(input(\"Please enter the value of a:\"))\n",
    "b = float(input(\"Please enter the value of b:\"))\n",
    "c = float(input(\"Please enter the value of c:\"))\n",
    "\n",
    "d= b*b -4*a*c\n",
    "print (d)\n",
    "if d == 0:\n",
    "    print (\"The quadtratic equation has 2 real solutions\")\n",
    "elif d > 0:\n",
    "    print (\"The quadratic equation has 2 complex solutions\")\n",
    "elif d < 0:\n",
    "    print(\"The quardratic equation has 1 real solution\")"
   ]
  },
  {
   "cell_type": "code",
   "execution_count": null,
   "metadata": {},
   "outputs": [],
   "source": []
  }
 ],
 "metadata": {
  "file_extension": ".py",
  "interpreter": {
   "hash": "ac59ebe37160ed0dfa835113d9b8498d9f09ceb179beaac4002f036b9467c963"
  },
  "kernelspec": {
   "display_name": "Python 3 (ipykernel)",
   "language": "python",
   "name": "python3"
  },
  "language_info": {
   "codemirror_mode": {
    "name": "ipython",
    "version": 3
   },
   "file_extension": ".py",
   "mimetype": "text/x-python",
   "name": "python",
   "nbconvert_exporter": "python",
   "pygments_lexer": "ipython3",
   "version": "3.10.4"
  },
  "mimetype": "text/x-python",
  "name": "python",
  "npconvert_exporter": "python",
  "pygments_lexer": "ipython3",
  "varInspector": {
   "cols": {
    "lenName": 16,
    "lenType": 16,
    "lenVar": 40
   },
   "kernels_config": {
    "python": {
     "delete_cmd_postfix": "",
     "delete_cmd_prefix": "del ",
     "library": "var_list.py",
     "varRefreshCmd": "print(var_dic_list())"
    },
    "r": {
     "delete_cmd_postfix": ") ",
     "delete_cmd_prefix": "rm(",
     "library": "var_list.r",
     "varRefreshCmd": "cat(var_dic_list()) "
    }
   },
   "types_to_exclude": [
    "module",
    "function",
    "builtin_function_or_method",
    "instance",
    "_Feature"
   ],
   "window_display": false
  },
  "version": 3
 },
 "nbformat": 4,
 "nbformat_minor": 2
}
