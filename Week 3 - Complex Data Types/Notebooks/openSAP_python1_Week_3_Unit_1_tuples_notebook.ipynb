{
 "cells": [
  {
   "cell_type": "markdown",
   "metadata": {},
   "source": [
    "# What are [tuples](https://docs.python.org/3/library/stdtypes.html?highlight=tuple#tuples)?\n",
    "## Definition\n",
    "A `tuple` is a complex data type just like lists. While lists are mutable, tuples are not. A tuple is a complex data type\n",
    "consisting of multiple elements. A tuple is represented by parentheses: `()`. The individual elements of the\n",
    "tuple are separated by commas. Just like lists and simple data types, you can assign a tuple to a variable. Tuples can\n",
    "also contain tuples or lists as elements."
   ]
  },
  {
   "cell_type": "code",
   "execution_count": 1,
   "metadata": {},
   "outputs": [
    {
     "name": "stdout",
     "output_type": "stream",
     "text": [
      "(52066, 'Aachen', 'Eupener Str. 70', '0241-6009-12345')\n",
      "('Peter', 'Meier', 123456, 'SAP basics', 'pm12345s@university.edu', (52066, 'Aachen', 'Eupener Str. 70', '0241-6009-12345'))\n",
      "(12312, 'absbsb', [1, 2, 3, 4], ('a', 'b', 'c'), 'end')\n"
     ]
    }
   ],
   "source": [
    "address = (52066, \"Aachen\", \"Eupener Str. 70\", \"0241-6009-12345\")\n",
    "print(address)\n",
    "student = (\"Peter\", \"Meier\", 123456, \"SAP basics\", \"pm12345s@university.edu\", address)\n",
    "print(student)\n",
    "tup1 = (12312, \"absbsb\", [1, 2, 3, 4], (\"a\", \"b\", \"c\"), \"end\")\n",
    "print(tup1)"
   ]
  },
  {
   "cell_type": "markdown",
   "metadata": {},
   "source": [
    "## Tuples cannot be modified\n",
    "The big difference between a tuple and a list is: lists can be modified, tuples cannot, they are immutable. That is, you cannot add an\n",
    "element to an existing tuple, you cannot delete an element of a tuple or change the value of an element. This does not\n",
    "mean that you cannot assign another tuple to a variable (see the following example), but there are **no** methods\n",
    "for tuples like `tuple.append()` or `tuple.remove()` which would modify them."
   ]
  },
  {
   "cell_type": "code",
   "execution_count": 2,
   "metadata": {},
   "outputs": [
    {
     "name": "stdout",
     "output_type": "stream",
     "text": [
      "a\n"
     ]
    },
    {
     "ename": "TypeError",
     "evalue": "'tuple' object does not support item assignment",
     "output_type": "error",
     "traceback": [
      "\u001b[1;31m---------------------------------------------------------------------------\u001b[0m",
      "\u001b[1;31mTypeError\u001b[0m                                 Traceback (most recent call last)",
      "Input \u001b[1;32mIn [2]\u001b[0m, in \u001b[0;36m<cell line: 3>\u001b[1;34m()\u001b[0m\n\u001b[0;32m      1\u001b[0m tup \u001b[38;5;241m=\u001b[39m (\u001b[38;5;241m1\u001b[39m, \u001b[38;5;241m2\u001b[39m, \u001b[38;5;124m\"\u001b[39m\u001b[38;5;124ma\u001b[39m\u001b[38;5;124m\"\u001b[39m)\n\u001b[0;32m      2\u001b[0m \u001b[38;5;28mprint\u001b[39m(tup[\u001b[38;5;241m2\u001b[39m])\n\u001b[1;32m----> 3\u001b[0m tup[\u001b[38;5;241m2\u001b[39m] \u001b[38;5;241m=\u001b[39m \u001b[38;5;124m\"\u001b[39m\u001b[38;5;124mb\u001b[39m\u001b[38;5;124m\"\u001b[39m\n",
      "\u001b[1;31mTypeError\u001b[0m: 'tuple' object does not support item assignment"
     ]
    }
   ],
   "source": [
    "tup = (1, 2, \"a\")\n",
    "print(tup[2])\n",
    "tup[2] = \"b\""
   ]
  },
  {
   "cell_type": "code",
   "execution_count": 3,
   "metadata": {},
   "outputs": [
    {
     "name": "stdout",
     "output_type": "stream",
     "text": [
      "(1, 2, 3)\n",
      "('a', 'b', 'c', 'd')\n"
     ]
    }
   ],
   "source": [
    "tup = (1, 2, 3)\n",
    "print(tup)\n",
    "tup = (\"a\", \"b\", \"c\", \"d\")\n",
    "print(tup)"
   ]
  },
  {
   "cell_type": "markdown",
   "metadata": {},
   "source": [
    "## What are tuples used for?\n",
    "\n",
    "Tuples are quite similar to lists. In this unit we are not going into detail regarding data modelling. \n",
    "This will be the topic of unit 3. Nevertheless, the following rule of thumb can be used to determine when to use list and when to use tuples:\n",
    "\n",
    "- List are used for many similar items\n",
    "- Tuples are used for items with many attributes. \n",
    "\n",
    "Consider the following data as suitable example of tuples:\n",
    "\n",
    "- `address = (zip code, city, street, house number)`\n",
    "- `position = (x_coordinate, y_coordinate)`\n",
    "- `date = (year, month, date)`"
   ]
  },
  {
   "cell_type": "markdown",
   "metadata": {},
   "source": [
    "# Basic operations on tuples\n",
    "## Interactively create a tuple\n",
    "With the help of the function `input()` values can be read in successively and assembled to a tuple."
   ]
  },
  {
   "cell_type": "code",
   "execution_count": 4,
   "metadata": {},
   "outputs": [
    {
     "name": "stdout",
     "output_type": "stream",
     "text": [
      "Please enter name: Alozie\n",
      "Please enter first name: Ogechukwu\n",
      "Please enter phone number: 1234-567890\n",
      "Please enter age (integer): 69\n",
      "('Alozie', 'Ogechukwu', '1234-567890', '69')\n"
     ]
    }
   ],
   "source": [
    "name = input(\"Please enter name: \")\n",
    "first_name = input(\"Please enter first name: \")\n",
    "phone = input(\"Please enter phone number: \")\n",
    "age = input(\"Please enter age (integer): \")\n",
    "\n",
    "employee = (name, first_name, phone, age)\n",
    "\n",
    "print(employee)"
   ]
  },
  {
   "cell_type": "markdown",
   "metadata": {},
   "source": [
    "## Using an index with tuples\n",
    "Just like lists, tuples have an index. It is represented with **square** brackets just like lists. And as usual in\n",
    "programming, the index starts at 0. The same negative indices can be used as for lists.  \n",
    "**Important:** Even if the individual elements of a tuple are addressed with square brackets, it is still a tuple and\n",
    "not a list."
   ]
  },
  {
   "cell_type": "code",
   "execution_count": 5,
   "metadata": {},
   "outputs": [
    {
     "name": "stdout",
     "output_type": "stream",
     "text": [
      "52066\n",
      "Parker\n",
      "(52066, 'Aachen', 'Eupener Str. 70', '0241-6009-12345')\n",
      "Eupener Str. 70\n",
      "(52066, 'Aachen', 'Eupener Str. 70', '0241-6009-12345')\n",
      "Aachen\n",
      "Eupener Str. 70\n"
     ]
    }
   ],
   "source": [
    "address = (52066, \"Aachen\", \"Eupener Str. 70\", \"0241-6009-12345\")\n",
    "\n",
    "student = (\n",
    "    \"Peter\",\n",
    "    \"Parker\",\n",
    "    123456,\n",
    "    \"Python for Beginners\",\n",
    "    \"pp12345s@university.edu\",\n",
    "    address,\n",
    ")\n",
    "\n",
    "print(address[0])\n",
    "print(student[1])\n",
    "print(student[5])\n",
    "print(student[5][2])\n",
    "print(student[-1])\n",
    "print(address[-3])\n",
    "print(address[2])"
   ]
  },
  {
   "cell_type": "markdown",
   "metadata": {},
   "source": [
    "## Once again: Tuples are immutable\n",
    "If you want to change a single element of a tuple via using the index, there will be an error message.\n",
    "\n",
    "- [The value of lists are mutable.](https://docs.python.org/3/reference/datamodel.html#:~:text=The%20value%20of,lists%20are%20mutable.)\n",
    "\n",
    "- [If an immutable container (like a tuple) contains a reference to a mutable object, its value changes if that mutable object is changed.](https://docs.python.org/3/reference/datamodel.html#:~:text=Some%20objects%20contain%20references%20to%20other,if%20that%20mutable%20object%20is%20changed.)"
   ]
  },
  {
   "cell_type": "code",
   "execution_count": 6,
   "metadata": {},
   "outputs": [
    {
     "ename": "TypeError",
     "evalue": "'tuple' object does not support item assignment",
     "output_type": "error",
     "traceback": [
      "\u001b[1;31m---------------------------------------------------------------------------\u001b[0m",
      "\u001b[1;31mTypeError\u001b[0m                                 Traceback (most recent call last)",
      "Input \u001b[1;32mIn [6]\u001b[0m, in \u001b[0;36m<cell line: 2>\u001b[1;34m()\u001b[0m\n\u001b[0;32m      1\u001b[0m address \u001b[38;5;241m=\u001b[39m (\u001b[38;5;241m52066\u001b[39m, \u001b[38;5;124m\"\u001b[39m\u001b[38;5;124mAachen\u001b[39m\u001b[38;5;124m\"\u001b[39m, \u001b[38;5;124m\"\u001b[39m\u001b[38;5;124mEupener Str. 70\u001b[39m\u001b[38;5;124m\"\u001b[39m, \u001b[38;5;124m\"\u001b[39m\u001b[38;5;124m0241-6009-12345\u001b[39m\u001b[38;5;124m\"\u001b[39m)\n\u001b[1;32m----> 2\u001b[0m address[\u001b[38;5;241m2\u001b[39m] \u001b[38;5;241m=\u001b[39m \u001b[38;5;124m\"\u001b[39m\u001b[38;5;124mGoethestraße 1\u001b[39m\u001b[38;5;124m\"\u001b[39m\n",
      "\u001b[1;31mTypeError\u001b[0m: 'tuple' object does not support item assignment"
     ]
    }
   ],
   "source": [
    "address = (52066, \"Aachen\", \"Eupener Str. 70\", \"0241-6009-12345\")\n",
    "address[2] = \"Goethestraße 1\""
   ]
  },
  {
   "cell_type": "markdown",
   "metadata": {},
   "source": [
    "## Slicing operator and functions & methods\n",
    "The slicing operator already known from lists also works with tuples to create a sub-tuple. \n",
    "\n",
    "Just as with lists, indices can be used to access not only a single element of\n",
    "the tuple but also an entire range. There are functions and methods that also work for tuples. Some examples are shown in the table below.\n",
    "\n",
    "| Function / Method | Return value                                                                             |\n",
    "| ----------------- | ---------------------------------------------------------------------------------------- |\n",
    "| `len(tuple)`      | Number of elements in a tuple                                                            |\n",
    "| `tuple.count(x)`  | Number of elements in the tuple with value *x*                                           |\n",
    "| `tuple.index(x)`  | Index of the first element with value *x*. If *x* does not exist, an error will be shown |"
   ]
  },
  {
   "cell_type": "code",
   "execution_count": 7,
   "metadata": {},
   "outputs": [
    {
     "name": "stdout",
     "output_type": "stream",
     "text": [
      "('trois', 'four')\n",
      "6\n",
      "1\n",
      "4\n"
     ]
    }
   ],
   "source": [
    "numbers = (1, 2, \"trois\", \"four\", \"V\", 6)\n",
    "print(numbers[2:4])\n",
    "print(len(numbers))\n",
    "print(numbers.count(1))\n",
    "print(numbers.index(\"V\"))"
   ]
  },
  {
   "cell_type": "markdown",
   "metadata": {},
   "source": [
    "## Looping through tuples\n",
    "\n",
    "Similar to lists a `for` loop can be used to access individual elements of a tuple."
   ]
  },
  {
   "cell_type": "code",
   "execution_count": 8,
   "metadata": {},
   "outputs": [
    {
     "name": "stdout",
     "output_type": "stream",
     "text": [
      "52066\n",
      "Aachen\n",
      "Eupener Str. 70\n",
      "0241-6009-12345\n"
     ]
    }
   ],
   "source": [
    "address = (52066, \"Aachen\", \"Eupener Str. 70\", \"0241-6009-12345\")\n",
    "\n",
    "for address_part in address:\n",
    "    print(address_part)"
   ]
  },
  {
   "cell_type": "markdown",
   "metadata": {},
   "source": [
    "## Conversion of tuples\n",
    "There are functions, like `int()`, to convert the data type of e.g. a string to an integer. A similar conversion works\n",
    "between lists and tuples. `list()` converts the argument into a list, `tuple()` converts it into a tuple. "
   ]
  },
  {
   "cell_type": "code",
   "execution_count": 9,
   "metadata": {},
   "outputs": [
    {
     "name": "stdout",
     "output_type": "stream",
     "text": [
      "(1, 2, 'a', 2.3)\n",
      "[1, 2, 'a', 2.3]\n"
     ]
    }
   ],
   "source": [
    "l = [1, 2, \"a\", 2.3]\n",
    "t = tuple(l)\n",
    "print(t)\n",
    "l = list(t)\n",
    "print(l)"
   ]
  },
  {
   "cell_type": "code",
   "execution_count": 11,
   "metadata": {},
   "outputs": [
    {
     "name": "stdout",
     "output_type": "stream",
     "text": [
      "('a', 'b', [1, 2, 3])\n",
      "('a', 'b', [1, 2, 3, 4])\n"
     ]
    }
   ],
   "source": [
    "a = ('a', 'b', [1, 2, 3])\n",
    "print(a)\n",
    "a[2].append(4)\n",
    "print(a)"
   ]
  },
  {
   "cell_type": "code",
   "execution_count": null,
   "metadata": {},
   "outputs": [],
   "source": []
  }
 ],
 "metadata": {
  "interpreter": {
   "hash": "ac59ebe37160ed0dfa835113d9b8498d9f09ceb179beaac4002f036b9467c963"
  },
  "kernelspec": {
   "display_name": "Python 3 (ipykernel)",
   "language": "python",
   "name": "python3"
  },
  "language_info": {
   "codemirror_mode": {
    "name": "ipython",
    "version": 3
   },
   "file_extension": ".py",
   "mimetype": "text/x-python",
   "name": "python",
   "nbconvert_exporter": "python",
   "pygments_lexer": "ipython3",
   "version": "3.10.4"
  },
  "varInspector": {
   "cols": {
    "lenName": 16,
    "lenType": 16,
    "lenVar": 40
   },
   "kernels_config": {
    "python": {
     "delete_cmd_postfix": "",
     "delete_cmd_prefix": "del ",
     "library": "var_list.py",
     "varRefreshCmd": "print(var_dic_list())"
    },
    "r": {
     "delete_cmd_postfix": ") ",
     "delete_cmd_prefix": "rm(",
     "library": "var_list.r",
     "varRefreshCmd": "cat(var_dic_list()) "
    }
   },
   "types_to_exclude": [
    "module",
    "function",
    "builtin_function_or_method",
    "instance",
    "_Feature"
   ],
   "window_display": false
  }
 },
 "nbformat": 4,
 "nbformat_minor": 2
}
