{
 "cells": [
  {
   "cell_type": "markdown",
   "id": "6ca54492",
   "metadata": {},
   "source": [
    "## Exercise 1"
   ]
  },
  {
   "cell_type": "markdown",
   "id": "2e2f25c7",
   "metadata": {},
   "source": [
    "Write a program that asks the user for given name, surname and field of study for a student. Store this data in a tuple and print the tuple. Below is an example execution of the program.\n",
    "\n",
    "`Please enter the given name of the student: Harry \n",
    "Please enter the surname of the student: Potter \n",
    "Please enter the filed of study of the student: Defence Against the Dark Arts \n",
    "('Harry', 'Potter', 'Defence  Against the Dark Arts')`"
   ]
  },
  {
   "cell_type": "code",
   "execution_count": 1,
   "id": "523615a2",
   "metadata": {},
   "outputs": [
    {
     "name": "stdout",
     "output_type": "stream",
     "text": [
      "Please enter the given name of the student: Harry\n",
      "Please enter the surname of the student: Potter\n",
      "Please enter the field of study of the student: Defence Against the Dark Arts\n",
      "('Harry', 'Potter', 'Defence Against the Dark Arts')\n"
     ]
    }
   ],
   "source": [
    "name = input(\"Please enter the given name of the student: \") \n",
    "surname = input(\"Please enter the surname of the student: \") \n",
    "study = input(\"Please enter the field of study of the student: \") \n",
    "student = (name, surname, study)\n",
    "print(student)"
   ]
  },
  {
   "cell_type": "markdown",
   "id": "865d51a4",
   "metadata": {},
   "source": [
    "## Exercise 2"
   ]
  },
  {
   "cell_type": "markdown",
   "id": "011f4a38",
   "metadata": {},
   "source": [
    "One of the nice features of Python is that it supports Unicode. Therefore it is possible to use emojis just like other characters in strings. In this exercise you will use this feature to build an emoji translator.\n",
    "\n",
    "Below is a dictionary that maps English terms to Emojis (broken into multiple lines for better readability).\n",
    "\n",
    "{\n",
    "\"happy\": \"😃\",\n",
    "\"heart\": \"😍\",\n",
    "\"rotfl\": \"🤣\",\n",
    "\"smile\": \"😊\",\n",
    "\"crying\": \"😭\",\n",
    "\"kiss\": \"😘\",\n",
    "\"clap\": \"👏\",\n",
    "\"grin\": \"😁\",\n",
    "\"fire\": \"🔥\",\n",
    "\"broken\": \"💔\",\n",
    "\"think\": \"🤔\",\n",
    "\"excited\": \"🤩\",\n",
    "\"boring\": \"🙄\",\n",
    "\"winking\": \"😉\",\n",
    "\"ok\": \"👌\",\n",
    "\"hug\": \"🤗\",\n",
    "\"cool\": \"😎\",\n",
    "\"angry\": \"😠\",\n",
    "\"python\": \"🐍\"\n",
    "}  \n",
    "\n",
    "Use this dictionary to build a program that:\n",
    "\n",
    "- Reads a sentence from the user.\n",
    "- Replaces all the words in the sentence with the corresponding Emoji."
   ]
  },
  {
   "cell_type": "markdown",
   "id": "3de8ed65",
   "metadata": {},
   "source": [
    "Below is an example execution of the program:\n",
    "\n",
    "`Please enter a sentence: I'm so excited to learn python\n",
    "I'm so 🤩 to finally learn 🐍`\n",
    "\n",
    "**Hint**:\n",
    "Use the `split()` method to split a sentence into its words. The result of\n",
    "\n",
    "`sentence = \"This is a test\"\n",
    "words = sentence.split()\n",
    "print(words)`\n",
    "\n",
    "is\n",
    "\n",
    "`[\"This\", \"is\", \"a\", \"test\"]`\n",
    "\n",
    "You should also be careful about spaces in the resulting sentence."
   ]
  },
  {
   "cell_type": "code",
   "execution_count": 3,
   "id": "1a3d2d30",
   "metadata": {},
   "outputs": [
    {
     "name": "stdout",
     "output_type": "stream",
     "text": [
      "Please enter a sentence: I'm so excited to finally learn python\n",
      "I'm so 🤩 to finally learn 🐍\n"
     ]
    }
   ],
   "source": [
    "emoji_dict = {\n",
    "    \"happy\": \"😃\",\n",
    "    \"heart\": \"😍\",\n",
    "    \"rotfl\": \"🤣\",\n",
    "    \"smile\": \"😊\",\n",
    "    \"crying\": \"😭\",\n",
    "    \"kiss\": \"😘\",\n",
    "    \"clap\": \"👏\",\n",
    "    \"grin\": \"😁\",\n",
    "    \"fire\": \"🔥\",\n",
    "    \"broken\": \"💔\",\n",
    "    \"think\": \"🤔\",\n",
    "    \"excited\": \"🤩\",\n",
    "    \"boring\": \"🙄\",\n",
    "    \"winking\": \"😉\",\n",
    "    \"ok\": \"👌\",\n",
    "    \"hug\": \"🤗\",\n",
    "    \"cool\": \"😎\",\n",
    "    \"angry\": \"😠\",\n",
    "    \"python\": \"🐍\",\n",
    "}\n",
    "\n",
    "sentence = input(\"Please enter a sentence: \")\n",
    "words = sentence.split()\n",
    "emoji_words = [emoji_dict[word] if word in emoji_dict.keys() else word for word in words]\n",
    "\n",
    "emoji_sentence = \"\"\n",
    "for word in emoji_words:\n",
    "    emoji_sentence += word + \" \"\n",
    "    \n",
    "print(emoji_sentence.strip())"
   ]
  },
  {
   "cell_type": "markdown",
   "id": "37ec9ab6",
   "metadata": {},
   "source": [
    "## Selt-test"
   ]
  },
  {
   "cell_type": "code",
   "execution_count": 5,
   "id": "3b82caf7",
   "metadata": {},
   "outputs": [
    {
     "name": "stdout",
     "output_type": "stream",
     "text": [
      "54\n"
     ]
    }
   ],
   "source": [
    "a = 0\n",
    "i = 1\n",
    "while i < 10:\n",
    "    i += 1\n",
    "    a += i\n",
    "print(a)"
   ]
  },
  {
   "cell_type": "code",
   "execution_count": 6,
   "id": "00a61132",
   "metadata": {},
   "outputs": [
    {
     "data": {
      "text/plain": [
       "55"
      ]
     },
     "execution_count": 6,
     "metadata": {},
     "output_type": "execute_result"
    }
   ],
   "source": [
    "a = 0\n",
    "i = 1\n",
    "while i <= 10:\n",
    "    a += i\n",
    "    i += 1\n",
    "print(a)"
   ]
  },
  {
   "cell_type": "markdown",
   "id": "dcb9a99f",
   "metadata": {},
   "source": [
    "## Assignment Quiz"
   ]
  },
  {
   "cell_type": "code",
   "execution_count": 22,
   "id": "df55f8ba",
   "metadata": {},
   "outputs": [],
   "source": [
    "my_dict = {\"1\": 1, \"2\": 2, \"3\": 3}"
   ]
  },
  {
   "cell_type": "code",
   "execution_count": 23,
   "id": "0c475398",
   "metadata": {},
   "outputs": [
    {
     "data": {
      "text/plain": [
       "{'1': 1, '2': 10, '3': 3}"
      ]
     },
     "execution_count": 23,
     "metadata": {},
     "output_type": "execute_result"
    }
   ],
   "source": [
    "my_dict[\"2\"] = 10\n",
    "my_dict"
   ]
  },
  {
   "cell_type": "code",
   "execution_count": 25,
   "id": "3d2f4745",
   "metadata": {},
   "outputs": [
    {
     "data": {
      "text/plain": [
       "dict_keys"
      ]
     },
     "execution_count": 25,
     "metadata": {},
     "output_type": "execute_result"
    }
   ],
   "source": [
    "type(my_dict.keys())"
   ]
  },
  {
   "cell_type": "code",
   "execution_count": 26,
   "id": "022aec1c",
   "metadata": {},
   "outputs": [
    {
     "name": "stdout",
     "output_type": "stream",
     "text": [
      "1\n",
      "2\n",
      "3\n"
     ]
    }
   ],
   "source": [
    "for item in my_dict:\n",
    "    print(item)"
   ]
  },
  {
   "cell_type": "code",
   "execution_count": 27,
   "id": "9f1099e9",
   "metadata": {},
   "outputs": [
    {
     "name": "stdout",
     "output_type": "stream",
     "text": [
      "2\n"
     ]
    }
   ],
   "source": [
    "a = list(my_dict.keys())[1]\n",
    "print(a)"
   ]
  },
  {
   "cell_type": "code",
   "execution_count": 28,
   "id": "2882913c",
   "metadata": {},
   "outputs": [
    {
     "ename": "SyntaxError",
     "evalue": "invalid syntax (2214817922.py, line 1)",
     "output_type": "error",
     "traceback": [
      "\u001b[1;36m  Input \u001b[1;32mIn [28]\u001b[1;36m\u001b[0m\n\u001b[1;33m    studs = {(123: \"Harry\"), (234: \"Hermione\"), (345: \"Ron\")}\u001b[0m\n\u001b[1;37m                 ^\u001b[0m\n\u001b[1;31mSyntaxError\u001b[0m\u001b[1;31m:\u001b[0m invalid syntax\n"
     ]
    }
   ],
   "source": [
    "studs = {(123: \"Harry\"), (234: \"Hermione\"), (345: \"Ron\")}\n",
    "a = studs[123][1]\n",
    "print(a)"
   ]
  },
  {
   "cell_type": "code",
   "execution_count": 29,
   "id": "a3fd4c6f",
   "metadata": {},
   "outputs": [
    {
     "ename": "KeyError",
     "evalue": "1",
     "output_type": "error",
     "traceback": [
      "\u001b[1;31m---------------------------------------------------------------------------\u001b[0m",
      "\u001b[1;31mKeyError\u001b[0m                                  Traceback (most recent call last)",
      "Input \u001b[1;32mIn [29]\u001b[0m, in \u001b[0;36m<cell line: 2>\u001b[1;34m()\u001b[0m\n\u001b[0;32m      1\u001b[0m studs \u001b[38;5;241m=\u001b[39m {\u001b[38;5;241m123\u001b[39m: \u001b[38;5;124m\"\u001b[39m\u001b[38;5;124mHarry\u001b[39m\u001b[38;5;124m\"\u001b[39m, \u001b[38;5;241m234\u001b[39m: \u001b[38;5;124m\"\u001b[39m\u001b[38;5;124mHermione\u001b[39m\u001b[38;5;124m\"\u001b[39m, \u001b[38;5;241m345\u001b[39m: \u001b[38;5;124m\"\u001b[39m\u001b[38;5;124mRon\u001b[39m\u001b[38;5;124m\"\u001b[39m}\n\u001b[1;32m----> 2\u001b[0m a \u001b[38;5;241m=\u001b[39m \u001b[43mstuds\u001b[49m\u001b[43m[\u001b[49m\u001b[38;5;241;43m1\u001b[39;49m\u001b[43m]\u001b[49m\n\u001b[0;32m      3\u001b[0m \u001b[38;5;28mprint\u001b[39m(a)\n",
      "\u001b[1;31mKeyError\u001b[0m: 1"
     ]
    }
   ],
   "source": [
    "studs = {123: \"Harry\", 234: \"Hermione\", 345: \"Ron\"}\n",
    "a = studs[1]\n",
    "print(a)"
   ]
  },
  {
   "cell_type": "code",
   "execution_count": 35,
   "id": "a934455f",
   "metadata": {},
   "outputs": [],
   "source": [
    "a = None"
   ]
  },
  {
   "cell_type": "code",
   "execution_count": 36,
   "id": "888c9441",
   "metadata": {},
   "outputs": [
    {
     "name": "stdout",
     "output_type": "stream",
     "text": [
      "key does not exist\n",
      "None\n"
     ]
    }
   ],
   "source": [
    "studs = {123: \"Harry\", 234: \"Hermione\", 345: \"Ron\"}\n",
    "if 1 in studs:\n",
    "    a = studs[1]\n",
    "else:\n",
    "    print(\"key does not exist\")\n",
    "print(a)"
   ]
  },
  {
   "cell_type": "code",
   "execution_count": 37,
   "id": "b0e1bc27",
   "metadata": {},
   "outputs": [
    {
     "ename": "AttributeError",
     "evalue": "'list' object has no attribute 'keys'",
     "output_type": "error",
     "traceback": [
      "\u001b[1;31m---------------------------------------------------------------------------\u001b[0m",
      "\u001b[1;31mAttributeError\u001b[0m                            Traceback (most recent call last)",
      "Input \u001b[1;32mIn [37]\u001b[0m, in \u001b[0;36m<cell line: 2>\u001b[1;34m()\u001b[0m\n\u001b[0;32m      1\u001b[0m my_list \u001b[38;5;241m=\u001b[39m [\u001b[38;5;241m1\u001b[39m,\u001b[38;5;241m2\u001b[39m,\u001b[38;5;241m3\u001b[39m,\u001b[38;5;241m4\u001b[39m,\u001b[38;5;241m5\u001b[39m]\n\u001b[1;32m----> 2\u001b[0m \u001b[43mmy_list\u001b[49m\u001b[38;5;241;43m.\u001b[39;49m\u001b[43mkeys\u001b[49m()\n",
      "\u001b[1;31mAttributeError\u001b[0m: 'list' object has no attribute 'keys'"
     ]
    }
   ],
   "source": [
    "my_list = [1,2,3,4,5]\n",
    "my_list.keys()"
   ]
  },
  {
   "cell_type": "code",
   "execution_count": 39,
   "id": "0c8e872a",
   "metadata": {},
   "outputs": [
    {
     "name": "stdout",
     "output_type": "stream",
     "text": [
      "Number: 0\n",
      "Number: -3\n",
      "Number: -6\n",
      "Number: -10\n",
      "Number: 1\n",
      "1\n"
     ]
    }
   ],
   "source": [
    "i = 0\n",
    "while i < 1:\n",
    "    i = int(input(\"Number: \"))\n",
    "print(i)"
   ]
  },
  {
   "cell_type": "markdown",
   "id": "bb861ac0",
   "metadata": {},
   "source": [
    "## Assignment Test"
   ]
  },
  {
   "cell_type": "markdown",
   "id": "48eea4b2",
   "metadata": {},
   "source": [
    "A [Ceaser cipher](https://en.wikipedia.org/wiki/Caesar_cipher) is a simple encryption technique. The encryption using a Ceasar cipher replaces a letter in the plain text with a letter that is a fixed number down in the alphabet. For example, with a shift of 5 the following substitutions would take place:\n",
    "\n",
    "- a → f\n",
    "- b → g\n",
    "- c → h\n",
    "- …\n",
    "- v → a\n",
    "- w → b\n",
    "- …\n",
    "- z → e\n",
    "\n",
    "Using this substitutions, a plain text can be encrypted:\n",
    "\n",
    "- Plaintext: programming python is fun!\n",
    "- Encrypted text: uwtlwfrrnsl udymts nx kzs!\n",
    "\n",
    "Your task for the assignment is to implement a Caesar cipher with a shift of 5. The program should ask the user for a plain text sentence and print the encrypted text."
   ]
  },
  {
   "cell_type": "markdown",
   "id": "1617fdda",
   "metadata": {},
   "source": [
    "Here is an example execution of the program:\n",
    "\n",
    "`Please enter a sentence: python is fun!\n",
    "The encrypted sentence is: udymts nx kzs!`\n",
    "\n",
    "Note that your program should not encrypt special characters like a space or an exclamation mark. If no substitution is defined for a character, the plain text character is used in the encryption as well (e.g. the ! in the example above)."
   ]
  },
  {
   "cell_type": "markdown",
   "id": "47d70882",
   "metadata": {},
   "source": [
    "**Hint**\n",
    "1. There are several approaches to solve this exercise. The simplest solution would be to create a dictionary containing the necessary substitutions.\n",
    "2. To avoid handling upper and lower case letters it is best to first convert the user input to lower case. After that you only need to take into account lower case letters. A string can be converted into lower case using the .lower() method.\n",
    "\n",
    "The result of the following example\n",
    "\n",
    "`s = \"TEST\"\n",
    "s = s.lower()\n",
    "print(s)`\n",
    "\n",
    "is:\n",
    "\n",
    "`test`"
   ]
  },
  {
   "cell_type": "code",
   "execution_count": 11,
   "id": "8e7c4ddd",
   "metadata": {},
   "outputs": [
    {
     "name": "stdout",
     "output_type": "stream",
     "text": [
      "Please enter a sentence: Python is FUN!\n",
      "The encrypted sentence is: udymts nx kzs!\n"
     ]
    }
   ],
   "source": [
    "sentence = input(\"Please enter a sentence: \")\n",
    "sentence = sentence.lower()\n",
    "\n",
    "alphabets = \"abcdefghijklmnopqrstuvwxyz\"\n",
    "shift = 5\n",
    "\n",
    "encrypted = \"\"\n",
    "for letter in sentence:\n",
    "    if letter in alphabets:\n",
    "        letter_index = alphabets.index(letter) + shift\n",
    "        letter_index = letter_index % len(alphabets)\n",
    "        new_letter = alphabets[letter_index]\n",
    "    else:\n",
    "        new_letter = letter\n",
    "    encrypted += new_letter\n",
    "    \n",
    "print(\"The encrypted sentence is:\", encrypted)"
   ]
  },
  {
   "cell_type": "markdown",
   "id": "cafa0646",
   "metadata": {},
   "source": [
    "## Bonus Exercise"
   ]
  },
  {
   "cell_type": "markdown",
   "id": "94925422",
   "metadata": {},
   "source": [
    "Your task for the bonus exercise is the implementation of a Caesar cipher with a variable shift. The program should ask the user for a number of characters for the shift first. Next the program should ask the user for a plain text sentence and print the encrypted text. Here is an example execution of the program:\n",
    "\n",
    "`Please enter the number of places to shift: 5\n",
    "Please enter a sentence: python is fun!\n",
    "The encrypted sentence is: udymts nx kzs!`\n",
    "\n",
    "Here is another execution of the program\n",
    "\n",
    "`Please enter the number of places to shift: 10\n",
    "Please enter a sentence: python is fun!\n",
    "The encrypted sentence is: zidryx sc pex!`\n",
    "\n",
    "And yet another one\n",
    "\n",
    "`Please enter the number of places to shift: 0\n",
    "Please enter a sentence: python is fun!\n",
    "The encrypted sentence is: python is fun!`\n",
    "\n",
    "Your program should check that only numbers between 0 and 25 are entered for the number of places to shift!\n",
    "\n",
    "`Please enter the number of places to shift: 60\n",
    "You need to enter a number between 0 and 25!`"
   ]
  },
  {
   "cell_type": "markdown",
   "id": "e44e1e82",
   "metadata": {},
   "source": [
    "**Hints**\n",
    "\n",
    "1. The simple solution using a dictionary will not work for this exercise. Instead you need to build the substitution dynamically. This can be done using the find method and some calculations: abc = “abcdefghijklmnopqrstuvw” char_index = abc.find(“f”) encrypted_char = abc[char_index + 5]\n",
    "\n",
    "2. Note that in the example above there will be an error if char_index +5 is larger then 25. You need to use the modulo (%) operator to take care of this situation.\n",
    "\n",
    "3. In order to check if the user entered a number, the method isdecimal() can be used.\n",
    "\n",
    "4. To avoid handling upper and lower case letters it is best to first convert the user input to lower case. After that you only need to take into account lower case letters. A string can be converted into lower case using the .lower() method."
   ]
  },
  {
   "cell_type": "code",
   "execution_count": 16,
   "id": "ae2bf753",
   "metadata": {},
   "outputs": [
    {
     "name": "stdout",
     "output_type": "stream",
     "text": [
      "Please enter the number of places to shift: 60\n",
      "You need to enter a number between 0 and 25!\n",
      "Please enter the number of places to shift: 3\n",
      "Please enter a sentence: dwsded\n",
      "The encrypted sentence is: gzvghg\n"
     ]
    }
   ],
   "source": [
    "while True:\n",
    "    shift = input(\"Please enter the number of places to shift: \")\n",
    "    if shift.isdecimal():\n",
    "        shift = int(shift)\n",
    "        if shift >= 0 and shift <= 25:\n",
    "            break\n",
    "        else:\n",
    "            print(\"You need to enter a number between 0 and 25!\")\n",
    "    else:\n",
    "        print(\"You need to enter a number!\")\n",
    "        \n",
    "sentence = input(\"Please enter a sentence: \")\n",
    "sentence = sentence.lower()\n",
    "    \n",
    "alphabets = \"abcdefghijklmnopqrstuvwxyz\"\n",
    "\n",
    "encrypted = \"\"\n",
    "for letter in sentence:\n",
    "    if letter in alphabets:\n",
    "        letter_index = alphabets.index(letter) + shift\n",
    "        letter_index = letter_index % len(alphabets)\n",
    "        new_letter = alphabets[letter_index]\n",
    "    else:\n",
    "        new_letter = letter\n",
    "    encrypted += new_letter\n",
    "    \n",
    "print(\"The encrypted sentence is:\", encrypted)"
   ]
  },
  {
   "cell_type": "code",
   "execution_count": 19,
   "id": "a9e7e516",
   "metadata": {},
   "outputs": [
    {
     "name": "stdout",
     "output_type": "stream",
     "text": [
      "Please enter the number of places to shift: 0\n",
      "Please enter a sentence: python iS FUn!\n",
      "The encrypted sentence is: python is fun!\n"
     ]
    }
   ],
   "source": [
    "shift = input(\"Please enter the number of places to shift: \")\n",
    "if shift.isdecimal():\n",
    "    shift = int(shift)\n",
    "    if shift < 0 or shift > 25:\n",
    "        print(\"You need to enter a number between 0 and 25!\")\n",
    "    else:\n",
    "        sentence = input(\"Please enter a sentence: \")\n",
    "        sentence = sentence.lower()\n",
    "            \n",
    "        alphabets = \"abcdefghijklmnopqrstuvwxyz\"\n",
    "        \n",
    "        encrypted = \"\"\n",
    "        for letter in sentence:\n",
    "            if letter in alphabets:\n",
    "                letter_index = alphabets.index(letter) + shift\n",
    "                letter_index = letter_index % len(alphabets)\n",
    "                new_letter = alphabets[letter_index]\n",
    "            else:\n",
    "                new_letter = letter\n",
    "            encrypted += new_letter\n",
    "            \n",
    "        print(\"The encrypted sentence is:\", encrypted)\n",
    "else:\n",
    "    print(\"You need to enter a number between 0 and 25!\")"
   ]
  },
  {
   "cell_type": "code",
   "execution_count": null,
   "id": "31a3514a",
   "metadata": {},
   "outputs": [],
   "source": []
  }
 ],
 "metadata": {
  "kernelspec": {
   "display_name": "Python 3 (ipykernel)",
   "language": "python",
   "name": "python3"
  },
  "language_info": {
   "codemirror_mode": {
    "name": "ipython",
    "version": 3
   },
   "file_extension": ".py",
   "mimetype": "text/x-python",
   "name": "python",
   "nbconvert_exporter": "python",
   "pygments_lexer": "ipython3",
   "version": "3.10.4"
  },
  "varInspector": {
   "cols": {
    "lenName": 16,
    "lenType": 16,
    "lenVar": 40
   },
   "kernels_config": {
    "python": {
     "delete_cmd_postfix": "",
     "delete_cmd_prefix": "del ",
     "library": "var_list.py",
     "varRefreshCmd": "print(var_dic_list())"
    },
    "r": {
     "delete_cmd_postfix": ") ",
     "delete_cmd_prefix": "rm(",
     "library": "var_list.r",
     "varRefreshCmd": "cat(var_dic_list()) "
    }
   },
   "types_to_exclude": [
    "module",
    "function",
    "builtin_function_or_method",
    "instance",
    "_Feature"
   ],
   "window_display": false
  }
 },
 "nbformat": 4,
 "nbformat_minor": 5
}
