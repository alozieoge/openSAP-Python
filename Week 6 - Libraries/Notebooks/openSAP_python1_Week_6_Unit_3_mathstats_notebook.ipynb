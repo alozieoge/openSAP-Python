{
 "cells": [
  {
   "cell_type": "markdown",
   "metadata": {},
   "source": [
    "# The `math`, the `random` and the `statistics` libraries \n",
    "This unit focuses on using different functionalities provided by the `math`, `random` and `statistics` libraries. \n",
    "These libraries are part of the [Python Standard Library](https://docs.python.org/3/library/index.html).\n",
    "In order to explore these libraries two exercises are used. To familiarize yourself with the Python Standard Library and\n",
    "the documentation it is highly recommended that you try to solve the exercises yourself before looking at the solutions.\n",
    "\n",
    "\n",
    "## Exercises\n",
    "\n",
    "### Exercise 1 - The `math` library\n",
    "\n",
    "Write a program that performs the following tasks:\n",
    "1. Get a integer number from the user\n",
    "1. Calculate the factorial ($x!$) of this number\n",
    "1. Calculate the natural logarithm and the logarithm to the base 10 of the number\n",
    "\n",
    "Explore the [documentation](https://docs.python.org/3/library/math.html) of the `math` library to find suitable\n",
    "functions."
   ]
  },
  {
   "cell_type": "code",
   "execution_count": 5,
   "metadata": {},
   "outputs": [
    {
     "name": "stdout",
     "output_type": "stream",
     "text": [
      "Enter an integer: 6\n",
      "The factorial of 6 is 720\n",
      "The natural logarithm of 6 is 1.791759469228055\n",
      "The logarithm to base 10 of 6 is 0.7781512503836436\n"
     ]
    }
   ],
   "source": [
    "# Implement your solution here\n",
    "import math\n",
    "num = int(input(\"Enter an integer: \"))\n",
    "fact = math.factorial(num)\n",
    "nat_log = math.log(num)\n",
    "log_10 = math.log10(num)\n",
    "\n",
    "print(f\"The factorial of {num} is {fact}\")\n",
    "print(f\"The natural logarithm of {num} is {nat_log}\")\n",
    "print(f\"The logarithm to base 10 of {num} is {log_10}\")"
   ]
  },
  {
   "cell_type": "markdown",
   "metadata": {},
   "source": [
    "### Exercise 2 - The `random` and `statistics` libraries\n",
    "\n",
    "Use functions from the `random` and `statistics` libraries to\n",
    "- generate a list of 100 random integer numbers between 1 and 10\n",
    "- calculate the mean of this list\n",
    "- calculate the median of this list\n",
    "- calculate the variance of this list\n",
    "\n",
    "Explore the documentation of the [`random`](https://docs.python.org/3/library/random.html) and the\n",
    "[`statistics`](https://docs.python.org/3/library/statistics.html) libraries to find suitable functions. "
   ]
  },
  {
   "cell_type": "code",
   "execution_count": 7,
   "metadata": {},
   "outputs": [
    {
     "name": "stdout",
     "output_type": "stream",
     "text": [
      "[4, 3, 4, 1, 4, 5, 4, 4, 5, 2, 2, 7, 8, 4, 2, 2, 3, 1, 1, 4, 8, 6, 10, 3, 8, 6, 2, 4, 1, 7, 2, 4, 5, 8, 4, 9, 3, 1, 4, 2, 4, 9, 9, 4, 9, 1, 1, 9, 4, 10, 1, 1, 8, 1, 10, 6, 4, 4, 3, 1, 8, 9, 3, 5, 8, 9, 1, 1, 5, 4, 8, 10, 2, 1, 1, 10, 7, 7, 9, 10, 2, 6, 3, 10, 8, 3, 8, 3, 1, 1, 1, 3, 5, 6, 4, 7, 6, 1, 10, 1]\n",
      "100\n",
      "The mean of the distribution of random numbers is 4.73\n",
      "The median of the distribution of random numbers is 4.0\n",
      "The variance of the distribution of random numbers is 9.047575757575757\n"
     ]
    }
   ],
   "source": [
    "# Implement your solution here\n",
    "import random\n",
    "from statistics import mean, median, variance\n",
    "\n",
    "numbers = []\n",
    "for i in range(100):\n",
    "    numbers.append(random.randint(1,10))\n",
    "\n",
    "print(numbers)\n",
    "print(len(numbers))\n",
    "mean_num = mean(numbers)\n",
    "median_num = median(numbers)\n",
    "var_num = variance(numbers)\n",
    "\n",
    "print(f\"The mean of the distribution of random numbers is {mean_num}\")\n",
    "print(f\"The median of the distribution of random numbers is {median_num}\")\n",
    "print(f\"The variance of the distribution of random numbers is {var_num}\")"
   ]
  },
  {
   "cell_type": "code",
   "execution_count": null,
   "metadata": {},
   "outputs": [],
   "source": []
  }
 ],
 "metadata": {
  "interpreter": {
   "hash": "9fd0e282e2343d8b38b390b803aabc7fcea80a18eee8e5bd23ce64f6435b30a1"
  },
  "kernelspec": {
   "display_name": "Python 3 (ipykernel)",
   "language": "python",
   "name": "python3"
  },
  "language_info": {
   "codemirror_mode": {
    "name": "ipython",
    "version": 3
   },
   "file_extension": ".py",
   "mimetype": "text/x-python",
   "name": "python",
   "nbconvert_exporter": "python",
   "pygments_lexer": "ipython3",
   "version": "3.10.4"
  },
  "varInspector": {
   "cols": {
    "lenName": 16,
    "lenType": 16,
    "lenVar": 40
   },
   "kernels_config": {
    "python": {
     "delete_cmd_postfix": "",
     "delete_cmd_prefix": "del ",
     "library": "var_list.py",
     "varRefreshCmd": "print(var_dic_list())"
    },
    "r": {
     "delete_cmd_postfix": ") ",
     "delete_cmd_prefix": "rm(",
     "library": "var_list.r",
     "varRefreshCmd": "cat(var_dic_list()) "
    }
   },
   "types_to_exclude": [
    "module",
    "function",
    "builtin_function_or_method",
    "instance",
    "_Feature"
   ],
   "window_display": false
  }
 },
 "nbformat": 4,
 "nbformat_minor": 2
}
