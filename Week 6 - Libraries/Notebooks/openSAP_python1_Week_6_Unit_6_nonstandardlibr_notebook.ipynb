{
 "cells": [
  {
   "cell_type": "markdown",
   "metadata": {},
   "source": [
    "# Examples of non-standard libraries\n",
    "\n",
    "There are many popular libraries which are not part of the default Python installation. You learned how to find and\n",
    "install them in the previous unit. Now a few libraries are presented. Note that this unit will not give \n",
    "a complete introduction in any of these libraries. Instead the goal of this unit is to give an overview \n",
    "of the large variety of available libraries. \n",
    "\n",
    "\n",
    "## [requests](https://docs.python-requests.org/en/latest/) - HTTP for Humans\n",
    "\n",
    "Using the `requests` library, you can connect to web servers and fetch their content.\n",
    "The [Quickstart Guide](https://docs.python-requests.org/en/latest/user/quickstart/)\n",
    "contains examples on how to use it and what you can do with it."
   ]
  },
  {
   "cell_type": "code",
   "execution_count": 1,
   "metadata": {},
   "outputs": [
    {
     "name": "stdout",
     "output_type": "stream",
     "text": [
      "The word 'Python' is used 1395 times in its Wikipedia entry!\n"
     ]
    }
   ],
   "source": [
    "import requests\n",
    "\n",
    "r = requests.get(\"https://en.wikipedia.org/wiki/Python_(programming_language)\")\n",
    "print(\n",
    "    f\"The word 'Python' is used {r.text.count('Python')} times in its Wikipedia entry!\"\n",
    ")"
   ]
  },
  {
   "cell_type": "markdown",
   "metadata": {},
   "source": [
    "## [BeautifulSoup](https://www.crummy.com/software/BeautifulSoup/bs4/doc/) - Analyzing Webpages\n",
    "\n",
    "BeautifulSoup is a library which perfectly complements requests, the library just introduced. Whereas requests offers the possibility to download webpages, BeautifulSoup supports the analysis of these webpages. (Actually, the name *BeautifulSoup* goes back to syntactically incorrect webpages containing just a \"soup of tags\"). \n",
    "\n",
    "In the following cell, the web-page from [The Guardian](https://www.theguardian.com) is first downloaded with `request.get()`. The content is then analyzed using `BeautifulSoup()`. With the help of the method `.find_all()` all headings of type `h3` are then listed and printed out."
   ]
  },
  {
   "cell_type": "code",
   "execution_count": 2,
   "metadata": {},
   "outputs": [
    {
     "ename": "ModuleNotFoundError",
     "evalue": "No module named 'bs4'",
     "output_type": "error",
     "traceback": [
      "\u001b[1;31m---------------------------------------------------------------------------\u001b[0m",
      "\u001b[1;31mModuleNotFoundError\u001b[0m                       Traceback (most recent call last)",
      "Input \u001b[1;32mIn [2]\u001b[0m, in \u001b[0;36m<cell line: 2>\u001b[1;34m()\u001b[0m\n\u001b[0;32m      1\u001b[0m \u001b[38;5;28;01mimport\u001b[39;00m \u001b[38;5;21;01mrequests\u001b[39;00m\n\u001b[1;32m----> 2\u001b[0m \u001b[38;5;28;01mfrom\u001b[39;00m \u001b[38;5;21;01mbs4\u001b[39;00m \u001b[38;5;28;01mimport\u001b[39;00m BeautifulSoup\n\u001b[0;32m      4\u001b[0m r \u001b[38;5;241m=\u001b[39m requests\u001b[38;5;241m.\u001b[39mget(\u001b[38;5;124m\"\u001b[39m\u001b[38;5;124mhttp://www.theguardian.com\u001b[39m\u001b[38;5;124m\"\u001b[39m)\n\u001b[0;32m      5\u001b[0m soup \u001b[38;5;241m=\u001b[39m BeautifulSoup(r\u001b[38;5;241m.\u001b[39mtext)\n",
      "\u001b[1;31mModuleNotFoundError\u001b[0m: No module named 'bs4'"
     ]
    }
   ],
   "source": [
    "import requests\n",
    "from bs4 import BeautifulSoup\n",
    "\n",
    "r = requests.get(\"http://www.theguardian.com\")\n",
    "soup = BeautifulSoup(r.text)\n",
    "\n",
    "for title in soup.find_all(\"h3\"):\n",
    "    print(title.text)"
   ]
  },
  {
   "cell_type": "markdown",
   "metadata": {},
   "source": [
    "## [tkinter](https://docs.python.org/3/library/tkinter.html) - Python interface to Tcl/Tk\n",
    "\n",
    "With `tkinter` you can create a graphical user interface (*GUI*) to extend your program. The\n",
    "[documentation](https://tkdocs.com/index.html) offers a detailed description how to start and how to use it. In the\n",
    "example below, a very basic program is shown to create a window containing a text and a button to close it."
   ]
  },
  {
   "cell_type": "code",
   "execution_count": null,
   "metadata": {},
   "outputs": [],
   "source": [
    "from tkinter import *\n",
    " \n",
    "window = Tk()\n",
    "window.title(\"GUI created with tkinter\")\n",
    "window.geometry(\"400x300\")\n",
    "\n",
    "def function_button_1():\n",
    "    print(\"Button was pressed\")\n",
    "    \n",
    "def function_button_2():\n",
    "    window.destroy()\n",
    "\n",
    "btn_1 = Button(window, \n",
    "             text=\"This is a Button\", \n",
    "             background = \"yellow\", \n",
    "             command = function_button_1)\n",
    "btn_1.grid(column=0, row=1)\n",
    "\n",
    "btn_2 = Button(window, \n",
    "             text=\"Quit\", \n",
    "             background = \"red\", \n",
    "             command = function_button_2)\n",
    "btn_2.grid(column=1, row=1)\n",
    "             \n",
    "window.mainloop()"
   ]
  },
  {
   "cell_type": "markdown",
   "metadata": {},
   "source": [
    "## Working with large data sets\n",
    "\n",
    "### [Pandas](https://pandas.pydata.org/) - Python Data Analysis Library\n",
    "\n",
    "The Python module `pandas` can be used to process data sets, which size is only limited by the memory of your computer.\n",
    "It provides methods and functions to analyze and visualize these data sets. \n",
    "\n",
    "In the next cells, you can see some brief basic usage examples how to use `pandas`. The data used in this example\n",
    "contains angular rate and acceleration measurements from an IMU *(Intertial Measuremnt Unit)* which \n",
    "was sampled with 1 kHz (1.000 measurements per second).\n",
    "\n",
    "With `head(`*`x`*`)` and `tail(`*`x`*`)`, you can return the first/last *x* lines of your data."
   ]
  },
  {
   "cell_type": "code",
   "execution_count": 3,
   "metadata": {},
   "outputs": [
    {
     "ename": "ModuleNotFoundError",
     "evalue": "No module named 'pandas'",
     "output_type": "error",
     "traceback": [
      "\u001b[1;31m---------------------------------------------------------------------------\u001b[0m",
      "\u001b[1;31mModuleNotFoundError\u001b[0m                       Traceback (most recent call last)",
      "Input \u001b[1;32mIn [3]\u001b[0m, in \u001b[0;36m<cell line: 1>\u001b[1;34m()\u001b[0m\n\u001b[1;32m----> 1\u001b[0m \u001b[38;5;28;01mimport\u001b[39;00m \u001b[38;5;21;01mpandas\u001b[39;00m \u001b[38;5;28;01mas\u001b[39;00m \u001b[38;5;21;01mpd\u001b[39;00m\n\u001b[0;32m      3\u001b[0m dataframe \u001b[38;5;241m=\u001b[39m pd\u001b[38;5;241m.\u001b[39mread_csv(\u001b[38;5;124m\"\u001b[39m\u001b[38;5;124mgyro_accel.csv\u001b[39m\u001b[38;5;124m\"\u001b[39m, sep\u001b[38;5;241m=\u001b[39m\u001b[38;5;124m\"\u001b[39m\u001b[38;5;124m;\u001b[39m\u001b[38;5;124m\"\u001b[39m)\n\u001b[0;32m      5\u001b[0m \u001b[38;5;28mprint\u001b[39m(dataframe\u001b[38;5;241m.\u001b[39minfo())\n",
      "\u001b[1;31mModuleNotFoundError\u001b[0m: No module named 'pandas'"
     ]
    }
   ],
   "source": [
    "import pandas as pd\n",
    "\n",
    "dataframe = pd.read_csv(\"gyro_accel.csv\", sep=\";\")\n",
    "\n",
    "print(dataframe.info())\n",
    "\n",
    "print(dataframe.head(2))"
   ]
  },
  {
   "cell_type": "markdown",
   "metadata": {},
   "source": [
    "Or you can just select and print one specific column of your data:"
   ]
  },
  {
   "cell_type": "code",
   "execution_count": null,
   "metadata": {},
   "outputs": [],
   "source": [
    "print(dataframe[\"Z_ACCL (32 bit)\"])"
   ]
  },
  {
   "cell_type": "markdown",
   "metadata": {},
   "source": [
    "You could calculate the mean value of your columns iterating through your data yourself, but with `pandas`, this takes\n",
    "just one function call:"
   ]
  },
  {
   "cell_type": "code",
   "execution_count": null,
   "metadata": {},
   "outputs": [],
   "source": [
    "mean_values = dataframe.mean()\n",
    "print(mean_values)"
   ]
  },
  {
   "cell_type": "markdown",
   "metadata": {},
   "source": [
    "## [Matplotlib](https://matplotlib.org/) - Visualization with Python\n",
    "\n",
    "With `matplotlib` you can create graphs to visualize your data. It works seamlessly with `pandas`\n",
    "and is set as a default library for plotting graphs in pandas. Have a look at the next cell to see an example visualizing\n",
    "the angular rate with a dashed line indicating the mean value."
   ]
  },
  {
   "cell_type": "code",
   "execution_count": 4,
   "metadata": {},
   "outputs": [
    {
     "ename": "NameError",
     "evalue": "name 'dataframe' is not defined",
     "output_type": "error",
     "traceback": [
      "\u001b[1;31m---------------------------------------------------------------------------\u001b[0m",
      "\u001b[1;31mNameError\u001b[0m                                 Traceback (most recent call last)",
      "Input \u001b[1;32mIn [4]\u001b[0m, in \u001b[0;36m<cell line: 6>\u001b[1;34m()\u001b[0m\n\u001b[0;32m      3\u001b[0m \u001b[38;5;66;03m# set plot size for good visibility\u001b[39;00m\n\u001b[0;32m      4\u001b[0m plt\u001b[38;5;241m.\u001b[39mfigure(figsize\u001b[38;5;241m=\u001b[39m(\u001b[38;5;241m12\u001b[39m, \u001b[38;5;241m6\u001b[39m))\n\u001b[1;32m----> 6\u001b[0m \u001b[43mdataframe\u001b[49m[\u001b[38;5;124m\"\u001b[39m\u001b[38;5;124mZ_GYRO (32 bit)\u001b[39m\u001b[38;5;124m\"\u001b[39m]\u001b[38;5;241m.\u001b[39mplot(color\u001b[38;5;241m=\u001b[39m\u001b[38;5;124m\"\u001b[39m\u001b[38;5;124mblue\u001b[39m\u001b[38;5;124m\"\u001b[39m)\n\u001b[0;32m      8\u001b[0m \u001b[38;5;66;03m# plot mean line for z_gyro values and show plot\u001b[39;00m\n\u001b[0;32m      9\u001b[0m plt\u001b[38;5;241m.\u001b[39maxhline(y\u001b[38;5;241m=\u001b[39mmean_values[\u001b[38;5;241m2\u001b[39m], color\u001b[38;5;241m=\u001b[39m\u001b[38;5;124m\"\u001b[39m\u001b[38;5;124mred\u001b[39m\u001b[38;5;124m\"\u001b[39m, linewidth\u001b[38;5;241m=\u001b[39m\u001b[38;5;241m2\u001b[39m, linestyle\u001b[38;5;241m=\u001b[39m\u001b[38;5;124m\"\u001b[39m\u001b[38;5;124m--\u001b[39m\u001b[38;5;124m\"\u001b[39m)\n",
      "\u001b[1;31mNameError\u001b[0m: name 'dataframe' is not defined"
     ]
    },
    {
     "data": {
      "text/plain": [
       "<Figure size 864x432 with 0 Axes>"
      ]
     },
     "metadata": {},
     "output_type": "display_data"
    }
   ],
   "source": [
    "import matplotlib.pyplot as plt\n",
    "\n",
    "# set plot size for good visibility\n",
    "plt.figure(figsize=(12, 6))\n",
    "\n",
    "dataframe[\"Z_GYRO (32 bit)\"].plot(color=\"blue\")\n",
    "\n",
    "# plot mean line for z_gyro values and show plot\n",
    "plt.axhline(y=mean_values[2], color=\"red\", linewidth=2, linestyle=\"--\")\n",
    "plt.show()"
   ]
  },
  {
   "cell_type": "markdown",
   "metadata": {},
   "source": [
    "Of course, it is also possible to use `matplotlib` directly. in the following cell a large number of normally \n",
    "distribute values are generated. These values are then displayed using a histogram."
   ]
  },
  {
   "cell_type": "code",
   "execution_count": 11,
   "metadata": {},
   "outputs": [
    {
     "name": "stdout",
     "output_type": "stream",
     "text": [
      "[81.3821963081308, 109.65340647469675, 120.87705180591159, 99.62527964868836, 87.37659220784566, 124.1274218058728, 170.58877426730214, 99.57462679017041, 104.27125015277723, 83.12532140705417]\n"
     ]
    },
    {
     "data": {
      "image/png": "[encoded data removed]",
      "text/plain": [
       "<Figure size 432x288 with 1 Axes>"
      ]
     },
     "metadata": {
      "needs_background": "light"
     },
     "output_type": "display_data"
    }
   ],
   "source": [
    "import random\n",
    "import matplotlib.pyplot as plt\n",
    "\n",
    "random_values = []\n",
    "for _ in range(100000):\n",
    "    random_values.append(random.gauss(mu=100, sigma=20))\n",
    "\n",
    "print(random_values[:10])\n",
    "\n",
    "plt.hist(random_values, bins=100, alpha=0.5)\n",
    "plt.ylabel(\"count\")\n",
    "plt.grid(True)"
   ]
  },
  {
   "cell_type": "code",
   "execution_count": null,
   "metadata": {},
   "outputs": [],
   "source": []
  }
 ],
 "metadata": {
  "interpreter": {
   "hash": "b89b5cfaba6639976dc87ff2fec6d58faec662063367e2c229c520fe71072417"
  },
  "kernelspec": {
   "display_name": "Python 3 (ipykernel)",
   "language": "python",
   "name": "python3"
  },
  "language_info": {
   "codemirror_mode": {
    "name": "ipython",
    "version": 3
   },
   "file_extension": ".py",
   "mimetype": "text/x-python",
   "name": "python",
   "nbconvert_exporter": "python",
   "pygments_lexer": "ipython3",
   "version": "3.10.4"
  },
  "varInspector": {
   "cols": {
    "lenName": 16,
    "lenType": 16,
    "lenVar": 40
   },
   "kernels_config": {
    "python": {
     "delete_cmd_postfix": "",
     "delete_cmd_prefix": "del ",
     "library": "var_list.py",
     "varRefreshCmd": "print(var_dic_list())"
    },
    "r": {
     "delete_cmd_postfix": ") ",
     "delete_cmd_prefix": "rm(",
     "library": "var_list.r",
     "varRefreshCmd": "cat(var_dic_list()) "
    }
   },
   "types_to_exclude": [
    "module",
    "function",
    "builtin_function_or_method",
    "instance",
    "_Feature"
   ],
   "window_display": false
  }
 },
 "nbformat": 4,
 "nbformat_minor": 2
}
