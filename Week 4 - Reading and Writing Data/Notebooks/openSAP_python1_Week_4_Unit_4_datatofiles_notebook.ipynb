{
 "cells": [
  {
   "cell_type": "markdown",
   "metadata": {},
   "source": [
    "# Writing random numbers to a text file\n",
    "To be able to write to a file it must be opened in a mode that allows writing (e.g. the `w` mode). Then data can be\n",
    "written to the file using the `write()` method. This is shown in the following cell."
   ]
  },
  {
   "cell_type": "code",
   "execution_count": 1,
   "metadata": {},
   "outputs": [],
   "source": [
    "with open(\"numbers_1.txt\", \"w\") as file:\n",
    "    for i in range(100):\n",
    "        line = str(i) + \"\\n\"\n",
    "        file.write(line)"
   ]
  },
  {
   "cell_type": "code",
   "execution_count": 2,
   "metadata": {},
   "outputs": [],
   "source": [
    "with open(\"numbers_2.txt\", \"w\") as file:\n",
    "    for i in range(100):\n",
    "        line = str(i)\n",
    "        file.write(line)"
   ]
  },
  {
   "cell_type": "markdown",
   "metadata": {},
   "source": [
    "Check the result in the file \"numbers.txt\" with a text editor. \n",
    "\n",
    "There are two things to be mentioned:\n",
    "\n",
    "- You can only write strings into a file. That's why the integer stored in `i` is casted with the `str()` function before it is written into the file\n",
    "- If you do not add the linebreak `\\n` to the string, then there will be no linebreak in the file.\n",
    "\n",
    "Give it a try and leave the casting or the linebreak away and check the result.\n",
    "\n",
    "\n",
    "# Saving a list of students into a file\n",
    "\n",
    "The example below includes the list of students we already used in a previous unit. Let's assume you have\n",
    "created this list by letting the user input the data. Now, you want to save the data permanently for later usage. Every\n",
    "tuple in the list represents a student and you want to save them to a file called *students.txt*:"
   ]
  },
  {
   "cell_type": "code",
   "execution_count": 3,
   "metadata": {},
   "outputs": [],
   "source": [
    "list_of_students = [\n",
    "    (\"Potter\", \"Harry\", 477264, \"harry@hogwarts.wiz\", \"Defence Against the Dark Arts\"),\n",
    "    (\"Weasley\", \"Ron\", 490134, \"ron@hogwarts.wiz\", \"Care of Magical Creatures\"),\n",
    "    (\"Granger\", \"Hermione\", 471617, \"hermione@hogwarts.wiz\", \"Alchemy\"),\n",
    "    (\"Creevey\", \"Colin\", 432646, \"colin@hogwarts.wiz\", \"Music\"),\n",
    "    (\"Finnigan\", \"Seamus\", 481989, \"seamus@hogwarts.wiz\", \"Ancient Studies\"),\n",
    "    (\"Abbott\", \"Hannah\", 488962, \"hannah@hogwarts.wiz\", \"Apparition\"),\n",
    "    (\"Parkinson\", \"Pansy\", 482103, \"pansy@hogwarts.wiz\", \"Dark Arts\"),\n",
    "    (\"Malfoy\", \"Draco\", 492010, \"draco@hogwarts.wiz\", \"Defence Against the Dark Arts\"),\n",
    "    (\"Thomas\", \"Dean\", 447924, \"dean.thomas@hogwarts.wiz\", \"Divination\"),\n",
    "]\n",
    "\n",
    "with open(\"students.txt\", \"w\") as file:\n",
    "    for student in list_of_students:\n",
    "        line = \"\"\n",
    "\n",
    "        for attribute in student:\n",
    "            line = line + str(attribute) + \", \"\n",
    "\n",
    "        file.write(line + \"\\n\")"
   ]
  },
  {
   "cell_type": "markdown",
   "metadata": {},
   "source": [
    "You should have noticed that the `\\n` will add a line break after each number or student. Otherwise the file would just\n",
    "contain one long and confusing line. You can try this out by omitting the `\\n`."
   ]
  },
  {
   "cell_type": "markdown",
   "metadata": {},
   "source": [
    "# Exercise: Writing letters from a-z to a file\n",
    "Create a program (similar to the previous one) that writes all letters from a-z into one line of a file each.  \n",
    "*Note*: The function `chr()` converts a number into a letter. Here, the number 97 corresponds to an a, the number 98 to\n",
    "a b, and so on. (see next code cell).  \n",
    "The reason of this assignment is the [ASCII table](https://en.wikipedia.org/wiki/ASCII#Control_code_chart). ASCII is a\n",
    "coding standard that assigns the characters and commands of a typewriter to bit combinations. The bit combinations are\n",
    "usually specified as numbers from 0 to 127."
   ]
  },
  {
   "cell_type": "code",
   "execution_count": 4,
   "metadata": {},
   "outputs": [
    {
     "name": "stdout",
     "output_type": "stream",
     "text": [
      "a\n",
      "b\n"
     ]
    }
   ],
   "source": [
    "### Task: Writing letters from a-z to a file test cell\n",
    "letter = chr(97)\n",
    "print(letter)\n",
    "letter = chr(98)\n",
    "print(letter)"
   ]
  },
  {
   "cell_type": "code",
   "execution_count": 5,
   "metadata": {},
   "outputs": [],
   "source": [
    "with open(\"letters.txt\", \"w\") as file:\n",
    "    for i in range(97, 97+26):\n",
    "        line = chr(i) + \"\\n\"\n",
    "        file.write(line)"
   ]
  },
  {
   "cell_type": "markdown",
   "metadata": {},
   "source": [
    "# Exercise: Copy a file\n",
    "Create a program that copies a file. First create a program that creates a copy of \"lorem_ipsum.txt\". Then extend the\n",
    "program, so that it first asks for the file name of the file to be copied, then for the name of the new file. Then the\n",
    "file is copied. Assume that the file actually exists."
   ]
  },
  {
   "cell_type": "code",
   "execution_count": 7,
   "metadata": {},
   "outputs": [
    {
     "name": "stdout",
     "output_type": "stream",
     "text": [
      "Enter the name of the file to copy: lorem_ipsum_source\n",
      "Enter the name of the new file: lorem_ipsum_new\n"
     ]
    }
   ],
   "source": [
    "with open(\"lorem_ipsum_source.txt\", \"w\") as file:\n",
    "    file.write(\"Lorem ipsum dolor sit amet\")\n",
    "    \n",
    "source_file = input(\"Enter the name of the file to copy: \")\n",
    "source_file += \".txt\"\n",
    "\n",
    "new_file = input(\"Enter the name of the new file: \")\n",
    "new_file += \".txt\"\n",
    "\n",
    "source_text = \"\"\n",
    "with open(source_file, \"r\") as file:\n",
    "    source_text = file.read()\n",
    "    \n",
    "with open(new_file, \"w\") as file:\n",
    "    file.write(source_text)"
   ]
  },
  {
   "cell_type": "code",
   "execution_count": null,
   "metadata": {},
   "outputs": [],
   "source": []
  }
 ],
 "metadata": {
  "file_extension": ".py",
  "kernelspec": {
   "display_name": "Python 3 (ipykernel)",
   "language": "python",
   "name": "python3"
  },
  "language_info": {
   "codemirror_mode": {
    "name": "ipython",
    "version": 3
   },
   "file_extension": ".py",
   "mimetype": "text/x-python",
   "name": "python",
   "nbconvert_exporter": "python",
   "pygments_lexer": "ipython3",
   "version": "3.10.4"
  },
  "mimetype": "text/x-python",
  "name": "python",
  "npconvert_exporter": "python",
  "pygments_lexer": "ipython3",
  "varInspector": {
   "cols": {
    "lenName": 16,
    "lenType": 16,
    "lenVar": 40
   },
   "kernels_config": {
    "python": {
     "delete_cmd_postfix": "",
     "delete_cmd_prefix": "del ",
     "library": "var_list.py",
     "varRefreshCmd": "print(var_dic_list())"
    },
    "r": {
     "delete_cmd_postfix": ") ",
     "delete_cmd_prefix": "rm(",
     "library": "var_list.r",
     "varRefreshCmd": "cat(var_dic_list()) "
    }
   },
   "types_to_exclude": [
    "module",
    "function",
    "builtin_function_or_method",
    "instance",
    "_Feature"
   ],
   "window_display": false
  },
  "version": 3
 },
 "nbformat": 4,
 "nbformat_minor": 2
}
