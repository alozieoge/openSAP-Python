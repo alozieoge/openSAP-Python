{
 "cells": [
  {
   "cell_type": "markdown",
   "id": "1b6a78b4",
   "metadata": {},
   "source": [
    "# Exercises and Assignments for Week 4"
   ]
  },
  {
   "cell_type": "markdown",
   "id": "80ff3967",
   "metadata": {},
   "source": [
    "## Exercise 1"
   ]
  },
  {
   "cell_type": "markdown",
   "id": "a4a2c7ee",
   "metadata": {},
   "source": [
    "The file numbers.txt contains random integer numbers. There is exactly one number per line. Read the file and output the three biggest numbers in the following form:\n",
    "\n",
    "`2345\n",
    "223\n",
    "89`\n",
    "\n",
    "**Hint**\n",
    "\n",
    "Read the file line by line, delete the line break. As files can only contain strings, the number must now be converted into an integer. Add the number into a list. When all numbers are in the list, sort the list. Then print out the biggest numbers."
   ]
  },
  {
   "cell_type": "code",
   "execution_count": 2,
   "id": "315feb27",
   "metadata": {},
   "outputs": [
    {
     "name": "stdout",
     "output_type": "stream",
     "text": [
      "9853\n",
      "9760\n",
      "9745\n"
     ]
    }
   ],
   "source": [
    "numbers = []\n",
    "with open(\"numbers.txt\", \"r\") as file:\n",
    "    for line in file:\n",
    "        line = line.strip()\n",
    "        line = int(line)\n",
    "        numbers.append(line)\n",
    "\n",
    "numbers.sort(reverse=True)\n",
    "for number in numbers[:3]:\n",
    "    print(number)"
   ]
  },
  {
   "cell_type": "markdown",
   "id": "747bc817",
   "metadata": {},
   "source": [
    "## Exercise 2"
   ]
  },
  {
   "cell_type": "markdown",
   "id": "c4606af8",
   "metadata": {},
   "source": [
    "The file `numbers.txt` contains numbers. (Actually, the same numbers from the last exercise.) There is exactly one number per line. Read the numbers from the file and write only the even numbers into a new file named `even_numbers.txt`. Again, there should be one number per line. The order of the numbers shall be unchanged. To indicate that the program is finished, print the following output: “List of even numbers created!”\n",
    "\n",
    "**Hint**\n",
    "\n",
    "First read all the numbers as explained in the last exercise and put them into a list. Open the new file for writing. Go through the list and check if a number is even. If this is the case, change the integer into a string and do not forget to add a line break. Write this string into the file. Finally implement the print statement.\n",
    "\n",
    "**Please note:**\n",
    "\n",
    "When programming your solution in CodeOcean, files created by your program will not be visible. If you want to check the content of those files, we suggest to let your code run on your machine (e.g. in a Jupyter Notebook) and check the contents of the files there."
   ]
  },
  {
   "cell_type": "code",
   "execution_count": 5,
   "id": "673a06df",
   "metadata": {},
   "outputs": [
    {
     "name": "stdout",
     "output_type": "stream",
     "text": [
      "List of even numbers created!\n"
     ]
    }
   ],
   "source": [
    "numbers = []\n",
    "with open(\"numbers.txt\", \"r\") as file:\n",
    "    for line in file:\n",
    "        numbers.append(int(line))\n",
    "    \n",
    "with open(\"even_numbers.txt\", \"w\") as file:\n",
    "    for number in numbers:\n",
    "        if number % 2 == 0:\n",
    "            file.write(str(number) + \"\\n\")\n",
    "print(\"List of even numbers created!\")"
   ]
  },
  {
   "cell_type": "markdown",
   "id": "940d96d0",
   "metadata": {},
   "source": [
    "## Exercise 3"
   ]
  },
  {
   "cell_type": "markdown",
   "id": "b324b295",
   "metadata": {},
   "source": [
    "The file `invoice_data.txt` contains raw data for an invoice. More precisely, each line contains\n",
    "\n",
    "- the name of an item\n",
    "- how many items are bought\n",
    "- the unit price of the item\n",
    "\n",
    "The three values are separated by a single whitespace. Prepare a beautified output of the file which contains\n",
    "\n",
    "- the name of the item formatted with 15 characters\n",
    "- the number of units with 3 digits\n",
    "- the price per item with 7 digits, 3 digits after the decimal point\n",
    "- the total price (number of items * price per item) with 8 digits in total, 2 digits after the decimal point\n",
    "\n",
    "If there are two lines with the following content “Apple 5 0.99” and “Cherry 2 11.99”, then the beautified output should look as follows:\n",
    "\n",
    "`Apple           15   0.99   14.85\n",
    "Cherry           2  11.99   23.98`\n",
    "\n",
    "**Hint**\n",
    "\n",
    "Read the file line by line and create a list of tuples. Each tuple contains the item (`string`), the number of items (`integer`) the price per item (`float`). To identify the individual parts per line, use the method `.split()`. Prepare an `f-string` to output the data as specified."
   ]
  },
  {
   "cell_type": "code",
   "execution_count": 6,
   "id": "85528c12",
   "metadata": {},
   "outputs": [
    {
     "name": "stdout",
     "output_type": "stream",
     "text": [
      "Chair             3  29.990    89.97\n",
      "Table             1 299.000   299.00\n",
      "Sideboard         2 349.000   698.00\n",
      "Shelf            40  90.000  3600.00\n"
     ]
    }
   ],
   "source": [
    "data = []\n",
    "with open(\"invoice_data.txt\", \"r\") as file:\n",
    "    for line in file:\n",
    "        data.append(line.split(\" \"))\n",
    "        \n",
    "for item in data:\n",
    "    item[1] = int(item[1])\n",
    "    item[2] = float(item[2])\n",
    "    print(f\"{item[0]:15s} {item[1]:3} {item[2]:7.3f} {item[1] * item[2]:8.2f}\")"
   ]
  },
  {
   "cell_type": "code",
   "execution_count": 17,
   "id": "171dca88",
   "metadata": {},
   "outputs": [
    {
     "name": "stdout",
     "output_type": "stream",
     "text": [
      "Chair            3  29.99   89.97\n",
      "Table            1 299.00  299.00\n",
      "Sideboard        2 349.00  698.00\n",
      "Shelf           40  90.00 3600.00\n"
     ]
    }
   ],
   "source": [
    "data = []\n",
    "with open(\"invoice_data.txt\", \"r\") as file:\n",
    "    for line in file:\n",
    "        data.append(line.split())\n",
    "        \n",
    "for item in data:\n",
    "    item[1] = int(item[1])\n",
    "    item[2] = float(item[2])\n",
    "    print(f\"{item[0]:15s}{item[1]:3}{item[2]:7.2f}{item[1] * item[2]:8.2f}\")"
   ]
  },
  {
   "cell_type": "markdown",
   "id": "56642669",
   "metadata": {},
   "source": [
    "## Assignment 1"
   ]
  },
  {
   "cell_type": "code",
   "execution_count": 18,
   "id": "38c3b6b2",
   "metadata": {},
   "outputs": [
    {
     "ename": "FileNotFoundError",
     "evalue": "[Errno 2] No such file or directory: 'first_file.txt'",
     "output_type": "error",
     "traceback": [
      "\u001b[1;31m---------------------------------------------------------------------------\u001b[0m",
      "\u001b[1;31mFileNotFoundError\u001b[0m                         Traceback (most recent call last)",
      "Input \u001b[1;32mIn [18]\u001b[0m, in \u001b[0;36m<cell line: 1>\u001b[1;34m()\u001b[0m\n\u001b[1;32m----> 1\u001b[0m \u001b[38;5;28;01mwith\u001b[39;00m \u001b[38;5;28;43mopen\u001b[39;49m\u001b[43m(\u001b[49m\u001b[38;5;124;43m\"\u001b[39;49m\u001b[38;5;124;43mfirst_file.txt\u001b[39;49m\u001b[38;5;124;43m\"\u001b[39;49m\u001b[43m,\u001b[49m\u001b[43m \u001b[49m\u001b[38;5;124;43m\"\u001b[39;49m\u001b[38;5;124;43mr\u001b[39;49m\u001b[38;5;124;43m\"\u001b[39;49m\u001b[43m)\u001b[49m \u001b[38;5;28;01mas\u001b[39;00m file:\n\u001b[0;32m      2\u001b[0m     \u001b[38;5;28;01mfor\u001b[39;00m line \u001b[38;5;129;01min\u001b[39;00m file:\n\u001b[0;32m      3\u001b[0m         \u001b[38;5;28mprint\u001b[39m(line)\n",
      "\u001b[1;31mFileNotFoundError\u001b[0m: [Errno 2] No such file or directory: 'first_file.txt'"
     ]
    }
   ],
   "source": [
    "with open(\"first_file.txt\", \"r\") as file:\n",
    "    for line in file:\n",
    "        print(line)"
   ]
  },
  {
   "cell_type": "code",
   "execution_count": 21,
   "id": "3b00575f",
   "metadata": {},
   "outputs": [
    {
     "data": {
      "text/plain": [
       "['Lorem ipsum dolor sit amet, consectetur adipiscing elit,\\n',\n",
       " 'sed do eiusmod tempor incididunt ut labore et dolore magna aliqua.\\n',\n",
       " 'Ut enim ad minim veniam, quis nostrud exercitation ullamco laboris\\n',\n",
       " 'nisi ut aliquip ex ea commodo consequat. Duis aute irure dolor in\\n',\n",
       " 'reprehenderit in voluptate velit esse cillum dolore eu fugiat nulla\\n',\n",
       " 'pariatur. Excepteur sint occaecat cupidatat non proident, sunt in\\n',\n",
       " 'culpa qui officia deserunt mollit anim id est laborum.']"
      ]
     },
     "execution_count": 21,
     "metadata": {},
     "output_type": "execute_result"
    }
   ],
   "source": [
    "with open(\"lorem_ipsum.txt\", \"r\") as file:\n",
    "    line = file.readlines()\n",
    "    \n",
    "line"
   ]
  },
  {
   "cell_type": "code",
   "execution_count": 22,
   "id": "9becf23a",
   "metadata": {},
   "outputs": [
    {
     "name": "stdout",
     "output_type": "stream",
     "text": [
      "4 * 3 =         12\n"
     ]
    }
   ],
   "source": [
    "print(f\"4 * 3 = {4 * 3:10d}\")"
   ]
  },
  {
   "cell_type": "code",
   "execution_count": 23,
   "id": "3b671734",
   "metadata": {},
   "outputs": [
    {
     "data": {
      "text/plain": [
       "'Jogn, Paul, George, Ringo'"
      ]
     },
     "execution_count": 23,
     "metadata": {},
     "output_type": "execute_result"
    }
   ],
   "source": [
    "\"Jogn, Paul, George, Pete\".replace(\"Pete\", \"Ringo\")"
   ]
  },
  {
   "cell_type": "code",
   "execution_count": 24,
   "id": "5371a558",
   "metadata": {},
   "outputs": [
    {
     "data": {
      "text/plain": [
       "['Yesterday,', 'Let', 'it', 'be,', 'Help,', 'Something']"
      ]
     },
     "execution_count": 24,
     "metadata": {},
     "output_type": "execute_result"
    }
   ],
   "source": [
    "\"Yesterday, Let it be, Help, Something\".split()"
   ]
  },
  {
   "cell_type": "markdown",
   "id": "b6f82f64",
   "metadata": {},
   "source": [
    "## Assignment 2"
   ]
  },
  {
   "cell_type": "markdown",
   "id": "16aa6155",
   "metadata": {},
   "source": [
    "There is a file `secret.txt`, which contains one character per line. There is a second file `key.txt`, which contains two lines with one number per line (the number could have several digits).\n",
    "\n",
    "The first number `col` represents the number of columns of a grid, the second number `row` represents the number of rows of the grid. The characters of the first file should now be filled into this grid. Take the characters one by one and fill them into a string until the string contains `col` characters. Append the string to a list.\n",
    "\n",
    "Then create a new string the same way. Continue, until the number of strings is equal to `row`. \n",
    "\n",
    "Now, write all the strings into a file `public.txt`.\n",
    "\n",
    "Open the the file and check the content.\n",
    "\n",
    "**Please note:**\n",
    "\n",
    "When programming your solution in CodeOcean, files created by your program will not be visible. If you want to check the content of those files, we suggest to let your code run on your machine (e.g. in a Jupyter Notebook) and check the contents of the files there."
   ]
  },
  {
   "cell_type": "markdown",
   "id": "dda9924f",
   "metadata": {},
   "source": [
    "### Example\n",
    "If the file `secret.txt` contains the following input:\n",
    "\n",
    "`\n",
    "#\n",
    "#\n",
    "#\n",
    ".\n",
    "#\n",
    ".\n",
    ".\n",
    "#\n",
    ".\n",
    ".\n",
    "#\n",
    ".\n",
    "`\n",
    "\n",
    "and the file `key.txt` contains the following numbers:\n",
    "\n",
    "`\n",
    "3\n",
    "4\n",
    "`\n",
    "\n",
    "\n",
    "then the content in the file `public.txt` should be as follows:\n",
    "\n",
    "`\n",
    "###\n",
    ".#.\n",
    ".#.\n",
    ".#.\n",
    "`"
   ]
  },
  {
   "cell_type": "code",
   "execution_count": 43,
   "id": "fcef7287",
   "metadata": {},
   "outputs": [
    {
     "name": "stdout",
     "output_type": "stream",
     "text": [
      "###.#..#..#.\n",
      "[3, 4]\n"
     ]
    }
   ],
   "source": [
    "secret = \"\"\n",
    "with open(\"secret.txt\", \"r\") as file:\n",
    "    for line in file:\n",
    "        secret += line.strip()\n",
    "\n",
    "key = []\n",
    "with open(\"key.txt\", \"r\") as file:\n",
    "    for line in file:\n",
    "        key.append(int(line.strip()))\n",
    "\n",
    "print(secret)\n",
    "print(key)"
   ]
  },
  {
   "cell_type": "code",
   "execution_count": 44,
   "id": "e3eb8c30",
   "metadata": {},
   "outputs": [
    {
     "name": "stdout",
     "output_type": "stream",
     "text": [
      "['###', '.#.', '.#.', '.#.']\n"
     ]
    }
   ],
   "source": [
    "output = []\n",
    "counter = 0\n",
    "for i in range(0, key[1]):\n",
    "    line = \"\"\n",
    "    for j in range(0, key[0]):\n",
    "        line += secret[counter]\n",
    "        counter += 1\n",
    "    output.append(line)\n",
    "        \n",
    "print(output)"
   ]
  },
  {
   "cell_type": "code",
   "execution_count": 45,
   "id": "42d81863",
   "metadata": {},
   "outputs": [
    {
     "data": {
      "text/plain": [
       "'###\\n.#.\\n.#.\\n.#.'"
      ]
     },
     "execution_count": 45,
     "metadata": {},
     "output_type": "execute_result"
    }
   ],
   "source": [
    "\"\\n\".join(output)"
   ]
  },
  {
   "cell_type": "code",
   "execution_count": 46,
   "id": "1f0b3294",
   "metadata": {},
   "outputs": [],
   "source": [
    "with open(\"public.txt\", \"w\") as file:\n",
    "    output = \"\\n\".join(output)\n",
    "    file.write(output)\n",
    "#     for line in output:\n",
    "#         file.write(line + \"\\n\")"
   ]
  },
  {
   "cell_type": "code",
   "execution_count": 49,
   "id": "110a1bbd",
   "metadata": {},
   "outputs": [
    {
     "name": "stdout",
     "output_type": "stream",
     "text": [
      ".....................................................................................................#####..#...#..#####..#...#..#####..#....#........#...#..#...#....#....#...#..#...#..##...#........#...#..#...#....#....#...#..#...#..#.#..#........#####..#####....#....#####..#...#..#..#.#........#........#......#....#...#..#...#..#..#.#........#........#......#....#...#..#...#..#...##........#........#......#....#...#..#####..#....#..........................................................................................................#..#####.....#####..#####..#####..#......#.......#..#.........#......#...#..#...#..#......#.......#..#.........#......#...#..#...#..#......#.......#..#####.....#......#...#..#...#..#......#.......#......#.....#......#...#..#...#..#......#.......#......#.....#......#...#..#...#..#..............#..#####.....#####..#####..#####..#####..#......................................................................................................\n",
      "[49, 20]\n",
      "['.................................................', '.................................................', '...#####..#...#..#####..#...#..#####..#....#.....', '...#...#..#...#....#....#...#..#...#..##...#.....', '...#...#..#...#....#....#...#..#...#..#.#..#.....', '...#####..#####....#....#####..#...#..#..#.#.....', '...#........#......#....#...#..#...#..#..#.#.....', '...#........#......#....#...#..#...#..#...##.....', '...#........#......#....#...#..#####..#....#.....', '.................................................', '.................................................', '...#..#####.....#####..#####..#####..#......#....', '...#..#.........#......#...#..#...#..#......#....', '...#..#.........#......#...#..#...#..#......#....', '...#..#####.....#......#...#..#...#..#......#....', '...#......#.....#......#...#..#...#..#......#....', '...#......#.....#......#...#..#...#..#...........', '...#..#####.....#####..#####..#####..#####..#....', '.................................................', '.................................................']\n"
     ]
    }
   ],
   "source": [
    "secret = \"\"\n",
    "with open(\"secret1.txt\", \"r\") as file:\n",
    "    for line in file:\n",
    "        secret += line.strip()\n",
    "\n",
    "key = []\n",
    "with open(\"key1.txt\", \"r\") as file:\n",
    "    for line in file:\n",
    "        key.append(int(line.strip()))\n",
    "\n",
    "print(secret)\n",
    "print(key)\n",
    "\n",
    "output = []\n",
    "counter = 0\n",
    "for i in range(0, key[1]):\n",
    "    line = \"\"\n",
    "    for j in range(0, key[0]):\n",
    "        line += secret[counter]\n",
    "        counter += 1\n",
    "    output.append(line)\n",
    "\n",
    "print(output)\n",
    "\n",
    "with open(\"public1.txt\", \"w\") as file:\n",
    "    output = \"\\n\".join(output)\n",
    "    file.write(output)"
   ]
  },
  {
   "cell_type": "code",
   "execution_count": null,
   "id": "34905ba6",
   "metadata": {},
   "outputs": [],
   "source": [
    "secret = \"\"\n",
    "with open(\"secret.txt\", \"r\") as file:\n",
    "    for line in file:\n",
    "        secret += line.strip()\n",
    "key = []\n",
    "with open(\"key.txt\", \"r\") as file:\n",
    "    for line in file:\n",
    "        key.append(int(line.strip()))\n",
    "output = []\n",
    "counter = 0\n",
    "for i in range(0, key[1]):\n",
    "    line = \"\"\n",
    "    for j in range(0, key[0]):\n",
    "        line += secret[counter]\n",
    "        counter += 1\n",
    "    output.append(line)\n",
    "with open(\"public.txt\", \"w\") as file:\n",
    "    for line in output:\n",
    "        file.write(line + \"\\n\")"
   ]
  },
  {
   "cell_type": "markdown",
   "id": "da5220fd",
   "metadata": {},
   "source": [
    "## Bonus Exercise"
   ]
  },
  {
   "cell_type": "markdown",
   "id": "0566946b",
   "metadata": {},
   "source": [
    "You probably know the game “Paper, Scissors, Rock”. A game for two players. Each player has three options, namely paper, scissors, rock which are formed by the player’s hand. The rules are quite easy: rock beats scissors, scissors beats paper, paper beats rock. If both players have chosen the same object, it’s a draw.\n",
    "\n",
    "In the following, we play 100 consecutive games. Each player has to hand in a file consisting of one letter per line. The letters are either “R”, “P” or “S”.\n",
    "\n",
    "Write a Python Program that reads two files `player1.txt` and `player2.txt`. These files are organized according to the above rules. The program should compare both inputs and calculate how many games have been won by player1, by player2 and how many games ended in a draw. The results are written into a file `result.txt` which looks as follows:\n",
    "\n",
    "`\n",
    "Player1 wins: 23\n",
    "Player2 wins: 48\n",
    "Draws: 29`\n",
    "\n",
    "The sum should always be 100.\n",
    "\n",
    "**Please note:**\n",
    "\n",
    "When programming your solution in CodeOcean, files created by your program will not be visible. If you want to check the content of those files, we suggest to let your code run on your machine (e.g. in a Jupyter Notebook) and check the contents of the files there."
   ]
  },
  {
   "cell_type": "code",
   "execution_count": 57,
   "id": "08023ace",
   "metadata": {},
   "outputs": [
    {
     "name": "stdout",
     "output_type": "stream",
     "text": [
      "Player1 wins: 31\n",
      "Player2 wins: 26\n",
      "Draws: 43\n",
      "Total: 100\n"
     ]
    }
   ],
   "source": [
    "player1 = []\n",
    "with open(\"player1.txt\", \"r\") as file:\n",
    "    for line in file:\n",
    "        player1.append(line.strip())\n",
    "        \n",
    "player2 = []\n",
    "with open(\"player2.txt\", \"r\") as file:\n",
    "    for line in file:\n",
    "        player2.append(line.strip())\n",
    "\n",
    "player1_wins = 0\n",
    "player2_wins = 0\n",
    "draws = 0\n",
    "errors = 0\n",
    "\n",
    "for game in range(0, len(player1)):\n",
    "    if player1[game] == player2[game]:\n",
    "        draws += 1\n",
    "    elif player1[game] == \"R\" and player2[game] == \"S\":\n",
    "        player1_wins += 1\n",
    "    elif player1[game] == \"R\" and player2[game] == \"P\":\n",
    "        player2_wins += 1\n",
    "    elif player1[game] == \"S\" and player2[game] == \"P\":\n",
    "        player1_wins += 1\n",
    "    elif player1[game] == \"S\" and player2[game] == \"R\":\n",
    "        player2_wins += 1\n",
    "    elif player1[game] == \"P\" and player2[game] == \"R\":\n",
    "        player1_wins += 1\n",
    "    elif player1[game] == \"P\" and player2[game] == \"S\":\n",
    "        player2_wins += 1\n",
    "    else:\n",
    "        errors += 1\n",
    "\n",
    "print(f\"Player1 wins: {player1_wins}\")\n",
    "print(f\"Player2 wins: {player2_wins}\")\n",
    "print(f\"Draws: {draws}\")\n",
    "# print(f\"Error: {errors}\")\n",
    "print(f\"Total: {player1_wins + player2_wins + draws}\")\n",
    "\n",
    "with open(\"result.txt\", \"w\") as file:\n",
    "    file.write(f\"Player1 wins: {player1_wins}\\n\")\n",
    "    file.write(f\"Player2 wins: {player2_wins}\\n\")\n",
    "    file.write(f\"Draws: {draws}\\n\")"
   ]
  },
  {
   "cell_type": "code",
   "execution_count": null,
   "id": "32f73acd",
   "metadata": {},
   "outputs": [],
   "source": []
  }
 ],
 "metadata": {
  "kernelspec": {
   "display_name": "Python 3 (ipykernel)",
   "language": "python",
   "name": "python3"
  },
  "language_info": {
   "codemirror_mode": {
    "name": "ipython",
    "version": 3
   },
   "file_extension": ".py",
   "mimetype": "text/x-python",
   "name": "python",
   "nbconvert_exporter": "python",
   "pygments_lexer": "ipython3",
   "version": "3.10.4"
  },
  "varInspector": {
   "cols": {
    "lenName": 16,
    "lenType": 16,
    "lenVar": 40
   },
   "kernels_config": {
    "python": {
     "delete_cmd_postfix": "",
     "delete_cmd_prefix": "del ",
     "library": "var_list.py",
     "varRefreshCmd": "print(var_dic_list())"
    },
    "r": {
     "delete_cmd_postfix": ") ",
     "delete_cmd_prefix": "rm(",
     "library": "var_list.r",
     "varRefreshCmd": "cat(var_dic_list()) "
    }
   },
   "types_to_exclude": [
    "module",
    "function",
    "builtin_function_or_method",
    "instance",
    "_Feature"
   ],
   "window_display": false
  }
 },
 "nbformat": 4,
 "nbformat_minor": 5
}
