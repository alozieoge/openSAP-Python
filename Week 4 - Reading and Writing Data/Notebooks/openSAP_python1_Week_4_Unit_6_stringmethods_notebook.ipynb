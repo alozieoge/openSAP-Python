{
 "cells": [
  {
   "cell_type": "markdown",
   "metadata": {},
   "source": [
    "# [String methods](https://docs.python.org/3/library/stdtypes.html#string-methods)\n",
    "You already know some methods to modify strings in Python. In this unit, you will get to know some more possible string\n",
    "operations. Shown in the table below is a selection of common methods and a short description. They will be explained\n",
    "more detailed below.\n",
    "\n",
    "\n",
    "| Method         | Description                                                                                  |\n",
    "| -------------- | -------------------------------------------------------------------------------------------- |\n",
    "| `count()`      | Count occurrences of substrings                                                              |\n",
    "| `replace()`    | Replace a substring                                                                          |\n",
    "| `strip()`      | Deletes spaces, tabs, linebreaks and similar at the beginning and the end of a string        |\n",
    "| `split()`      | Return a list of the string elements, separated by given separator                           |\n",
    "| `join()`       | Join input strings, separated by string invoking the method                                  |\n",
    "| `upper()`      | Make all characters *UPPERCASE*                                                              |\n",
    "| `lower()`      | Make all characters *lowercase*                                                              |\n",
    "| `title()`      | Make the first letter of every *word* in the **string** *UPPERCASE* and the rest *lowercase* |\n",
    "| `capitalize()` | Change the first *letter* of a **string** to *UPPERCASE* while making the rest *lowercase*   |\n",
    "\n",
    "\n",
    "The following explanations are based on the notation of the\n",
    "[official Python documentation](https://docs.python.org/3/library/stdtypes.html#string-methods) where:\n",
    "- *str* is just a placeholder for the `String` object, from which the method is invoked\n",
    "- arguments in square brackets *[ ]* are optional\n",
    "- default values for arguments (if any) are notated with an *equal sign* ( = )"
   ]
  },
  {
   "cell_type": "markdown",
   "metadata": {},
   "source": [
    "# Counting with *`str.count(sub[,start][,end])`*\n",
    "Using this method you get the number of times *`sub`* is contained in *`str`*. You can use the 2 optional arguments to\n",
    "restrict counting to specific parts of the string using the same notation for slicing as in week 2, unit 7.  \n",
    "Try out different arguments for this method. Can you spot anything special about line 5?"
   ]
  },
  {
   "cell_type": "code",
   "execution_count": 2,
   "metadata": {},
   "outputs": [
    {
     "name": "stdout",
     "output_type": "stream",
     "text": [
      "1\n",
      "2\n",
      "1\n"
     ]
    }
   ],
   "source": [
    "test_string = \"This this is a string containing some letters: xyxyx and a few numbers: 123 456 778899\"\n",
    "print(test_string.count(\"T\"))\n",
    "print(test_string.count(\"xy\"))\n",
    "print(test_string.count(\"xyx\"))"
   ]
  },
  {
   "cell_type": "markdown",
   "metadata": {},
   "source": [
    "# Replacing parts of a string using *`str.replace(old, new[,count])`*\n",
    "If you want to replace parts of a string, you can use the method mentioned above. It will replace *old* by *new* and you\n",
    "can specify to do it only *count* times. However, it is important to notice that the method will return a copy of the\n",
    "modified string and not modify the original one."
   ]
  },
  {
   "cell_type": "code",
   "execution_count": 3,
   "metadata": {},
   "outputs": [
    {
     "name": "stdout",
     "output_type": "stream",
     "text": [
      "The string (This this is a string containing some letters: xyxyx and a few numbers: 123 456 778899) looks like this after modifying: Look here, this is a string containing some letters: xyxyx and a few numbers: 123 456 778899\n",
      "This this is a string containing some letters: xyzxyx and a few numbers: 123 456 778899\n"
     ]
    }
   ],
   "source": [
    "string_modified = test_string.replace(\"This this\", \"Look here, this\")\n",
    "print(f\"The string ({test_string}) looks like this after modifying: {string_modified}\")\n",
    "\n",
    "print(test_string.replace(\"xy\", \"xyz\", 1))"
   ]
  },
  {
   "cell_type": "markdown",
   "metadata": {},
   "source": [
    "# Splitting strings or lines of files with *`str.split(sep=None[,maxsplit=-1])`*\n",
    "\n",
    "When reading data from a file, you may come across `.csv` files, for example from measured data or exporting a list of\n",
    "students from a web tool. The data is written in a text file with a special ending (`.csv`) where rows are separated by\n",
    "line breaks and the columns are separated by a delimiter - usually the comma, hence the name\n",
    "*[(csv - comma-separated-values)](https://en.wikipedia.org/wiki/Comma-separated_values)*.\n",
    "Usually commas (`,`) are used to isolate the data sets from each other, but also a semicolon (`;`) or other signs like\n",
    "spaces or even tab stops (`\\t`) can be used. So be sure to take a look at your input data to determine the delimiter\n",
    "beforehand.  \n",
    "With the method `.split()` you can extract the values from the lines in the file and assign them to separate list items\n",
    "like shown below."
   ]
  },
  {
   "cell_type": "code",
   "execution_count": 5,
   "metadata": {},
   "outputs": [
    {
     "name": "stdout",
     "output_type": "stream",
     "text": [
      "Which student do you want to show? 7\n",
      "Specified student in list: ['Smith', 'Zacharias', '494380', 'zacharias.smith@hogwarts.wiz', 'Care of Magical Creatures']\n"
     ]
    }
   ],
   "source": [
    "list_of_students = []\n",
    "with open(\"students.csv\", \"r\") as f:\n",
    "    for line in f:\n",
    "        line = line.strip()\n",
    "        student = line.split(\";\")\n",
    "        list_of_students.append(student)\n",
    "\n",
    "line_number = int(input(\"Which student do you want to show? \"))\n",
    "\n",
    "print(f\"Specified student in list: {list_of_students[line_number]}\")"
   ]
  },
  {
   "cell_type": "markdown",
   "metadata": {},
   "source": [
    "# Joining strings or lines again using *`str.join(iterable)`*\n",
    "If you would like to add your previously split student list together again, you can use `join()` to concatenate any\n",
    "*iterable* (e.g. list, tuple) of strings. You will get an output string which is separated by the string the method is\n",
    "invoked from."
   ]
  },
  {
   "cell_type": "code",
   "execution_count": 6,
   "metadata": {},
   "outputs": [
    {
     "name": "stdout",
     "output_type": "stream",
     "text": [
      "Hey - Ho - Let's - Go\n",
      "Potter * Harry * 477264 * harry.potter@hogwarts.wiz * Study of Ancient Runes\n"
     ]
    }
   ],
   "source": [
    "separator_string = \" - \"\n",
    "\n",
    "string_list = [\"Hey\", \"Ho\", \"Let's\", \"Go\"]\n",
    "print(separator_string.join(string_list))\n",
    "\n",
    "print(\" * \".join(list_of_students[0]))"
   ]
  },
  {
   "cell_type": "markdown",
   "metadata": {},
   "source": [
    "# Changing the letter case\n",
    "## *`str.upper()`* and *`str.lower()`*\n",
    "Whenever you want to change the case of a string, you can use `.upper()` or `.lower()` to make your string all\n",
    "*UPPERCASE* or completely lowercase. It will return a modified copy of the string.  \n",
    "This may be interesting when you want to design your program independent from case-sensitive search terms for example"
   ]
  },
  {
   "cell_type": "markdown",
   "metadata": {},
   "source": [
    "## *`str.title()`*\n",
    "With `.title()` you can capitalize every first letter of a word in a string whereas `.capitalize()` only makes the first\n",
    "letter in a string *UPPERCASE*."
   ]
  },
  {
   "cell_type": "code",
   "execution_count": 7,
   "metadata": {},
   "outputs": [
    {
     "name": "stdout",
     "output_type": "stream",
     "text": [
      "THIS IS A TESTSTRING IN DIFFERENT CASES\n",
      "this is a teststring in different cases\n",
      "This Is A Teststring In Different Cases\n",
      "This is a teststring in different cases\n"
     ]
    }
   ],
   "source": [
    "case_string = \"tHIS Is a TeSTString in different caSES\"\n",
    "\n",
    "print(case_string.upper())\n",
    "print(case_string.lower())\n",
    "print(case_string.title())\n",
    "print(case_string.capitalize())"
   ]
  },
  {
   "cell_type": "markdown",
   "metadata": {},
   "source": [
    "### Self-Test"
   ]
  },
  {
   "cell_type": "code",
   "execution_count": 8,
   "metadata": {},
   "outputs": [
    {
     "ename": "AttributeError",
     "evalue": "'list' object has no attribute 'upper'",
     "output_type": "error",
     "traceback": [
      "\u001b[1;31m---------------------------------------------------------------------------\u001b[0m",
      "\u001b[1;31mAttributeError\u001b[0m                            Traceback (most recent call last)",
      "Input \u001b[1;32mIn [8]\u001b[0m, in \u001b[0;36m<cell line: 3>\u001b[1;34m()\u001b[0m\n\u001b[0;32m      1\u001b[0m t \u001b[38;5;241m=\u001b[39m \u001b[38;5;124m\"\u001b[39m\u001b[38;5;124mYesterday, Let it be, Help, Something\u001b[39m\u001b[38;5;124m\"\u001b[39m\n\u001b[0;32m      2\u001b[0m t \u001b[38;5;241m=\u001b[39m t\u001b[38;5;241m.\u001b[39msplit(\u001b[38;5;124m\"\u001b[39m\u001b[38;5;124m,\u001b[39m\u001b[38;5;124m\"\u001b[39m)\n\u001b[1;32m----> 3\u001b[0m t \u001b[38;5;241m=\u001b[39m \u001b[43mt\u001b[49m\u001b[38;5;241;43m.\u001b[39;49m\u001b[43mupper\u001b[49m()\n",
      "\u001b[1;31mAttributeError\u001b[0m: 'list' object has no attribute 'upper'"
     ]
    }
   ],
   "source": [
    "t = \"Yesterday, Let it be, Help, Something\"\n",
    "t = t.split(\",\")\n",
    "t = t.upper()"
   ]
  },
  {
   "cell_type": "code",
   "execution_count": null,
   "metadata": {},
   "outputs": [],
   "source": []
  }
 ],
 "metadata": {
  "interpreter": {
   "hash": "b89b5cfaba6639976dc87ff2fec6d58faec662063367e2c229c520fe71072417"
  },
  "kernelspec": {
   "display_name": "Python 3 (ipykernel)",
   "language": "python",
   "name": "python3"
  },
  "language_info": {
   "codemirror_mode": {
    "name": "ipython",
    "version": 3
   },
   "file_extension": ".py",
   "mimetype": "text/x-python",
   "name": "python",
   "nbconvert_exporter": "python",
   "pygments_lexer": "ipython3",
   "version": "3.10.4"
  },
  "varInspector": {
   "cols": {
    "lenName": 16,
    "lenType": 16,
    "lenVar": 40
   },
   "kernels_config": {
    "python": {
     "delete_cmd_postfix": "",
     "delete_cmd_prefix": "del ",
     "library": "var_list.py",
     "varRefreshCmd": "print(var_dic_list())"
    },
    "r": {
     "delete_cmd_postfix": ") ",
     "delete_cmd_prefix": "rm(",
     "library": "var_list.r",
     "varRefreshCmd": "cat(var_dic_list()) "
    }
   },
   "types_to_exclude": [
    "module",
    "function",
    "builtin_function_or_method",
    "instance",
    "_Feature"
   ],
   "window_display": false
  }
 },
 "nbformat": 4,
 "nbformat_minor": 2
}
