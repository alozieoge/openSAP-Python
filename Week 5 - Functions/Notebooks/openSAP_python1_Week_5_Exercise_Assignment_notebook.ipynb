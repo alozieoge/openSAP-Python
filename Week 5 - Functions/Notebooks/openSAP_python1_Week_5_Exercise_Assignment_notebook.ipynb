{
 "cells": [
  {
   "cell_type": "markdown",
   "id": "a62de1b6",
   "metadata": {},
   "source": [
    "# Exercises and Assignments for Week 5 - Python Functions"
   ]
  },
  {
   "cell_type": "markdown",
   "id": "026c6739",
   "metadata": {},
   "source": [
    "## Exercise 1"
   ]
  },
  {
   "cell_type": "markdown",
   "id": "a8eba135",
   "metadata": {},
   "source": [
    "Implement a function named `get_student_data()`. The function should do the following:\n",
    "\n",
    "- Using `input()` it asks for name, first name and a student-id.\n",
    "- The values are packed into a tuple.\n",
    "- This tuple is returned from the function.\n",
    "\n",
    "The function `get_student_data()` is then called in the program, the return value is assigned to a variable. Finally, output the variable using `print()`."
   ]
  },
  {
   "cell_type": "code",
   "execution_count": 1,
   "id": "132fd6be",
   "metadata": {},
   "outputs": [
    {
     "name": "stdout",
     "output_type": "stream",
     "text": [
      "Enter your surname: Alozie\n",
      "Enter your first name: Ogechukwu\n",
      "Enter your student ID: s123456\n",
      "('Alozie', 'Ogechukwu', 's123456')\n"
     ]
    }
   ],
   "source": [
    "def get_student_data():\n",
    "    surname = input(\"Enter your surname: \")\n",
    "    first_name = input(\"Enter your first name: \")\n",
    "    student_id = input(\"Enter your student ID: \")\n",
    "    \n",
    "    return (surname, first_name, student_id)\n",
    "\n",
    "student_data = get_student_data()\n",
    "print(student_data)"
   ]
  },
  {
   "cell_type": "markdown",
   "id": "0746e4ff",
   "metadata": {},
   "source": [
    "## Exercise 2"
   ]
  },
  {
   "cell_type": "markdown",
   "id": "680ca433",
   "metadata": {},
   "source": [
    "Implement the function `is_even(number)` which gets an integer as input parameter and checks, if this input is even or not. `is_even()` will return the boolean value `True` if the value is even and `False` if the input is not even.\n",
    "\n",
    "Implement a for loop which iterates over the `range(100)`. Within the for loop, the sequence-variable is checked with the function `is_even()`. Depending on the return value, either `x` is even or `x` is not even is printed.\n",
    "\n",
    "Example output:\n",
    "\n",
    "`\n",
    "0 is even\n",
    "1 is not even\n",
    "2 is even \n",
    "...\n",
    "`"
   ]
  },
  {
   "cell_type": "code",
   "execution_count": 2,
   "id": "7d71ead7",
   "metadata": {},
   "outputs": [],
   "source": [
    "def is_even(number):\n",
    "    return number % 2 == 0"
   ]
  },
  {
   "cell_type": "code",
   "execution_count": 3,
   "id": "0625cd7d",
   "metadata": {
    "scrolled": true
   },
   "outputs": [
    {
     "name": "stdout",
     "output_type": "stream",
     "text": [
      "0 is even\n",
      "1 is not even\n",
      "2 is even\n",
      "3 is not even\n",
      "4 is even\n",
      "5 is not even\n",
      "6 is even\n",
      "7 is not even\n",
      "8 is even\n",
      "9 is not even\n",
      "10 is even\n",
      "11 is not even\n",
      "12 is even\n",
      "13 is not even\n",
      "14 is even\n",
      "15 is not even\n",
      "16 is even\n",
      "17 is not even\n",
      "18 is even\n",
      "19 is not even\n",
      "20 is even\n",
      "21 is not even\n",
      "22 is even\n",
      "23 is not even\n",
      "24 is even\n",
      "25 is not even\n",
      "26 is even\n",
      "27 is not even\n",
      "28 is even\n",
      "29 is not even\n",
      "30 is even\n",
      "31 is not even\n",
      "32 is even\n",
      "33 is not even\n",
      "34 is even\n",
      "35 is not even\n",
      "36 is even\n",
      "37 is not even\n",
      "38 is even\n",
      "39 is not even\n",
      "40 is even\n",
      "41 is not even\n",
      "42 is even\n",
      "43 is not even\n",
      "44 is even\n",
      "45 is not even\n",
      "46 is even\n",
      "47 is not even\n",
      "48 is even\n",
      "49 is not even\n",
      "50 is even\n",
      "51 is not even\n",
      "52 is even\n",
      "53 is not even\n",
      "54 is even\n",
      "55 is not even\n",
      "56 is even\n",
      "57 is not even\n",
      "58 is even\n",
      "59 is not even\n",
      "60 is even\n",
      "61 is not even\n",
      "62 is even\n",
      "63 is not even\n",
      "64 is even\n",
      "65 is not even\n",
      "66 is even\n",
      "67 is not even\n",
      "68 is even\n",
      "69 is not even\n",
      "70 is even\n",
      "71 is not even\n",
      "72 is even\n",
      "73 is not even\n",
      "74 is even\n",
      "75 is not even\n",
      "76 is even\n",
      "77 is not even\n",
      "78 is even\n",
      "79 is not even\n",
      "80 is even\n",
      "81 is not even\n",
      "82 is even\n",
      "83 is not even\n",
      "84 is even\n",
      "85 is not even\n",
      "86 is even\n",
      "87 is not even\n",
      "88 is even\n",
      "89 is not even\n",
      "90 is even\n",
      "91 is not even\n",
      "92 is even\n",
      "93 is not even\n",
      "94 is even\n",
      "95 is not even\n",
      "96 is even\n",
      "97 is not even\n",
      "98 is even\n",
      "99 is not even\n"
     ]
    }
   ],
   "source": [
    "for num in range(100):\n",
    "    if is_even(num):\n",
    "        print(f\"{num} is even\")\n",
    "    else:\n",
    "        print(f\"{num} is not even\")"
   ]
  },
  {
   "cell_type": "markdown",
   "id": "f57b5cc3",
   "metadata": {},
   "source": [
    "## Exercise 3"
   ]
  },
  {
   "cell_type": "markdown",
   "id": "1a3bab2d",
   "metadata": {},
   "source": [
    "The stopping distance of a car can be calculated using the following **rule of thumb**:\n",
    "\n",
    "- The **stopping distance** of the car is the sum of the reaction path and the brake distance\n",
    "- The **reaction path** depends on the speed. It can be calculated by the following rule of thumb: \n",
    "    - The reaction path in meter is equal to the speed in km/h times 3/10. \n",
    "    - Example: Speed 50km/h –> reaction path 15m\n",
    "- The **brake distance** depends as well on the speed. Again there is a rule of thumb which is: \n",
    "    - brake distance in m is equal to the speed in km/h divided by 10, the result has to be taken by the power of 2. \n",
    "    - Example: Speed 50km/h –> (50 / 10)**2 = 25m\n",
    "- The **stopping distance** for a car with a speed of 50km/h is 15m + 25m = 40m\n",
    "\n",
    "\n",
    "Implement the following functions to calculate the stopping distance:\n",
    "\n",
    "- function `reaction_path()` which gets the speed in km/h as input, calculates the reaction path according to the above rule of thumb and returns the path in m\n",
    "- function `brake_distance()` which gets the speed in km/h as input, calculates the brake distance according to the above rule of thumnb and returns the distance in m\n",
    "- function `stopping_distance()` which gets the speed in km/h as input, calls the above functions, adds their return values and returns this sum\n",
    "\n",
    "Get a speed in km/h as input and output the stopping distance in m.\n",
    "\n"
   ]
  },
  {
   "cell_type": "code",
   "execution_count": 8,
   "id": "0fe31c69",
   "metadata": {},
   "outputs": [],
   "source": [
    "def reaction_path(speed):\n",
    "    return speed * 3 / 10\n",
    "\n",
    "def brake_distance(speed):\n",
    "    return (speed / 10) ** 2\n",
    "\n",
    "def stopping_distance(speed):\n",
    "    return reaction_path(speed) + brake_distance(speed)"
   ]
  },
  {
   "cell_type": "code",
   "execution_count": 10,
   "id": "62c4c804",
   "metadata": {},
   "outputs": [
    {
     "name": "stdout",
     "output_type": "stream",
     "text": [
      "Enter your speed in km/h: 50\n",
      "Your stopping distance is 40.0 m\n"
     ]
    }
   ],
   "source": [
    "speed_kmph = float(input(\"Enter your speed in km/h: \"))\n",
    "print(f\"Your stopping distance is {stopping_distance(speed_kmph)} m\")"
   ]
  },
  {
   "cell_type": "markdown",
   "id": "2229abb7",
   "metadata": {},
   "source": [
    "## Assignment 1"
   ]
  },
  {
   "cell_type": "code",
   "execution_count": 1,
   "id": "c086e77d",
   "metadata": {},
   "outputs": [
    {
     "name": "stdout",
     "output_type": "stream",
     "text": [
      "4\n",
      "4\n",
      "6\n"
     ]
    }
   ],
   "source": [
    "def f4():\n",
    "    print(4)\n",
    "    return 3\n",
    "\n",
    "print(f4() + f4())"
   ]
  },
  {
   "cell_type": "code",
   "execution_count": 6,
   "id": "834b7d54",
   "metadata": {},
   "outputs": [
    {
     "ename": "SyntaxError",
     "evalue": "non-default argument follows default argument (2888385278.py, line 1)",
     "output_type": "error",
     "traceback": [
      "\u001b[1;36m  Input \u001b[1;32mIn [6]\u001b[1;36m\u001b[0m\n\u001b[1;33m    def my_func(param1=\"\\n\", param2):\u001b[0m\n\u001b[1;37m                             ^\u001b[0m\n\u001b[1;31mSyntaxError\u001b[0m\u001b[1;31m:\u001b[0m non-default argument follows default argument\n"
     ]
    }
   ],
   "source": [
    "def my_func(param1=\"\\n\", param2):\n",
    "    print(param1, param2)"
   ]
  },
  {
   "cell_type": "code",
   "execution_count": 5,
   "id": "5161185a",
   "metadata": {},
   "outputs": [
    {
     "ename": "TypeError",
     "evalue": "my_func() missing 1 required positional argument: 'param1'",
     "output_type": "error",
     "traceback": [
      "\u001b[1;31m---------------------------------------------------------------------------\u001b[0m",
      "\u001b[1;31mTypeError\u001b[0m                                 Traceback (most recent call last)",
      "Input \u001b[1;32mIn [5]\u001b[0m, in \u001b[0;36m<cell line: 1>\u001b[1;34m()\u001b[0m\n\u001b[1;32m----> 1\u001b[0m \u001b[43mmy_func\u001b[49m\u001b[43m(\u001b[49m\u001b[43m)\u001b[49m\n",
      "\u001b[1;31mTypeError\u001b[0m: my_func() missing 1 required positional argument: 'param1'"
     ]
    }
   ],
   "source": [
    "my_func()"
   ]
  },
  {
   "cell_type": "code",
   "execution_count": 7,
   "id": "8726b441",
   "metadata": {},
   "outputs": [
    {
     "name": "stdout",
     "output_type": "stream",
     "text": [
      "1\n",
      "5\n",
      "10\n"
     ]
    }
   ],
   "source": [
    "def f2(x = 5):\n",
    "    print(x)\n",
    "    x += 1\n",
    "    return x + 1\n",
    "\n",
    "print(f2(1) + f2())"
   ]
  },
  {
   "cell_type": "code",
   "execution_count": 11,
   "id": "73e75146",
   "metadata": {},
   "outputs": [
    {
     "name": "stdout",
     "output_type": "stream",
     "text": [
      "1\n",
      "5\n",
      "(3, 2, 1, 7, 6, 1)\n"
     ]
    }
   ],
   "source": [
    "def f2(x = 5):\n",
    "    print(x)\n",
    "    x += 1\n",
    "    return x + 1, x, 1\n",
    "\n",
    "print(f2(1) + f2())"
   ]
  },
  {
   "cell_type": "code",
   "execution_count": 8,
   "id": "c8896d6f",
   "metadata": {},
   "outputs": [
    {
     "name": "stdout",
     "output_type": "stream",
     "text": [
      "10\n",
      "4\n"
     ]
    }
   ],
   "source": [
    "def f3():\n",
    "    x = 10\n",
    "    print(x)\n",
    "\n",
    "x = 3\n",
    "f3()\n",
    "print(x + 1)"
   ]
  },
  {
   "cell_type": "code",
   "execution_count": 10,
   "id": "8e3ed60b",
   "metadata": {},
   "outputs": [
    {
     "name": "stdout",
     "output_type": "stream",
     "text": [
      "Light is on\n"
     ]
    }
   ],
   "source": [
    "light_on = True\n",
    "\n",
    "def switch_light(x):\n",
    "    return not x\n",
    "\n",
    "def print_light_state(light):\n",
    "    if light:\n",
    "        print(\"Light is on\")\n",
    "    else:\n",
    "        print(\"Light is off\")\n",
    "        \n",
    "print_light_state(switch_light(switch_light(light_on)))"
   ]
  },
  {
   "cell_type": "code",
   "execution_count": 12,
   "id": "72f9a8b9",
   "metadata": {},
   "outputs": [
    {
     "data": {
      "text/plain": [
       "[3, 4, 5]"
      ]
     },
     "execution_count": 12,
     "metadata": {},
     "output_type": "execute_result"
    }
   ],
   "source": [
    "x = (1,2,3,4,5)\n",
    "_, i, *j = x\n",
    "j"
   ]
  },
  {
   "cell_type": "markdown",
   "id": "285be4be",
   "metadata": {},
   "source": [
    "## Assignment 2"
   ]
  },
  {
   "cell_type": "markdown",
   "id": "edd998be",
   "metadata": {},
   "source": [
    "**Vignère Cipher**\n",
    "\n",
    "You already implemented a solution for the Caesar cipher in week 3. As this cipher is quite weak, let's turn to another cipher, the Vignère cipher.\n",
    "\n",
    "Like the Caesar cipher, the Vignère cipher is a simple substitution algorithm, that means, each letter is replaced by another letter. In the Caesar cipher, each letter is shifted the same number of times. And this number is the key. In Vignère these number of shifts change from letter to letter. The number of shifts are given by a keyword which is repeated until it matches the length of the text to be encrypted.\n",
    "\n",
    "For simplification we assume, that only letters are encrypted and that we only have to deal with lower case letters. Let's have a look at the following example:\n",
    "\n",
    "- In the first line there is the clear text.\n",
    "- In the second line there is the repeated keyword random.\n",
    "- In the third line the letter from the keyword is replaced by it's position in the alphabet (a: 0, b: 1, c: 2, ... z: 25). As r is on position 17, there is a 17 in the first position of the third row. This position determines how often the corresponding letter from the clear text has to be shifted.\n",
    "- In the fourth line you can see the secret text. The first letter p from the clear text is shifted 17 times and results in g (as the end of the alphabet is already reached after 11 shifts, one starts again at the beginning of the alphabet). The second letter y is shifted 0 times as the a from random is at position 0 of the alphabet. Thus, this y is mapped to y. \n",
    "\n",
    "*Important*: The blank is not shifted as it is no letter. However the repetition of the keyword in line two is not influenced by that."
   ]
  },
  {
   "cell_type": "markdown",
   "id": "14bf3131",
   "metadata": {},
   "source": [
    "**Your Task**\n",
    "\n",
    "Implement a program, that gets a text as input and in addition a keyword, which is the number of shifts.\n",
    "\n",
    "- Implement a function `encrypt_letter()`, that gets a character and the key as input. The return value will be the encrypted character.\n",
    "- Implement a function `calculate_shifts()`, that gets a letter as input parameter and returns the position of this letter in the alphabet (starting with a at position 0):\n",
    "- Implement a function `encrypt_text()`, that gets a text and a keyword as input and returns the encrypted text. This function calls both `calculate_shifts()` and `encrypt_letter()`"
   ]
  },
  {
   "cell_type": "markdown",
   "id": "30179186",
   "metadata": {},
   "source": [
    "![Vignere Cipher](img/vignere_cipher_1.PNG)"
   ]
  },
  {
   "cell_type": "code",
   "execution_count": 21,
   "id": "9485006a",
   "metadata": {},
   "outputs": [
    {
     "data": {
      "text/plain": [
       "(97, 122)"
      ]
     },
     "execution_count": 21,
     "metadata": {},
     "output_type": "execute_result"
    }
   ],
   "source": [
    "ord(\"a\"), ord(\"z\")"
   ]
  },
  {
   "cell_type": "code",
   "execution_count": 38,
   "id": "a11c0992",
   "metadata": {},
   "outputs": [
    {
     "data": {
      "text/plain": [
       "'a'"
      ]
     },
     "execution_count": 38,
     "metadata": {},
     "output_type": "execute_result"
    }
   ],
   "source": [
    "chr(97)"
   ]
  },
  {
   "cell_type": "code",
   "execution_count": 67,
   "id": "5739536f",
   "metadata": {},
   "outputs": [],
   "source": [
    "def encrypt_letter(char, key):\n",
    "#     encrypted = chr(ord(\"a\") + ((ord(char) + key) % ord(\"z\")))\n",
    "    encrypted = chr(ord(\"a\") + ((ord(char) - ord(\"a\") + key) % (ord(\"z\") - ord(\"a\"))))\n",
    "    return encrypted\n",
    "\n",
    "def calculate_shifts(char):\n",
    "    position = ord(char) % ord(\"a\")\n",
    "    return position\n",
    "\n",
    "def encrypt_text():\n",
    "    pass"
   ]
  },
  {
   "cell_type": "code",
   "execution_count": 68,
   "id": "40fec68d",
   "metadata": {},
   "outputs": [
    {
     "name": "stdout",
     "output_type": "stream",
     "text": [
      "17\n",
      "0\n",
      "13\n",
      "3\n",
      "14\n",
      "12\n"
     ]
    }
   ],
   "source": [
    "for r in \"random\":\n",
    "    print(calculate_shifts(r))"
   ]
  },
  {
   "cell_type": "code",
   "execution_count": 69,
   "id": "daa5b603",
   "metadata": {},
   "outputs": [
    {
     "name": "stdout",
     "output_type": "stream",
     "text": [
      "h\n",
      "y\n",
      "h\n",
      "k\n",
      "d\n",
      "a\n"
     ]
    }
   ],
   "source": [
    "for p, r in zip(\"python\", \"random\"):\n",
    "    print(encrypt_letter(p, calculate_shifts(r)))"
   ]
  },
  {
   "cell_type": "code",
   "execution_count": 71,
   "id": "f1ec8c3d",
   "metadata": {},
   "outputs": [
    {
     "data": {
      "text/plain": [
       "'h'"
      ]
     },
     "execution_count": 71,
     "metadata": {},
     "output_type": "execute_result"
    }
   ],
   "source": [
    "chr(ord(\"a\") + ((ord(\"p\") - ord(\"a\") + 17) % (ord(\"z\") - ord(\"a\"))))"
   ]
  },
  {
   "cell_type": "code",
   "execution_count": 73,
   "id": "82a1dbe7",
   "metadata": {},
   "outputs": [
    {
     "data": {
      "text/plain": [
       "15"
      ]
     },
     "execution_count": 73,
     "metadata": {},
     "output_type": "execute_result"
    }
   ],
   "source": [
    "ord(\"p\") - ord(\"a\")"
   ]
  },
  {
   "cell_type": "code",
   "execution_count": 74,
   "id": "0ca0ac1c",
   "metadata": {},
   "outputs": [
    {
     "data": {
      "text/plain": [
       "25"
      ]
     },
     "execution_count": 74,
     "metadata": {},
     "output_type": "execute_result"
    }
   ],
   "source": [
    "ord(\"z\") - ord(\"a\")"
   ]
  },
  {
   "cell_type": "code",
   "execution_count": 43,
   "id": "641f630e",
   "metadata": {
    "scrolled": true
   },
   "outputs": [
    {
     "data": {
      "text/plain": [
       "32"
      ]
     },
     "execution_count": 43,
     "metadata": {},
     "output_type": "execute_result"
    }
   ],
   "source": [
    "15+17"
   ]
  },
  {
   "cell_type": "code",
   "execution_count": 44,
   "id": "40ea4061",
   "metadata": {},
   "outputs": [
    {
     "data": {
      "text/plain": [
       "7"
      ]
     },
     "execution_count": 44,
     "metadata": {},
     "output_type": "execute_result"
    }
   ],
   "source": [
    "32-25"
   ]
  },
  {
   "cell_type": "code",
   "execution_count": 45,
   "id": "a8329102",
   "metadata": {},
   "outputs": [
    {
     "data": {
      "text/plain": [
       "110"
      ]
     },
     "execution_count": 45,
     "metadata": {},
     "output_type": "execute_result"
    }
   ],
   "source": [
    "ord(p)"
   ]
  },
  {
   "cell_type": "code",
   "execution_count": 46,
   "id": "7062ba3d",
   "metadata": {},
   "outputs": [
    {
     "data": {
      "text/plain": [
       "127"
      ]
     },
     "execution_count": 46,
     "metadata": {},
     "output_type": "execute_result"
    }
   ],
   "source": [
    "110+17"
   ]
  },
  {
   "cell_type": "code",
   "execution_count": 47,
   "id": "db81c452",
   "metadata": {},
   "outputs": [
    {
     "data": {
      "text/plain": [
       "'\\x7f'"
      ]
     },
     "execution_count": 47,
     "metadata": {},
     "output_type": "execute_result"
    }
   ],
   "source": [
    "chr(127)"
   ]
  },
  {
   "cell_type": "code",
   "execution_count": 52,
   "id": "1a5d952b",
   "metadata": {},
   "outputs": [
    {
     "data": {
      "text/plain": [
       "'f'"
      ]
     },
     "execution_count": 52,
     "metadata": {},
     "output_type": "execute_result"
    }
   ],
   "source": [
    "chr(97+(127-122))"
   ]
  },
  {
   "cell_type": "code",
   "execution_count": 54,
   "id": "fb490b24",
   "metadata": {},
   "outputs": [
    {
     "data": {
      "text/plain": [
       "121"
      ]
     },
     "execution_count": 54,
     "metadata": {},
     "output_type": "execute_result"
    }
   ],
   "source": [
    "ord(\"y\")"
   ]
  },
  {
   "cell_type": "code",
   "execution_count": 56,
   "id": "4679a586",
   "metadata": {},
   "outputs": [
    {
     "data": {
      "text/plain": [
       "'Ú'"
      ]
     },
     "execution_count": 56,
     "metadata": {},
     "output_type": "execute_result"
    }
   ],
   "source": [
    "chr(97+(121%122))"
   ]
  },
  {
   "cell_type": "code",
   "execution_count": null,
   "id": "ed8ef227",
   "metadata": {},
   "outputs": [],
   "source": []
  },
  {
   "cell_type": "markdown",
   "id": "2f542c1d",
   "metadata": {},
   "source": [
    "**Hint 1**\n",
    "\n",
    "The function `encrypt_text()` should do the following:\n",
    "\n",
    "- The `encrypt_text()` function should turn the text and the keyword into lower case.\n",
    "- The function steps through the clear text character by character.\n",
    "- A counter is required, which steps through the letters of the keyword.\n",
    "- The counter determines the letter from the keyword, which defines the number of shifts.\n",
    "- The counter is incremented. If the counter is bigger than the length of the keyword , it should be set back to 0. This can be implemented with a simple modulo operation.\n",
    "- The identified character of the keyword is taken as input for the function `calculate_shifts()`\n",
    "- The output of this function is the key, which is the second parameter for the function `encrypt_letter()`. The first parameter is the character, identified at the beginning of this list\n",
    "- The function `encrypt_letter()` should only encrypt letters. If it is called with a special character like 1 or ? it should simply return this character.\n",
    "\n",
    "**Hint 2**\n",
    "\n",
    "To check if a given character is a letter, you can use the string method .isalpha (). This methods returns True if all characters in the string are letters. If there is a character, which is not a letter, the method returns False. \n",
    "Example: `\"A\".isalpha()` is True, whereas `\"2\".isalpha()` returns False.\n",
    "\n",
    "**Hint 3**\n",
    "\n",
    "Get both the clear text and the keyword by the `input()` function. The `encrypt_text()` function should turn the text and the keyword into lower case equivalents using `.lower()`. Finally, print the return value from `encrypt_text()`.\n",
    "\n",
    "**Hint 4**\n",
    "\n",
    "If you want to test your program, the keywords a or Aaa should result in the clear text aaa.\n",
    "\n",
    "**Example**\n",
    "\n",
    "`Which text should be encrypted: Python is Really Beautiful\n",
    "Which keyword should be used? Random\n",
    "gygkcz if fqrlyb nvahwwrll`"
   ]
  },
  {
   "cell_type": "code",
   "execution_count": 77,
   "id": "55aa7d79",
   "metadata": {},
   "outputs": [],
   "source": [
    "def encrypt_letter(char, key):\n",
    "    if char.isalpha():\n",
    "        char_index = ord(char) - ord(\"a\") + key\n",
    "        char_index = char_index % len(range(ord(\"a\"), ord(\"z\") + 1))\n",
    "        char_letter = chr(ord(\"a\") + char_index)\n",
    "        return char_letter\n",
    "    return char\n",
    "\n",
    "def calculate_shifts(char):\n",
    "    position = ord(char) % ord(\"a\")\n",
    "    return position\n",
    "\n",
    "def encrypt_text(text, keyword):\n",
    "    text = text.lower().strip()\n",
    "    keyword = keyword.lower().strip()\n",
    "    encrypted = \"\"\n",
    "    counter = 0    \n",
    "    for char in text:\n",
    "        counter = counter % len(keyword)\n",
    "        keychar = keyword[counter]\n",
    "        key = calculate_shifts(keychar)\n",
    "        encrypted += encrypt_letter(char, key)\n",
    "        counter += 1\n",
    "        \n",
    "    return encrypted"
   ]
  },
  {
   "cell_type": "code",
   "execution_count": 78,
   "id": "c8169d16",
   "metadata": {},
   "outputs": [
    {
     "name": "stdout",
     "output_type": "stream",
     "text": [
      "Which text should be encrypted: Python is Really Beautiful\n",
      "Which keyword should be used: Random\n",
      "gygkcz if fqrlyb nvahwwrll\n"
     ]
    }
   ],
   "source": [
    "text = input(\"Which text should be encrypted: \")\n",
    "keyword = input(\"Which keyword should be used: \")\n",
    "\n",
    "print(encrypt_text(text, keyword))"
   ]
  },
  {
   "cell_type": "code",
   "execution_count": 85,
   "id": "cb37ed56",
   "metadata": {},
   "outputs": [],
   "source": [
    "alphabets = \"abcdefghijklmnopqrstuvwxyz\"\n",
    "\n",
    "def encrypt_letter(char, key):\n",
    "    if char.isalpha():\n",
    "        char_index = alphabets.index(char) + key\n",
    "        char_index = char_index % len(alphabets)\n",
    "        char_encrypt = alphabets[char_index]\n",
    "        return char_encrypt\n",
    "    return char\n",
    "\n",
    "def calculate_shifts(char):\n",
    "    position = alphabets.index(char)\n",
    "    return position\n",
    "\n",
    "def encrypt_text(text, keyword):\n",
    "    text = text.lower().strip()\n",
    "    keyword = keyword.lower().strip()\n",
    "    encrypted = \"\"\n",
    "    counter = 0    \n",
    "    for char in text:\n",
    "        counter = counter % len(keyword)\n",
    "        keychar = keyword[counter]\n",
    "        key = calculate_shifts(keychar)\n",
    "        encrypted += encrypt_letter(char, key)\n",
    "        counter += 1\n",
    "        \n",
    "    return encrypted"
   ]
  },
  {
   "cell_type": "code",
   "execution_count": 86,
   "id": "055fa3d1",
   "metadata": {},
   "outputs": [
    {
     "name": "stdout",
     "output_type": "stream",
     "text": [
      "Which text should be encrypted: Python is Really Beautiful\n",
      "Which keyword should be used: Random\n",
      "gygkcz if fqrlyb nvahwwrll\n"
     ]
    }
   ],
   "source": [
    "text = input(\"Which text should be encrypted: \")\n",
    "keyword = input(\"Which keyword should be used: \")\n",
    "\n",
    "print(encrypt_text(text, keyword))"
   ]
  },
  {
   "cell_type": "code",
   "execution_count": 84,
   "id": "4e8d7550",
   "metadata": {},
   "outputs": [
    {
     "data": {
      "text/plain": [
       "5"
      ]
     },
     "execution_count": 84,
     "metadata": {},
     "output_type": "execute_result"
    }
   ],
   "source": [
    "alphabets.index(\"f\")"
   ]
  },
  {
   "cell_type": "markdown",
   "id": "3311596a",
   "metadata": {},
   "source": [
    "## Bonus"
   ]
  },
  {
   "cell_type": "markdown",
   "id": "36e4bf4f",
   "metadata": {},
   "source": [
    "[Prime numbers](https://en.wikipedia.org/wiki/Prime_number) are natural numbers greater than 1 which are not divisible by any number beside 1 and the number itself. In other words, the number cannot be composed as a product of two natural numbers other than 1 and the number itself. There are infinite prime numbers and the first ones are:\n",
    "\n",
    "2, 3, 5, 7, 11, …\n",
    "\n",
    "Write a program, that gets an integer through input and creates a list containing all prime numbers until this input. To do so, two functions have to be implemented:\n",
    "\n",
    "- The function `is_prime()` gets an integer as input and returns `True` if this integer is prime, and `False` if the integer is not prime.\n",
    "- The function `prime_list()` gets an integer as input and checks each number from 2 to input, if it is prime by calling the above function. If a number is prime, it is appended to a list. This list is given back as the return value of `prime_list()`.\n",
    "\n",
    "The program finally outputs the list of all prime numbers.\n",
    "\n",
    "**Example 1**:\n",
    "\n",
    "`Up to which number do you want all prime numbers: 100\n",
    "[2, 3, 5, 7, 11, 13, 17, 19, 23, 29, 31, 37, 41, 43, 47, 53, 59, 61, 67, 71, 73, 79, 83, 89, 97]`\n",
    "\n",
    "**Example 2**:\n",
    "\n",
    "`Up to which number do you want all prime numbers: 13\n",
    "[2, 3, 5, 7, 11, 13]`\n"
   ]
  },
  {
   "cell_type": "code",
   "execution_count": 96,
   "id": "d10dc003",
   "metadata": {},
   "outputs": [],
   "source": [
    "def is_prime(n):\n",
    "    for i in range(2, n):\n",
    "        if n % i == 0:\n",
    "            return False\n",
    "    return True\n",
    "\n",
    "def prime_list(num):\n",
    "    primes = []\n",
    "    for n in range(2, num + 1):\n",
    "        if is_prime(n):\n",
    "            primes.append(n)\n",
    "    return primes"
   ]
  },
  {
   "cell_type": "code",
   "execution_count": 98,
   "id": "4f936ae5",
   "metadata": {},
   "outputs": [
    {
     "name": "stdout",
     "output_type": "stream",
     "text": [
      "Up to which number do you want all prime numbers: 100\n",
      "[2, 3, 5, 7, 11, 13, 17, 19, 23, 29, 31, 37, 41, 43, 47, 53, 59, 61, 67, 71, 73, 79, 83, 89, 97]\n"
     ]
    }
   ],
   "source": [
    "number = int(input(\"Up to which number do you want all prime numbers: \"))\n",
    "print(prime_list(number))"
   ]
  },
  {
   "cell_type": "code",
   "execution_count": null,
   "id": "e644ebc9",
   "metadata": {},
   "outputs": [],
   "source": []
  }
 ],
 "metadata": {
  "kernelspec": {
   "display_name": "Python 3 (ipykernel)",
   "language": "python",
   "name": "python3"
  },
  "language_info": {
   "codemirror_mode": {
    "name": "ipython",
    "version": 3
   },
   "file_extension": ".py",
   "mimetype": "text/x-python",
   "name": "python",
   "nbconvert_exporter": "python",
   "pygments_lexer": "ipython3",
   "version": "3.10.4"
  },
  "varInspector": {
   "cols": {
    "lenName": 16,
    "lenType": 16,
    "lenVar": 40
   },
   "kernels_config": {
    "python": {
     "delete_cmd_postfix": "",
     "delete_cmd_prefix": "del ",
     "library": "var_list.py",
     "varRefreshCmd": "print(var_dic_list())"
    },
    "r": {
     "delete_cmd_postfix": ") ",
     "delete_cmd_prefix": "rm(",
     "library": "var_list.r",
     "varRefreshCmd": "cat(var_dic_list()) "
    }
   },
   "types_to_exclude": [
    "module",
    "function",
    "builtin_function_or_method",
    "instance",
    "_Feature"
   ],
   "window_display": false
  }
 },
 "nbformat": 4,
 "nbformat_minor": 5
}
