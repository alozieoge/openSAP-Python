{
 "cells": [
  {
   "cell_type": "markdown",
   "id": "6f06c118",
   "metadata": {},
   "source": [
    "## Part 1"
   ]
  },
  {
   "cell_type": "code",
   "execution_count": 1,
   "id": "b64f17ab",
   "metadata": {},
   "outputs": [
    {
     "data": {
      "text/plain": [
       "1"
      ]
     },
     "execution_count": 1,
     "metadata": {},
     "output_type": "execute_result"
    }
   ],
   "source": [
    "9 % 4"
   ]
  },
  {
   "cell_type": "code",
   "execution_count": 4,
   "id": "9625f625",
   "metadata": {},
   "outputs": [
    {
     "data": {
      "text/plain": [
       "10"
      ]
     },
     "execution_count": 4,
     "metadata": {},
     "output_type": "execute_result"
    }
   ],
   "source": [
    "b = 5\n",
    "a = 10\n",
    "b = a\n",
    "b"
   ]
  },
  {
   "cell_type": "code",
   "execution_count": 5,
   "id": "08e3376d",
   "metadata": {},
   "outputs": [
    {
     "data": {
      "text/plain": [
       "int"
      ]
     },
     "execution_count": 5,
     "metadata": {},
     "output_type": "execute_result"
    }
   ],
   "source": [
    "type(2 // 3)"
   ]
  },
  {
   "cell_type": "code",
   "execution_count": 6,
   "id": "500e3f68",
   "metadata": {},
   "outputs": [
    {
     "data": {
      "text/plain": [
       "int"
      ]
     },
     "execution_count": 6,
     "metadata": {},
     "output_type": "execute_result"
    }
   ],
   "source": [
    "type(2 % 3)"
   ]
  },
  {
   "cell_type": "code",
   "execution_count": 7,
   "id": "2de7ec08",
   "metadata": {},
   "outputs": [
    {
     "name": "stdout",
     "output_type": "stream",
     "text": [
      "1234\n"
     ]
    }
   ],
   "source": [
    "print(\"12\"+\"34\")"
   ]
  },
  {
   "cell_type": "code",
   "execution_count": 8,
   "id": "274d02d5",
   "metadata": {},
   "outputs": [
    {
     "data": {
      "text/plain": [
       "'1230'"
      ]
     },
     "execution_count": 8,
     "metadata": {},
     "output_type": "execute_result"
    }
   ],
   "source": [
    "a = \"123\"\n",
    "if a > \"a\":\n",
    "    a += \"4\"\n",
    "else:\n",
    "    a += \"0\"\n",
    "a"
   ]
  },
  {
   "cell_type": "code",
   "execution_count": 9,
   "id": "9bbbfb67",
   "metadata": {},
   "outputs": [
    {
     "data": {
      "text/plain": [
       "'cola'"
      ]
     },
     "execution_count": 9,
     "metadata": {},
     "output_type": "execute_result"
    }
   ],
   "source": [
    "age = 18\n",
    "if age > 10:\n",
    "    drink = \"cola\"\n",
    "elif age > 16:\n",
    "    drink = \"beer\"\n",
    "elif age > 18:\n",
    "    drink = \"whiskey\"\n",
    "else:\n",
    "    drink = \"milk\"\n",
    "    \n",
    "drink"
   ]
  },
  {
   "cell_type": "code",
   "execution_count": 13,
   "id": "5bd9877c",
   "metadata": {},
   "outputs": [
    {
     "name": "stdout",
     "output_type": "stream",
     "text": [
      "17 False\n",
      "18 False\n",
      "14 True\n",
      "16 True\n",
      "15 False\n"
     ]
    }
   ],
   "source": [
    "for a in [17, 18, 14, 16, 15]:\n",
    "    print(a, a > 10 and not(a > 20) and a % 2 == 0 and a % 3 != 0)"
   ]
  },
  {
   "cell_type": "code",
   "execution_count": 14,
   "id": "01c412e6",
   "metadata": {},
   "outputs": [
    {
     "data": {
      "text/plain": [
       "[1, 2, 3, 1, 2, 3, 1, 2, 3]"
      ]
     },
     "execution_count": 14,
     "metadata": {},
     "output_type": "execute_result"
    }
   ],
   "source": [
    "[1, 2, 3] * 3"
   ]
  },
  {
   "cell_type": "code",
   "execution_count": 15,
   "id": "89eeef6c",
   "metadata": {},
   "outputs": [
    {
     "data": {
      "text/plain": [
       "[1, 3, 5, 2, 4, 6]"
      ]
     },
     "execution_count": 15,
     "metadata": {},
     "output_type": "execute_result"
    }
   ],
   "source": [
    "[1,3,5] + [2,4,6]"
   ]
  },
  {
   "cell_type": "code",
   "execution_count": 18,
   "id": "a279bf7c",
   "metadata": {},
   "outputs": [
    {
     "data": {
      "text/plain": [
       "[1, 1, 1, 2, 2, 3]"
      ]
     },
     "execution_count": 18,
     "metadata": {},
     "output_type": "execute_result"
    }
   ],
   "source": [
    "list1 = [1,1,1,2,2,2,3]\n",
    "list1.remove(2)\n",
    "list1"
   ]
  },
  {
   "cell_type": "code",
   "execution_count": 19,
   "id": "91fc94bd",
   "metadata": {},
   "outputs": [
    {
     "data": {
      "text/plain": [
       "4"
      ]
     },
     "execution_count": 19,
     "metadata": {},
     "output_type": "execute_result"
    }
   ],
   "source": [
    "list1 = [1,4,7,9]\n",
    "for i in list1:\n",
    "    if i % 2 == 0:\n",
    "        x = i\n",
    "x"
   ]
  },
  {
   "cell_type": "code",
   "execution_count": 20,
   "id": "699fbd4d",
   "metadata": {},
   "outputs": [
    {
     "data": {
      "text/plain": [
       "[1, 3, 5, 7]"
      ]
     },
     "execution_count": 20,
     "metadata": {},
     "output_type": "execute_result"
    }
   ],
   "source": [
    "list(range(1,9,2))"
   ]
  },
  {
   "cell_type": "code",
   "execution_count": 21,
   "id": "2af9256d",
   "metadata": {},
   "outputs": [
    {
     "data": {
      "text/plain": [
       "[4, 2, 0]"
      ]
     },
     "execution_count": 21,
     "metadata": {},
     "output_type": "execute_result"
    }
   ],
   "source": [
    "list1 = list(range(5))\n",
    "list2 = [x for x in list1 if x % 2 == 0]\n",
    "list2 = list2[::-1]\n",
    "list2"
   ]
  },
  {
   "cell_type": "code",
   "execution_count": 22,
   "id": "55deb86b",
   "metadata": {},
   "outputs": [
    {
     "data": {
      "text/plain": [
       "1980"
      ]
     },
     "execution_count": 22,
     "metadata": {},
     "output_type": "execute_result"
    }
   ],
   "source": [
    "student = (\"potter\", \"harry\", \"gryffindor\", \"hogwarts\", (1980, \"july\", 31))\n",
    "a = student[-1][0]\n",
    "a"
   ]
  },
  {
   "cell_type": "code",
   "execution_count": 23,
   "id": "e89d47ee",
   "metadata": {},
   "outputs": [
    {
     "data": {
      "text/plain": [
       "{'peter': 234, 'paul': 456, 'mary': 789}"
      ]
     },
     "execution_count": 23,
     "metadata": {},
     "output_type": "execute_result"
    }
   ],
   "source": [
    "tel = {\"peter\": 123, \"paul\": 456, \"mary\": 789}\n",
    "tel[\"peter\"] = 234\n",
    "tel"
   ]
  },
  {
   "cell_type": "code",
   "execution_count": 24,
   "id": "a03ebeca",
   "metadata": {},
   "outputs": [
    {
     "ename": "KeyError",
     "evalue": "1",
     "output_type": "error",
     "traceback": [
      "\u001b[1;31m---------------------------------------------------------------------------\u001b[0m",
      "\u001b[1;31mKeyError\u001b[0m                                  Traceback (most recent call last)",
      "Input \u001b[1;32mIn [24]\u001b[0m, in \u001b[0;36m<cell line: 2>\u001b[1;34m()\u001b[0m\n\u001b[0;32m      1\u001b[0m studs \u001b[38;5;241m=\u001b[39m {\u001b[38;5;241m1123\u001b[39m: \u001b[38;5;124m\"\u001b[39m\u001b[38;5;124mharry\u001b[39m\u001b[38;5;124m\"\u001b[39m, \u001b[38;5;241m234\u001b[39m: \u001b[38;5;124m\"\u001b[39m\u001b[38;5;124mhermione\u001b[39m\u001b[38;5;124m\"\u001b[39m, \u001b[38;5;241m345\u001b[39m: \u001b[38;5;124m\"\u001b[39m\u001b[38;5;124mron\u001b[39m\u001b[38;5;124m\"\u001b[39m}\n\u001b[1;32m----> 2\u001b[0m a \u001b[38;5;241m=\u001b[39m \u001b[43mstuds\u001b[49m\u001b[43m[\u001b[49m\u001b[38;5;241;43m1\u001b[39;49m\u001b[43m]\u001b[49m\n\u001b[0;32m      3\u001b[0m a\n",
      "\u001b[1;31mKeyError\u001b[0m: 1"
     ]
    }
   ],
   "source": [
    "studs = {1123: \"harry\", 234: \"hermione\", 345: \"ron\"}\n",
    "a = studs[1]\n",
    "a"
   ]
  },
  {
   "cell_type": "code",
   "execution_count": 26,
   "id": "e8095761",
   "metadata": {},
   "outputs": [
    {
     "data": {
      "text/plain": [
       "54"
      ]
     },
     "execution_count": 26,
     "metadata": {},
     "output_type": "execute_result"
    }
   ],
   "source": [
    "a = 0\n",
    "i = 1\n",
    "while i < 10:\n",
    "    i += 1\n",
    "    a += i\n",
    "a"
   ]
  },
  {
   "cell_type": "code",
   "execution_count": 27,
   "id": "200b689e",
   "metadata": {},
   "outputs": [
    {
     "data": {
      "text/plain": [
       "['yesterday,', 'let', 'it', 'be,', 'help,', 'something']"
      ]
     },
     "execution_count": 27,
     "metadata": {},
     "output_type": "execute_result"
    }
   ],
   "source": [
    "\"yesterday, let it be, help, something\".split()"
   ]
  },
  {
   "cell_type": "code",
   "execution_count": 29,
   "id": "08d4d403",
   "metadata": {},
   "outputs": [
    {
     "ename": "AttributeError",
     "evalue": "'float' object has no attribute 'isdecimal'",
     "output_type": "error",
     "traceback": [
      "\u001b[1;31m---------------------------------------------------------------------------\u001b[0m",
      "\u001b[1;31mAttributeError\u001b[0m                            Traceback (most recent call last)",
      "Input \u001b[1;32mIn [29]\u001b[0m, in \u001b[0;36m<cell line: 2>\u001b[1;34m()\u001b[0m\n\u001b[0;32m      1\u001b[0m a \u001b[38;5;241m=\u001b[39m \u001b[38;5;241m12.0\u001b[39m\n\u001b[1;32m----> 2\u001b[0m \u001b[43ma\u001b[49m\u001b[38;5;241;43m.\u001b[39;49m\u001b[43misdecimal\u001b[49m()\n",
      "\u001b[1;31mAttributeError\u001b[0m: 'float' object has no attribute 'isdecimal'"
     ]
    }
   ],
   "source": [
    "a = 12.0\n",
    "a.isdecimal()"
   ]
  },
  {
   "cell_type": "code",
   "execution_count": 31,
   "id": "021939f0",
   "metadata": {},
   "outputs": [
    {
     "name": "stdout",
     "output_type": "stream",
     "text": [
      "7\n"
     ]
    }
   ],
   "source": [
    "def f1():\n",
    "    return 7\n",
    "    return 8\n",
    "\n",
    "print(f1())"
   ]
  },
  {
   "cell_type": "code",
   "execution_count": 32,
   "id": "276985b6",
   "metadata": {},
   "outputs": [
    {
     "name": "stdout",
     "output_type": "stream",
     "text": [
      "6\n"
     ]
    }
   ],
   "source": [
    "def f5():\n",
    "    return 3\n",
    "    print(4)\n",
    "    \n",
    "print(f5() + f5())"
   ]
  },
  {
   "cell_type": "code",
   "execution_count": 33,
   "id": "a0f21317",
   "metadata": {},
   "outputs": [
    {
     "name": "stdout",
     "output_type": "stream",
     "text": [
      "6 12 24 10\n"
     ]
    }
   ],
   "source": [
    "def f1(x=2, y=3):\n",
    "    return x * y\n",
    "\n",
    "print(f1(), f1(3, 4), f1(8), f1(y=5))"
   ]
  },
  {
   "cell_type": "code",
   "execution_count": 34,
   "id": "e6b4fc3b",
   "metadata": {},
   "outputs": [
    {
     "name": "stdout",
     "output_type": "stream",
     "text": [
      "13\n",
      "4\n"
     ]
    }
   ],
   "source": [
    "def f3(x):\n",
    "    x += 10\n",
    "    print(x)\n",
    "    \n",
    "x = 3\n",
    "f3(x)\n",
    "print(x + 1)"
   ]
  },
  {
   "cell_type": "code",
   "execution_count": 35,
   "id": "6e27d656",
   "metadata": {},
   "outputs": [
    {
     "name": "stdout",
     "output_type": "stream",
     "text": [
      "16\n"
     ]
    }
   ],
   "source": [
    "def f1(i):\n",
    "    return i ** 2\n",
    "\n",
    "def f2(j):\n",
    "    return (f1(j + 1))\n",
    "\n",
    "print(f2(3))"
   ]
  },
  {
   "cell_type": "markdown",
   "id": "5fb0fcba",
   "metadata": {},
   "source": [
    "## Part 2"
   ]
  },
  {
   "cell_type": "markdown",
   "id": "464c7610",
   "metadata": {},
   "source": [
    "**Wordle in Python**\n",
    "\n",
    "Your task for the final assignment is to implement a [Wordle](https://en.wikipedia.org/wiki/Wordle) clone in Python. The basis for your version of Wordle is the file `5_letter_words.txt` [[1]](https://www-cs-faculty.stanford.edu/~knuth/sgb.html). It contains more than 5,700 five letter words. \n",
    "\n",
    "In order to build your version of Wordle perform the following steps:\n",
    "\n",
    "1. Implement a function `word_list()` that reads the `5_letter_words.txt` file and returns a list of the words in the file.\n",
    "2. Implement a function `random_word()` that takes a list of words as a parameter and returns a random word from this list.\n",
    "3. Implement a function `is_real_word()` that takes two parameters, a guess and a word list and returns `True` if the word is in the word list and `False` otherwise.\n",
    "4. Implement a function `check_guess()` that takes two parameters. The first is the guessed word and the second is the word the user has to find. `check_guess()` returns a string containing the following characters:\n",
    "    - `X` for each character in the guess that is at the correct position.\n",
    "    - `O` for each character in the guess that is in the word but not at the correct position.\n",
    "    - `_` for each character in the guess that is not part of the word. For example, `check_guess(\"birds\", \"words\")` should return `__XXX`.\n",
    "    - If a letter is used twice in the guessed word and exists only once in the word to be found, then only one letter in the return string is marked. In case one of the two letters is positioned correctly, then this letter is marked with an `X` in the return string. For example, `check_guess(\"carat\", \"train\")` should return `_OO_O`. Another example, `check_guess(\"taunt\", \"train\")` should return `XO_O_`\n",
    "5. Implement a function `next_guess()` that takes a word list as a parameter. The function asks the user for a guess, converts the guess to lower case and checks if the guess is in the word list. If this is the case, the guess is returned. Otherwise, the function asks the user for another guess.\n",
    "6. Implement a function `play()` that:\n",
    "    - Uses the functions `word_list` and `random_word` to select a random 5 letter word.\n",
    "    - Asks the user for a guess using the `next_guess` function.\n",
    "    - Checks each guess using the `check_guess` function and shows the result to the user.\n",
    "    - Checks if the users guessed the right word with six guesses or less. If yes, the user wins and the function prints `You won!`. Otherwise the user loses and the function prints `You lost!` as well as `The word was:` followed by word the user had to find."
   ]
  },
  {
   "cell_type": "markdown",
   "id": "7aa62214",
   "metadata": {},
   "source": [
    "Below is an example execution of the program:\n",
    "\n",
    "```\n",
    "Please enter a guess: aaaaa\n",
    "That's not a real word!\n",
    "Please enter a guess: bbbbb\n",
    "That's not a real word!\n",
    "Please enter a guess: hello\n",
    "____O\n",
    "Please enter a guess: world\n",
    "_OO__\n",
    "Please enter a guess: story\n",
    "O_OO_\n",
    "Please enter a guess: hours\n",
    "_O_OO\n",
    "Please enter a guess: works\n",
    "_OO_O\n",
    "Please enter a guess: crops\n",
    "_OO_O\n",
    "You lost!\n",
    "The word was: visor\n",
    "```"
   ]
  },
  {
   "cell_type": "markdown",
   "id": "2d0e8456",
   "metadata": {},
   "source": [
    "And here is another example execution of the program:\n",
    "\n",
    "```\n",
    "Please enter a guess: hello\n",
    "OO___\n",
    "Please enter a guess: there\n",
    "XXX_X\n",
    "Please enter a guess: these\n",
    "XXXXX\n",
    "You won!\n",
    "```"
   ]
  },
  {
   "cell_type": "markdown",
   "id": "46485714",
   "metadata": {},
   "source": [
    "### Solution"
   ]
  },
  {
   "cell_type": "code",
   "execution_count": 46,
   "id": "1f1fa2cf",
   "metadata": {},
   "outputs": [],
   "source": [
    "import random"
   ]
  },
  {
   "cell_type": "code",
   "execution_count": 44,
   "id": "14779e06",
   "metadata": {},
   "outputs": [],
   "source": [
    "def word_list():\n",
    "    \"\"\"\n",
    "    Reads the '5_letter_words.txt' file and retuns a list of the words in the file.\n",
    "    \"\"\"\n",
    "    words = []\n",
    "    with open(\"5_letter_words.txt\", \"r\") as file:\n",
    "        for line in file:\n",
    "            words.append(line.strip())\n",
    "    return words"
   ]
  },
  {
   "cell_type": "code",
   "execution_count": 47,
   "id": "36c1d839",
   "metadata": {},
   "outputs": [],
   "source": [
    "def random_word(words):\n",
    "    \"\"\"\n",
    "    Takes a list of words as a parameter and returns a random word from the list.\n",
    "    \"\"\"\n",
    "    return random.choice(words)"
   ]
  },
  {
   "cell_type": "code",
   "execution_count": 52,
   "id": "67075a68",
   "metadata": {},
   "outputs": [
    {
     "data": {
      "text/plain": [
       "'geese'"
      ]
     },
     "execution_count": 52,
     "metadata": {},
     "output_type": "execute_result"
    }
   ],
   "source": [
    "random_word(word_list())"
   ]
  },
  {
   "cell_type": "code",
   "execution_count": 53,
   "id": "32f1514b",
   "metadata": {},
   "outputs": [],
   "source": [
    "def is_real_word(guess, words):\n",
    "    \"\"\"\n",
    "    Takes two parameters, a guess and a word list, and returns True if the guess is in the word list and False otherwise.\n",
    "    \"\"\"\n",
    "    return guess in words"
   ]
  },
  {
   "cell_type": "code",
   "execution_count": 56,
   "id": "c60617e8",
   "metadata": {},
   "outputs": [
    {
     "data": {
      "text/plain": [
       "False"
      ]
     },
     "execution_count": 56,
     "metadata": {},
     "output_type": "execute_result"
    }
   ],
   "source": [
    "is_real_word(\"that\", word_list())"
   ]
  },
  {
   "cell_type": "code",
   "execution_count": 130,
   "id": "974a7117",
   "metadata": {},
   "outputs": [],
   "source": [
    "def check_guess(guess, target):\n",
    "    \"\"\"\n",
    "    Takes 2 parameters, a guess and a target word, and returns a string based on the characters in the guess word that match those in the target word.\n",
    "    \"\"\"\n",
    "    check = \"\"\n",
    "    idx = 0\n",
    "    for char in guess:\n",
    "        if char in target and char == target[idx]:\n",
    "            check += \"X\"\n",
    "            target = target.replace(char, \" \", 1)\n",
    "        elif char in target:\n",
    "            check += \"O\"\n",
    "            target = target.replace(char, \" \", 1)\n",
    "        else:\n",
    "            check += \"_\"\n",
    "        idx += 1\n",
    "    return check"
   ]
  },
  {
   "cell_type": "code",
   "execution_count": 172,
   "id": "bc8ceb3d",
   "metadata": {},
   "outputs": [],
   "source": [
    "def check_guess(guess, target):\n",
    "    \"\"\"\n",
    "    Takes 2 parameters, a guess and a target word, and returns a string based on the characters in the guess word that match those in the target word.\n",
    "    X for each character in the guess that is at the correct position. \n",
    "    O for each character in the guess that is in the word but not at the correct position. \n",
    "    _ for each character in the guess that is not part of the word. \n",
    "    If a letter is used twice in the guessed word and exists only once in the word to be found, then only one letter in the return string is marked. \n",
    "    In case one of the two letters is positioned correctly, then this letter is marked with an X in the return string.\n",
    "    \"\"\"\n",
    "    check = [\"_\"] * len(guess)\n",
    "    \n",
    "    # First find each character in the guess is at the correct position in the target.\n",
    "    # Then replace that character in the guess and target with 2 different type of placeholders.\n",
    "    idx = 0\n",
    "    for char in guess:\n",
    "        if char == target[idx]:\n",
    "            check[idx] = \"X\"\n",
    "        idx += 1\n",
    "\n",
    "    # Then find each character in the guess that is in the target but not at the correct position or each character in the guess that is not part of the target.\n",
    "    idx = 0\n",
    "    for char in guess:\n",
    "        if char in target and check[idx] == \"X\":\n",
    "            target = target.replace(char, \"_\", 1)\n",
    "        elif char in target and check[idx] != \"X\":\n",
    "            check[idx] = \"O\"\n",
    "            target = target.replace(char, \"_\", 1)\n",
    "        else:\n",
    "            check[idx] = \"_\"\n",
    "        idx += 1\n",
    "    \n",
    "    return \"\".join(check)"
   ]
  },
  {
   "cell_type": "code",
   "execution_count": 173,
   "id": "6a2da332",
   "metadata": {},
   "outputs": [
    {
     "data": {
      "text/plain": [
       "['_', '_', '_', '_', '_']"
      ]
     },
     "execution_count": 173,
     "metadata": {},
     "output_type": "execute_result"
    }
   ],
   "source": [
    "[\"_\"] * 5"
   ]
  },
  {
   "cell_type": "code",
   "execution_count": 174,
   "id": "0e338b67",
   "metadata": {},
   "outputs": [
    {
     "data": {
      "text/plain": [
       "'XXXXX'"
      ]
     },
     "execution_count": 174,
     "metadata": {},
     "output_type": "execute_result"
    }
   ],
   "source": [
    "check_guess(\"goose\", \"goose\")"
   ]
  },
  {
   "cell_type": "code",
   "execution_count": 175,
   "id": "cee5eea2",
   "metadata": {},
   "outputs": [
    {
     "data": {
      "text/plain": [
       "'X__XX'"
      ]
     },
     "execution_count": 175,
     "metadata": {},
     "output_type": "execute_result"
    }
   ],
   "source": [
    "check_guess(\"goose\", \"geese\")"
   ]
  },
  {
   "cell_type": "code",
   "execution_count": 176,
   "id": "b93b047d",
   "metadata": {},
   "outputs": [
    {
     "data": {
      "text/plain": [
       "'__XXX'"
      ]
     },
     "execution_count": 176,
     "metadata": {},
     "output_type": "execute_result"
    }
   ],
   "source": [
    "check_guess(\"birds\", \"words\")"
   ]
  },
  {
   "cell_type": "code",
   "execution_count": 177,
   "id": "57ff5a93",
   "metadata": {},
   "outputs": [
    {
     "data": {
      "text/plain": [
       "'_OO_O'"
      ]
     },
     "execution_count": 177,
     "metadata": {},
     "output_type": "execute_result"
    }
   ],
   "source": [
    "check_guess(\"carat\", \"train\")"
   ]
  },
  {
   "cell_type": "code",
   "execution_count": 178,
   "id": "28178fda",
   "metadata": {},
   "outputs": [
    {
     "data": {
      "text/plain": [
       "'XO_O_'"
      ]
     },
     "execution_count": 178,
     "metadata": {},
     "output_type": "execute_result"
    }
   ],
   "source": [
    "check_guess(\"taunt\", \"train\")"
   ]
  },
  {
   "cell_type": "code",
   "execution_count": 179,
   "id": "bef9c2a3",
   "metadata": {},
   "outputs": [
    {
     "data": {
      "text/plain": [
       "'_O_XO'"
      ]
     },
     "execution_count": 179,
     "metadata": {},
     "output_type": "execute_result"
    }
   ],
   "source": [
    "check_guess(\"cocoa\", \"taboo\")"
   ]
  },
  {
   "cell_type": "code",
   "execution_count": 106,
   "id": "17a537f4",
   "metadata": {},
   "outputs": [],
   "source": [
    "def next_guess(words):\n",
    "    \"\"\"\n",
    "    Takes a word list as a parameter. \n",
    "    Asks the user for a guess, converts the guess to lower case and checks if the guess is in the word list.\n",
    "    If True, return the guess, otherwise ask the user for another guess.\n",
    "    \"\"\"\n",
    "    guess = \"\"\n",
    "    while guess not in words:\n",
    "        guess = input(\"Please enter a guess: \").lower()\n",
    "    if not is_real_word(guess, words):\n",
    "        print(\"That's not a real word!\")\n",
    "        next_guess(words)\n",
    "    return guess"
   ]
  },
  {
   "cell_type": "code",
   "execution_count": 108,
   "id": "c74164de",
   "metadata": {},
   "outputs": [],
   "source": [
    "def next_guess(words):\n",
    "    \"\"\"\n",
    "    Takes a word list as a parameter. \n",
    "    Asks the user for a guess, converts the guess to lower case and checks if the guess is in the word list.\n",
    "    If True, return the guess, otherwise ask the user for another guess.\n",
    "    \"\"\"\n",
    "    guess = input(\"Please enter a guess: \").lower()\n",
    "    \n",
    "    while guess not in words:\n",
    "        print(\"That's not a real word!\")\n",
    "        guess = input(\"Please enter a guess: \").lower()\n",
    "    return guess"
   ]
  },
  {
   "cell_type": "code",
   "execution_count": 109,
   "id": "850f7614",
   "metadata": {},
   "outputs": [
    {
     "name": "stdout",
     "output_type": "stream",
     "text": [
      "Please enter a guess: sakir\n",
      "That's not a real word!\n",
      "Please enter a guess: sauce\n"
     ]
    },
    {
     "data": {
      "text/plain": [
       "'sauce'"
      ]
     },
     "execution_count": 109,
     "metadata": {},
     "output_type": "execute_result"
    }
   ],
   "source": [
    "next_guess(word_list())"
   ]
  },
  {
   "cell_type": "code",
   "execution_count": 104,
   "id": "d15e7343",
   "metadata": {},
   "outputs": [
    {
     "data": {
      "text/plain": [
       "'pupal'"
      ]
     },
     "execution_count": 104,
     "metadata": {},
     "output_type": "execute_result"
    }
   ],
   "source": [
    "words = word_list()\n",
    "words[-1]"
   ]
  },
  {
   "cell_type": "code",
   "execution_count": 105,
   "id": "390aba5c",
   "metadata": {},
   "outputs": [
    {
     "name": "stdout",
     "output_type": "stream",
     "text": [
      "Please enter a guess: sakir\n",
      "That's not a real word!\n",
      "Please enter a guess: sauce\n"
     ]
    }
   ],
   "source": [
    "next_guess(word_list())"
   ]
  },
  {
   "cell_type": "code",
   "execution_count": 99,
   "id": "53f77263",
   "metadata": {},
   "outputs": [],
   "source": [
    "def play():\n",
    "    tries = 6\n",
    "    answer = \"XXXXX\"\n",
    "    \n",
    "    words = word_list()\n",
    "    target = random_word(words)\n",
    "    \n",
    "    for i in range(tries):\n",
    "        guess = next_guess(words)\n",
    "        print(guess)\n",
    "        result = check_guess(guess, target)\n",
    "        print(result)\n",
    "        if result == answer:\n",
    "            return \"You won!\"\n",
    "    return f\"You lost!\\nThe word was: {target}\""
   ]
  },
  {
   "cell_type": "code",
   "execution_count": null,
   "id": "6ecc0614",
   "metadata": {},
   "outputs": [],
   "source": []
  },
  {
   "cell_type": "code",
   "execution_count": 110,
   "id": "b2da2bf8",
   "metadata": {},
   "outputs": [
    {
     "name": "stdout",
     "output_type": "stream",
     "text": [
      "Please enter a guess: house\n",
      "house\n",
      "_X_OO\n",
      "Please enter a guess: shoes\n",
      "shoes\n",
      "O_OX_\n",
      "Please enter a guess: loser\n",
      "loser\n",
      "_XOX_\n",
      "Please enter a guess: boxes\n",
      "boxes\n",
      "_X_XX\n",
      "Please enter a guess: ropes\n",
      "ropes\n",
      "_XXXX\n",
      "Please enter a guess: hopes\n",
      "hopes\n",
      "_XXXX\n"
     ]
    },
    {
     "data": {
      "text/plain": [
       "'The word was: popes'"
      ]
     },
     "execution_count": 110,
     "metadata": {},
     "output_type": "execute_result"
    }
   ],
   "source": [
    "play()"
   ]
  },
  {
   "cell_type": "code",
   "execution_count": 111,
   "id": "d3e89d00",
   "metadata": {},
   "outputs": [
    {
     "name": "stdout",
     "output_type": "stream",
     "text": [
      "Please enter a guess: super\n",
      "super\n",
      "___OX\n",
      "Please enter a guess: their\n",
      "their\n",
      "__O_X\n",
      "Please enter a guess: ether\n",
      "ether\n",
      "O___X\n",
      "Please enter a guess: fedar\n",
      "That's not a real word!\n",
      "Please enter a guess: dunes\n",
      "dunes\n",
      "X__O_\n",
      "Please enter a guess: debar\n",
      "debar\n",
      "XXXXX\n"
     ]
    },
    {
     "data": {
      "text/plain": [
       "'You won!'"
      ]
     },
     "execution_count": 111,
     "metadata": {},
     "output_type": "execute_result"
    }
   ],
   "source": [
    "play()"
   ]
  },
  {
   "cell_type": "code",
   "execution_count": 112,
   "id": "af89645e",
   "metadata": {},
   "outputs": [
    {
     "name": "stdout",
     "output_type": "stream",
     "text": [
      "Please enter a guess: frost\n",
      "frost\n",
      "___O_\n",
      "Please enter a guess: sauce\n",
      "sauce\n",
      "O____\n",
      "Please enter a guess: sixes\n",
      "sixes\n",
      "OO___\n",
      "Please enter a guess: risks\n",
      "risks\n",
      "_OO__\n",
      "Please enter a guess: milks\n",
      "milks\n",
      "_O__X\n",
      "Please enter a guess: bites\n",
      "bites\n",
      "_O__X\n"
     ]
    },
    {
     "data": {
      "text/plain": [
       "'The word was: whips'"
      ]
     },
     "execution_count": 112,
     "metadata": {},
     "output_type": "execute_result"
    }
   ],
   "source": [
    "play()"
   ]
  },
  {
   "cell_type": "code",
   "execution_count": 113,
   "id": "cf1ecb7d",
   "metadata": {},
   "outputs": [
    {
     "name": "stdout",
     "output_type": "stream",
     "text": [
      "Please enter a guess: learn\n",
      "learn\n",
      "__X__\n",
      "Please enter a guess: plank\n",
      "plank\n",
      "__X__\n",
      "Please enter a guess: bathe\n",
      "bathe\n",
      "_O___\n",
      "Please enter a guess: drops\n",
      "drops\n",
      "O___X\n",
      "Please enter a guess: grads\n",
      "grads\n",
      "__XXX\n",
      "Please enter a guess: piads\n",
      "That's not a real word!\n",
      "Please enter a guess: miads\n",
      "That's not a real word!\n",
      "Please enter a guess: viads\n",
      "That's not a real word!\n",
      "Please enter a guess: diads\n",
      "That's not a real word!\n",
      "Please enter a guess: clads\n",
      "clads\n",
      "O_XXX\n"
     ]
    },
    {
     "data": {
      "text/plain": [
       "'The word was: scads'"
      ]
     },
     "execution_count": 113,
     "metadata": {},
     "output_type": "execute_result"
    }
   ],
   "source": [
    "play()"
   ]
  },
  {
   "cell_type": "code",
   "execution_count": 114,
   "id": "451762f0",
   "metadata": {},
   "outputs": [
    {
     "name": "stdout",
     "output_type": "stream",
     "text": [
      "Please enter a guess: eaves\n",
      "eaves\n",
      "_____\n",
      "Please enter a guess: birth\n",
      "birth\n",
      "_____\n",
      "Please enter a guess: clock\n",
      "clock\n",
      "XXX__\n",
      "Please enter a guess: cloak\n",
      "cloak\n",
      "XXX__\n",
      "Please enter a guess: cloth\n",
      "cloth\n",
      "XXX__\n",
      "Please enter a guess: clots\n",
      "clots\n",
      "XXX__\n"
     ]
    },
    {
     "data": {
      "text/plain": [
       "'The word was: clomp'"
      ]
     },
     "execution_count": 114,
     "metadata": {},
     "output_type": "execute_result"
    }
   ],
   "source": [
    "play()"
   ]
  },
  {
   "cell_type": "code",
   "execution_count": 115,
   "id": "424e983b",
   "metadata": {},
   "outputs": [
    {
     "name": "stdout",
     "output_type": "stream",
     "text": [
      "Please enter a guess: dirty\n",
      "dirty\n",
      "_O_O_\n",
      "Please enter a guess: third\n",
      "third\n",
      "O_X__\n",
      "Please enter a guess: flint\n",
      "flint\n",
      "_OX_O\n",
      "Please enter a guess: utill\n",
      "That's not a real word!\n",
      "Please enter a guess: atilo\n",
      "That's not a real word!\n",
      "Please enter a guess: speak\n",
      "speak\n",
      "X____\n",
      "Please enter a guess: still\n",
      "still\n",
      "XXXXX\n"
     ]
    },
    {
     "data": {
      "text/plain": [
       "'You won!'"
      ]
     },
     "execution_count": 115,
     "metadata": {},
     "output_type": "execute_result"
    }
   ],
   "source": [
    "play()"
   ]
  },
  {
   "cell_type": "code",
   "execution_count": null,
   "id": "5a0279ad",
   "metadata": {},
   "outputs": [],
   "source": [
    "import random\n",
    "\n",
    "def word_list():\n",
    "    words = []\n",
    "    with open(\"5_letter_words.txt\", \"r\") as file:\n",
    "        for line in file:\n",
    "            words.append(line.strip())\n",
    "    return words\n",
    "\n",
    "\n",
    "def random_word(words):\n",
    "    return random.choice(words)\n",
    "\n",
    "def is_real_word(guess, words):\n",
    "    return guess in words\n",
    "\n",
    "def check_guess(guess, target):\n",
    "    check = \"\"\n",
    "    idx = 0\n",
    "    for char in guess:\n",
    "        if char in target and char == target[idx]:\n",
    "            check += \"X\"\n",
    "            target = target.replace(char, \" \", 1)\n",
    "        elif char in target:\n",
    "            check += \"O\"\n",
    "            target = target.replace(char, \" \", 1)\n",
    "        else:\n",
    "            check += \"_\"\n",
    "        idx += 1\n",
    "    return check\n",
    "\n",
    "def next_guess(words):\n",
    "    guess = input(\"Please enter a guess: \").lower()\n",
    "    \n",
    "    while guess not in words:\n",
    "        print(\"That's not a real word!\")\n",
    "        guess = input(\"Please enter a guess: \").lower()\n",
    "    return guess\n",
    "\n",
    "def play():\n",
    "    tries = 6\n",
    "    answer = \"XXXXX\"\n",
    "    \n",
    "    words = word_list()\n",
    "    target = random_word(words)\n",
    "    \n",
    "    for _ in range(tries):\n",
    "        guess = next_guess(words)\n",
    "        result = check_guess(guess, target)\n",
    "        print(result)\n",
    "        if result == answer:\n",
    "            print(\"You won!\")\n",
    "            return\n",
    "    print(f\"You lost!\\nThe word was: {target}\")\n",
    "    return"
   ]
  },
  {
   "cell_type": "markdown",
   "id": "ad0f8680",
   "metadata": {},
   "source": [
    "#### Submission"
   ]
  },
  {
   "cell_type": "code",
   "execution_count": null,
   "id": "ce00ce7e",
   "metadata": {},
   "outputs": [],
   "source": [
    "import random\n",
    "\n",
    "def word_list():\n",
    "    words = []\n",
    "    with open(\"5_letter_words.txt\", \"r\") as file:\n",
    "        for line in file:\n",
    "            words.append(line.strip())\n",
    "    return words\n",
    "\n",
    "\n",
    "def random_word(words):\n",
    "    return random.choice(words)\n",
    "\n",
    "def is_real_word(guess, words):\n",
    "    return guess in words\n",
    "\n",
    "def check_guess(guess, target):\n",
    "    check = [\"_\"] * len(guess)\n",
    "    idx = 0\n",
    "    for char in guess:\n",
    "        if char == target[idx]:\n",
    "            check[idx] = \"X\"\n",
    "        idx += 1\n",
    "    idx = 0\n",
    "    for char in guess:\n",
    "        if char in target and check[idx] == \"X\":\n",
    "            target = target.replace(char, \"_\", 1)\n",
    "        elif char in target and check[idx] != \"X\":\n",
    "            check[idx] = \"O\"\n",
    "            target = target.replace(char, \"_\", 1)\n",
    "        else:\n",
    "            check[idx] = \"_\"\n",
    "        idx += 1\n",
    "    \n",
    "    return \"\".join(check)\n",
    "\n",
    "def next_guess(words):\n",
    "    guess = input(\"Please enter a guess: \").lower()\n",
    "    \n",
    "    while guess not in words:\n",
    "        print(\"That's not a real word!\")\n",
    "        guess = input(\"Please enter a guess: \").lower()\n",
    "    return guess\n",
    "\n",
    "def play():\n",
    "    tries = 6\n",
    "    answer = \"XXXXX\"\n",
    "    \n",
    "    words = word_list()\n",
    "    target = random_word(words)\n",
    "    \n",
    "    for _ in range(tries):\n",
    "        guess = next_guess(words)\n",
    "        result = check_guess(guess, target)\n",
    "        print(result)\n",
    "        if result == answer:\n",
    "            print(\"You won!\")\n",
    "            return\n",
    "    print(f\"You lost!\\nThe word was: {target}\")\n",
    "    return\n",
    "    \n",
    "play()"
   ]
  }
 ],
 "metadata": {
  "kernelspec": {
   "display_name": "Python 3 (ipykernel)",
   "language": "python",
   "name": "python3"
  },
  "language_info": {
   "codemirror_mode": {
    "name": "ipython",
    "version": 3
   },
   "file_extension": ".py",
   "mimetype": "text/x-python",
   "name": "python",
   "nbconvert_exporter": "python",
   "pygments_lexer": "ipython3",
   "version": "3.10.4"
  },
  "varInspector": {
   "cols": {
    "lenName": 16,
    "lenType": 16,
    "lenVar": 40
   },
   "kernels_config": {
    "python": {
     "delete_cmd_postfix": "",
     "delete_cmd_prefix": "del ",
     "library": "var_list.py",
     "varRefreshCmd": "print(var_dic_list())"
    },
    "r": {
     "delete_cmd_postfix": ") ",
     "delete_cmd_prefix": "rm(",
     "library": "var_list.r",
     "varRefreshCmd": "cat(var_dic_list()) "
    }
   },
   "types_to_exclude": [
    "module",
    "function",
    "builtin_function_or_method",
    "instance",
    "_Feature"
   ],
   "window_display": false
  }
 },
 "nbformat": 4,
 "nbformat_minor": 5
}
